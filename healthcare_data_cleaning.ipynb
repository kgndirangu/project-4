{
  "cells": [
    {
      "cell_type": "markdown",
      "metadata": {
        "id": "view-in-github",
        "colab_type": "text"
      },
      "source": [
        "<a href=\"https://colab.research.google.com/github/kgndirangu/project-4/blob/main/healthcare_data_cleaning.ipynb\" target=\"_parent\"><img src=\"https://colab.research.google.com/assets/colab-badge.svg\" alt=\"Open In Colab\"/></a>"
      ]
    },
    {
      "cell_type": "code",
      "source": [
        "import os\n",
        "# Find the latest version of spark 3.x  from http://www.apache.org/dist/spark/ and enter as the spark version\n",
        "# For example:\n",
        "# spark_version = 'spark-3.4.0'\n",
        "spark_version = 'spark-3.5.1'\n",
        "os.environ['SPARK_VERSION']=spark_version\n",
        "\n",
        "# Install Spark and Java\n",
        "!apt-get update\n",
        "!apt-get install openjdk-11-jdk-headless -qq > /dev/null\n",
        "!wget -q http://www.apache.org/dist/spark/$SPARK_VERSION/$SPARK_VERSION-bin-hadoop3.tgz\n",
        "!tar xf $SPARK_VERSION-bin-hadoop3.tgz\n",
        "!pip install -q findspark\n",
        "\n",
        "# Set Environment Variables\n",
        "os.environ[\"JAVA_HOME\"] = \"/usr/lib/jvm/java-11-openjdk-amd64\"\n",
        "os.environ[\"SPARK_HOME\"] = f\"/content/{spark_version}-bin-hadoop3\"\n",
        "\n",
        "# Start a SparkSession\n",
        "import findspark\n",
        "findspark.init()"
      ],
      "metadata": {
        "colab": {
          "base_uri": "https://localhost:8080/"
        },
        "id": "2ytpD8nKPdpF",
        "outputId": "f95c32ff-0d27-40ff-858e-1c52eeb9a281"
      },
      "execution_count": null,
      "outputs": [
        {
          "output_type": "stream",
          "name": "stdout",
          "text": [
            "\r0% [Working]\r            \rHit:1 https://developer.download.nvidia.com/compute/cuda/repos/ubuntu2204/x86_64  InRelease\n",
            "\r0% [Connecting to archive.ubuntu.com (91.189.91.81)] [Waiting for headers] [Waiting for headers] [Co\r                                                                                                    \rHit:2 https://cloud.r-project.org/bin/linux/ubuntu jammy-cran40/ InRelease\n",
            "Hit:3 http://archive.ubuntu.com/ubuntu jammy InRelease\n",
            "Get:4 http://archive.ubuntu.com/ubuntu jammy-updates InRelease [119 kB]\n",
            "Get:5 http://security.ubuntu.com/ubuntu jammy-security InRelease [110 kB]\n",
            "Hit:6 http://archive.ubuntu.com/ubuntu jammy-backports InRelease\n",
            "Hit:7 https://ppa.launchpadcontent.net/c2d4u.team/c2d4u4.0+/ubuntu jammy InRelease\n",
            "Hit:8 https://ppa.launchpadcontent.net/deadsnakes/ppa/ubuntu jammy InRelease\n",
            "Hit:9 https://ppa.launchpadcontent.net/graphics-drivers/ppa/ubuntu jammy InRelease\n",
            "Hit:10 https://ppa.launchpadcontent.net/ubuntugis/ppa/ubuntu jammy InRelease\n",
            "Fetched 229 kB in 4s (61.1 kB/s)\n",
            "Reading package lists... Done\n"
          ]
        }
      ]
    },
    {
      "cell_type": "code",
      "source": [
        "!pip install pyarrow\n",
        "!pip install memory_profiler\n"
      ],
      "metadata": {
        "id": "cCRTL6gIXmOk",
        "colab": {
          "base_uri": "https://localhost:8080/"
        },
        "outputId": "ae109e9d-6358-4fca-e737-b485718eb70b"
      },
      "execution_count": null,
      "outputs": [
        {
          "output_type": "stream",
          "name": "stdout",
          "text": [
            "Requirement already satisfied: pyarrow in /usr/local/lib/python3.10/dist-packages (14.0.2)\n",
            "Requirement already satisfied: numpy>=1.16.6 in /usr/local/lib/python3.10/dist-packages (from pyarrow) (1.25.2)\n",
            "Requirement already satisfied: memory_profiler in /usr/local/lib/python3.10/dist-packages (0.61.0)\n",
            "Requirement already satisfied: psutil in /usr/local/lib/python3.10/dist-packages (from memory_profiler) (5.9.5)\n"
          ]
        }
      ]
    },
    {
      "cell_type": "code",
      "execution_count": null,
      "metadata": {
        "id": "bIDbwPdVUgjX"
      },
      "outputs": [],
      "source": [
        "# Import Dependencies\n",
        "from sklearn.model_selection import train_test_split\n",
        "from sklearn.preprocessing import StandardScaler\n",
        "from sklearn.metrics import accuracy_score\n",
        "import pandas as pd\n",
        "import tensorflow as tf\n",
        "from pathlib import Path\n",
        "from sklearn.linear_model import LinearRegression\n",
        "import matplotlib.pyplot as plt\n",
        "import numpy as np\n",
        "from pyspark.sql import SparkSession\n",
        "from pyspark.sql import Row\n",
        "from pyspark.sql.types import StructType,StructField,StringType, DateType,IntegerType\n",
        "from pyspark import SparkFiles\n",
        "from pyspark.ml.feature import StringIndexer, OneHotEncoder\n",
        "from pyspark.ml import Pipeline\n",
        "from pyspark.sql.functions import col\n",
        "import memory_profiler"
      ]
    },
    {
      "cell_type": "markdown",
      "source": [],
      "metadata": {
        "id": "VlgvXIxtaap-"
      }
    },
    {
      "cell_type": "code",
      "source": [
        "# Create a SparkSession\n",
        "spark = SparkSession.builder.appName(\"SparkSQL\").getOrCreate()"
      ],
      "metadata": {
        "id": "iYkwObSGQKO6"
      },
      "execution_count": null,
      "outputs": []
    },
    {
      "cell_type": "code",
      "source": [
        "# Read in data from S3 Buckets\n",
        "\n",
        "url = \"https://project4-ny-health-data-1.s3.amazonaws.com/hospital-inpatient-discharges-sparcs-de-identified-2010-1.csv\"\n",
        "spark.sparkContext.addFile(url)\n",
        "df = spark.read.csv(SparkFiles.get(\"hospital-inpatient-discharges-sparcs-de-identified-2010-1.csv\"), header=True, inferSchema=True, quote=\"\\\"\", escape=\"\\\"\")\n",
        "\n",
        "# Show Spark DataFrame\n",
        "df.show()"
      ],
      "metadata": {
        "colab": {
          "base_uri": "https://localhost:8080/"
        },
        "id": "T-IgZzx9QQMQ",
        "outputId": "1c784882-89d3-4df0-e275-3530a11cb661"
      },
      "execution_count": null,
      "outputs": [
        {
          "output_type": "stream",
          "name": "stdout",
          "text": [
            "+-----+-------------------+---------------+----------------------------+-----------+--------------------+-----------+-------------------+------+--------------------+-----------------+--------------+-----------------+--------------------+--------------+------------------+-------------------------+------------------+-------------------------+------------+--------------------+------------+--------------------+----------------------------+-----------------------------------+---------------------+--------------------------------+--------------------+-------------------+-------------------+---------------------------------+---------------------------------+-----------------------------+------------+-----------------------+------------------------------+-------------+-----------+\n",
            "|index|Health Service Area|Hospital County|Operating Certificate Number|Facility ID|       Facility Name|  Age Group|Zip Code - 3 digits|Gender|                Race|        Ethnicity|Length of Stay|Type of Admission| Patient Disposition|Discharge Year|CCS Diagnosis Code|CCS Diagnosis Description|CCS Procedure Code|CCS Procedure Description|APR DRG Code| APR DRG Description|APR MDC Code| APR MDC Description|APR Severity of Illness Code|APR Severity of Illness Description|APR Risk of Mortality|APR Medical Surgical Description| Source of Payment 1|Source of Payment 2|Source of Payment 3|Attending Provider License Number|Operating Provider License Number|Other Provider License Number|Birth Weight|Abortion Edit Indicator|Emergency Department Indicator|Total Charges|Total Costs|\n",
            "+-----+-------------------+---------------+----------------------------+-----------+--------------------+-----------+-------------------+------+--------------------+-----------------+--------------+-----------------+--------------------+--------------+------------------+-------------------------+------------------+-------------------------+------------+--------------------+------------+--------------------+----------------------------+-----------------------------------+---------------------+--------------------------------+--------------------+-------------------+-------------------+---------------------------------+---------------------------------+-----------------------------+------------+-----------------------+------------------------------+-------------+-----------+\n",
            "|    0|     Capital/Adiron|         Albany|                    101000.0|        1.0|Albany Medical Ce...|   18 to 29|               NULL|     F|               White|Not Span/Hispanic|             1|        Emergency|   Home or Self Care|          2010|             135.0|     INTESTINAL INFECTION|               0.0|                  NO PROC|         249|NON-BACTERIAL GAS...|           6|Diseases and Diso...|                           1|                              Minor|                Minor|                         Medical|          Blue Cross|           Self-Pay|               NULL|                           3623.0|                             NULL|                         NULL|           0|                      N|                             Y|      4476.23|    1672.65|\n",
            "|    1|     Capital/Adiron|         Albany|                    101000.0|        1.0|Albany Medical Ce...|   50 to 69|               NULL|     M|               White|Not Span/Hispanic|            15|        Emergency|Home w/ Home Heal...|          2010|             231.0|           OTHER FRACTURE|              61.0|     OT OR PRCS VES NO...|         912|MUSCULOSKELETAL &...|          25|Multiple Signific...|                           3|                              Major|              Extreme|                        Surgical|   Insurance Company|           Medicare|         Blue Cross|                         216951.0|                         216951.0|                         NULL|           0|                      N|                             Y|    148612.34|    51414.7|\n",
            "|    2|     Capital/Adiron|         Albany|                    101000.0|        1.0|Albany Medical Ce...|70 or Older|               NULL|     M|               White|Not Span/Hispanic|             3|        Emergency|Home w/ Home Heal...|          2010|              42.0|     SECONDARY MALIGNANCY|               0.0|                  NO PROC|         240|DIGESTIVE MALIGNANCY|           6|Diseases and Diso...|                           3|                              Major|                Major|                         Medical|            Medicare|         Blue Cross|           Self-Pay|                           3076.0|                             NULL|                         NULL|           0|                      N|                             N|     16561.99|    4032.49|\n",
            "|    3|     Capital/Adiron|         Albany|                    101000.0|        1.0|Albany Medical Ce...|70 or Older|               NULL|     F|               White|Not Span/Hispanic|             5|         Elective|Home w/ Home Heal...|          2010|             254.0|     REHAB/PROSTH FIT/...|             215.0|       OT PHYS THER/REHAB|         860|      REHABILITATION|          23|Rehabilitation, A...|                           2|                           Moderate|                Minor|                         Medical|            Medicare|  Insurance Company|           Self-Pay|                         140796.0|                         140796.0|                     170254.0|           0|                      N|                             N|     13593.51|    4947.81|\n",
            "|    4|     Capital/Adiron|         Albany|                    101000.0|        1.0|Albany Medical Ce...|70 or Older|               NULL|     F|               White|Not Span/Hispanic|             4|         Elective|Inpatient Rehabil...|          2010|             203.0|           OSTEOARTHRITIS|             153.0|     HIP REPLACEMENT,T...|         301|HIP JOINT REPLACE...|           8|Diseases and Diso...|                           1|                              Minor|                Minor|                        Surgical|            Medicare|  Insurance Company|           Self-Pay|                         170254.0|                         170254.0|                     170254.0|           0|                      N|                             N|     31962.58|   16988.33|\n",
            "|    5|     Capital/Adiron|         Albany|                    101000.0|        1.0|Albany Medical Ce...|    0 to 17|              100.0|     M|               White|Not Span/Hispanic|             3|        Emergency|   Home or Self Care|          2010|             234.0|     CRUSH/INTERNAL IN...|               0.0|                  NO PROC|         930|MULTIPLE SIGNIFIC...|          25|Multiple Signific...|                           2|                           Moderate|                Minor|                         Medical|   Insurance Company|           Self-Pay|               NULL|                         218155.0|                             NULL|                         NULL|           0|                      N|                             N|      8420.75|    3246.34|\n",
            "|    6|     Capital/Adiron|         Albany|                    101000.0|        1.0|Albany Medical Ce...|    0 to 17|              100.0|     M|               White|Not Span/Hispanic|             4|        Emergency|Home w/ Home Heal...|          2010|             234.0|     CRUSH/INTERNAL IN...|             108.0|      INDWELLING CATHETER|         930|MULTIPLE SIGNIFIC...|          25|Multiple Signific...|                           2|                           Moderate|                Minor|                         Medical|            Medicaid|           Self-Pay|               NULL|                         207219.0|                         207219.0|                         NULL|           0|                      N|                             Y|     21090.63|    6194.34|\n",
            "|    7|     Capital/Adiron|         Albany|                    101000.0|        1.0|Albany Medical Ce...|    0 to 17|              100.0|     F|               White|Not Span/Hispanic|             1|        Emergency|   Home or Self Care|          2010|             242.0|     OTH MEDS/DRUG POI...|               0.0|                  NO PROC|         812|POISONING OF MEDI...|          21|Poisonings, Toxic...|                           2|                           Moderate|                Minor|                         Medical|   Insurance Company|           Self-Pay|               NULL|                         244921.0|                             NULL|                         NULL|           0|                      N|                             Y|      3571.75|    1435.34|\n",
            "|    8|     Capital/Adiron|         Albany|                    101000.0|        1.0|Albany Medical Ce...|    0 to 17|              100.0|     F|               White|Not Span/Hispanic|             1|        Emergency|   Home or Self Care|          2010|             229.0|             ARM FRACTURE|               0.0|                  NO PROC|         342|FRACTURES & DISLO...|           8|Diseases and Diso...|                           1|                              Minor|                Minor|                         Medical|   Insurance Company|           Self-Pay|               NULL|                         242288.0|                             NULL|                         NULL|           0|                      N|                             Y|      7850.84|     2278.3|\n",
            "|    9|     Capital/Adiron|         Albany|                    101000.0|        1.0|Albany Medical Ce...|   30 to 49|              100.0|     M|               White|Not Span/Hispanic|             2|         Elective|   Home or Self Care|          2010|             143.0|         ABDOMINAL HERNIA|              86.0|      OTHER HERNIA REPAIR|         227|HERNIA PROCEDURES...|           6|Diseases and Diso...|                           1|                              Minor|                Minor|                        Surgical|Other Federal Pro...|           Self-Pay|               NULL|                         191936.0|                         191936.0|                         NULL|           0|                      N|                             N|      13787.0|    7491.89|\n",
            "|   10|     Capital/Adiron|         Albany|                    101000.0|        1.0|Albany Medical Ce...|   30 to 49|              100.0|     M|               White|Not Span/Hispanic|             9|        Emergency|   Home or Self Care|          2010|             657.0|           MOOD DISORDERS|             171.0|     SUTURE SKIN/SUBCU...|         754|DEPRESSION EXCEPT...|          19|Mental Diseases a...|                           2|                           Moderate|                Minor|                         Medical|            Self-Pay|           Self-Pay|               NULL|                         140656.0|                         174118.0|                         NULL|           0|                      N|                             Y|     19559.12|    7000.13|\n",
            "|   11|     Capital/Adiron|         Albany|                    101000.0|        1.0|Albany Medical Ce...|   30 to 49|              100.0|     M|               White|Not Span/Hispanic|             9|        Emergency|   Home or Self Care|          2010|             233.0|      INTRACRANIAL INJURY|              39.0|       INCISION OF PLEURA|         912|MUSCULOSKELETAL &...|          25|Multiple Signific...|                           3|                              Major|             Moderate|                        Surgical|   Insurance Company|           Self-Pay|               NULL|                         216951.0|                         216951.0|                         NULL|           0|                      N|                             Y|     30689.22|   12348.38|\n",
            "|   12|     Capital/Adiron|         Albany|                    101000.0|        1.0|Albany Medical Ce...|   30 to 49|              100.0|     M|               White|Not Span/Hispanic|             1|        Emergency|   Home or Self Care|          2010|             228.0|      SKULL/FACE FRACTURE|             171.0|     SUTURE SKIN/SUBCU...|          56|BRAIN CONTUSION/L...|           1|Diseases and Diso...|                           2|                           Moderate|                Minor|                         Medical|          Blue Cross|           Self-Pay|               NULL|                         204436.0|                         205376.0|                         NULL|           0|                      N|                             N|     12504.23|    1718.61|\n",
            "|   13|     Capital/Adiron|         Albany|                    101000.0|        1.0|Albany Medical Ce...|   30 to 49|              100.0|     M|               White|Not Span/Hispanic|             5|           Urgent|   Home or Self Care|          2010|             657.0|           MOOD DISORDERS|               0.0|                  NO PROC|         753|   BIPOLAR DISORDERS|          19|Mental Diseases a...|                           2|                           Moderate|                Minor|                         Medical|            Medicaid|           Self-Pay|               NULL|                         140656.0|                             NULL|                         NULL|           0|                      N|                             N|      9500.91|    3676.37|\n",
            "|   14|     Capital/Adiron|         Albany|                    101000.0|        1.0|Albany Medical Ce...|   30 to 49|              100.0|     M|Black/African Ame...|Not Span/Hispanic|         120 +|        Emergency|   Home or Self Care|          2010|             109.0|                ACUTE CVD|              34.0|     TRACHEOSTOMY; TEM...|           5|TRACHEOSTOMY W MV...|           1|Diseases and Diso...|                           4|                            Extreme|                Major|                        Surgical|            Medicaid|           Self-Pay|               NULL|                         213154.0|                         218155.0|                         NULL|           0|                      N|                             Y|    593921.09|  282972.83|\n",
            "|   15|     Capital/Adiron|         Albany|                    101000.0|        1.0|Albany Medical Ce...|   30 to 49|              100.0|     M|          Other Race|Not Span/Hispanic|            13|        Emergency|   Home or Self Care|          2010|             234.0|     CRUSH/INTERNAL IN...|              42.0|     OT OR RX PRCS RES...|         120|MAJOR RESPIRATORY...|           4|Diseases and Diso...|                           3|                              Major|                Minor|                        Surgical|   Insurance Company|           Self-Pay|               NULL|                         204436.0|                         218155.0|                         NULL|           0|                      N|                             Y|     75589.96|   25998.81|\n",
            "|   16|     Capital/Adiron|         Albany|                    101000.0|        1.0|Albany Medical Ce...|   30 to 49|              100.0|     F|               White|Not Span/Hispanic|            18|        Emergency|Inpatient Rehabil...|          2010|             109.0|                ACUTE CVD|              34.0|     TRACHEOSTOMY; TEM...|           4|TRACHEOSTOMY W MV...|           1|Diseases and Diso...|                           4|                            Extreme|                Major|                        Surgical|   Insurance Company|           Self-Pay|               NULL|                         234674.0|                         204436.0|                         NULL|           0|                      N|                             Y|    192248.22|   61792.17|\n",
            "|   17|     Capital/Adiron|         Albany|                    101000.0|        1.0|Albany Medical Ce...|   30 to 49|              100.0|     F|          Other Race| Spanish/Hispanic|             1|        Emergency|   Home or Self Care|          2010|             244.0|        OTHER INJURY/COND|               0.0|                  NO PROC|         254|OTHER DIGESTIVE S...|           6|Diseases and Diso...|                           2|                           Moderate|                Minor|                         Medical|          Blue Cross|           Self-Pay|               NULL|                         196010.0|                             NULL|                         NULL|           0|                      N|                             Y|      6479.33|    1830.03|\n",
            "|   18|     Capital/Adiron|         Albany|                    101000.0|        1.0|Albany Medical Ce...|   50 to 69|              100.0|     M|               White|Not Span/Hispanic|             8|           Urgent|   Home or Self Care|          2010|             254.0|     REHAB/PROSTH FIT/...|             227.0|     OT DX PRC (INTERV...|         860|      REHABILITATION|          23|Rehabilitation, A...|                           2|                           Moderate|                Minor|                         Medical|            Medicare|         Blue Cross|           Self-Pay|                         140796.0|                         140796.0|                         NULL|           0|                      N|                             N|     21360.09|    8164.61|\n",
            "|   19|     Capital/Adiron|         Albany|                    101000.0|        1.0|Albany Medical Ce...|   50 to 69|              100.0|     M|               White|Not Span/Hispanic|             1|         Elective|             Expired|          2010|             109.0|                ACUTE CVD|             216.0|     RESP INTUB/MECH V...|          44|INTRACRANIAL HEMO...|           1|Diseases and Diso...|                           4|                            Extreme|              Extreme|                         Medical|            Medicare|           Self-Pay|               NULL|                         196010.0|                         196010.0|                         NULL|           0|                      N|                             N|     20511.62|    4560.94|\n",
            "+-----+-------------------+---------------+----------------------------+-----------+--------------------+-----------+-------------------+------+--------------------+-----------------+--------------+-----------------+--------------------+--------------+------------------+-------------------------+------------------+-------------------------+------------+--------------------+------------+--------------------+----------------------------+-----------------------------------+---------------------+--------------------------------+--------------------+-------------------+-------------------+---------------------------------+---------------------------------+-----------------------------+------------+-----------------------+------------------------------+-------------+-----------+\n",
            "only showing top 20 rows\n",
            "\n"
          ]
        }
      ]
    },
    {
      "cell_type": "code",
      "source": [
        "df.dtypes"
      ],
      "metadata": {
        "colab": {
          "base_uri": "https://localhost:8080/"
        },
        "id": "zhiJoBvfS9Uf",
        "outputId": "895d4a6c-eba9-4235-f89c-959daecf57b3"
      },
      "execution_count": null,
      "outputs": [
        {
          "output_type": "execute_result",
          "data": {
            "text/plain": [
              "[('index', 'int'),\n",
              " ('Health Service Area', 'string'),\n",
              " ('Hospital County', 'string'),\n",
              " ('Operating Certificate Number', 'double'),\n",
              " ('Facility ID', 'double'),\n",
              " ('Facility Name', 'string'),\n",
              " ('Age Group', 'string'),\n",
              " ('Zip Code - 3 digits', 'string'),\n",
              " ('Gender', 'string'),\n",
              " ('Race', 'string'),\n",
              " ('Ethnicity', 'string'),\n",
              " ('Length of Stay', 'string'),\n",
              " ('Type of Admission', 'string'),\n",
              " ('Patient Disposition', 'string'),\n",
              " ('Discharge Year', 'int'),\n",
              " ('CCS Diagnosis Code', 'double'),\n",
              " ('CCS Diagnosis Description', 'string'),\n",
              " ('CCS Procedure Code', 'double'),\n",
              " ('CCS Procedure Description', 'string'),\n",
              " ('APR DRG Code', 'int'),\n",
              " ('APR DRG Description', 'string'),\n",
              " ('APR MDC Code', 'int'),\n",
              " ('APR MDC Description', 'string'),\n",
              " ('APR Severity of Illness Code', 'int'),\n",
              " ('APR Severity of Illness Description', 'string'),\n",
              " ('APR Risk of Mortality', 'string'),\n",
              " ('APR Medical Surgical Description', 'string'),\n",
              " ('Source of Payment 1', 'string'),\n",
              " ('Source of Payment 2', 'string'),\n",
              " ('Source of Payment 3', 'string'),\n",
              " ('Attending Provider License Number', 'double'),\n",
              " ('Operating Provider License Number', 'double'),\n",
              " ('Other Provider License Number', 'double'),\n",
              " ('Birth Weight', 'int'),\n",
              " ('Abortion Edit Indicator', 'string'),\n",
              " ('Emergency Department Indicator', 'string'),\n",
              " ('Total Charges', 'double'),\n",
              " ('Total Costs', 'double')]"
            ]
          },
          "metadata": {},
          "execution_count": 5
        }
      ]
    },
    {
      "cell_type": "markdown",
      "source": [
        "index 2622133\n",
        "\n",
        "Health Service Area 9\n",
        "\n",
        "Hospital County 58\n",
        "\n",
        "Operating Certificate Number 190\n",
        "\n",
        "Facility ID 226\n",
        "\n",
        "Facility Name 225\n",
        "\n",
        "Age Group 5\n",
        "\n",
        "Zip Code - 3 digits 76\n",
        "\n",
        "Gender 3\n",
        "\n",
        "Race 4\n",
        "\n",
        "Ethnicity 3\n",
        "\n",
        "Length of Stay 120\n",
        "\n",
        "Type of Admission 6\n",
        "\n",
        "Patient Disposition 20\n",
        "\n",
        "Discharge Year 1\n",
        "\n",
        "CCS Diagnosis Code 263\n",
        "\n",
        "CCS Diagnosis Description 263\n",
        "\n",
        "CCS Procedure Code 233\n",
        "\n",
        "CCS Procedure Description 233\n",
        "\n",
        "APR DRG Code 316\n",
        "\n",
        "APR DRG Description 316\n",
        "\n",
        "APR MDC Code 26\n",
        "\n",
        "APR MDC Description 26\n",
        "\n",
        "APR Severity of Illness Code 5\n",
        "\n",
        "APR Severity of Illness Description 5\n",
        "\n",
        "APR Risk of Mortality 5\n",
        "\n",
        "APR Medical Surgical Description 3\n",
        "\n",
        "Source of Payment 1 10\n",
        "\n",
        "Source of Payment 2 11\n",
        "\n",
        "Source of Payment 3 11\n",
        "\n",
        "Attending Provider License Number 30087\n",
        "\n",
        "Operating Provider License Number 36249\n",
        "\n",
        "Other Provider License Number 12650\n",
        "\n",
        "Birth Weight 91\n",
        "\n",
        "Abortion Edit Indicator 2\n",
        "\n",
        "Emergency Department Indicator 2\n",
        "\n",
        "Total Charges 1751253\n",
        "\n",
        "Total Costs 1429694\n",
        "\n",
        "\n",
        "\n",
        "\n"
      ],
      "metadata": {
        "id": "iCbhq6PBaTtW"
      }
    },
    {
      "cell_type": "code",
      "source": [
        "#Count of categories in each column\n",
        "#6 minute run time\n",
        "#for c in df.columns:\n",
        "#  print(c, df.select(c).distinct().count())"
      ],
      "metadata": {
        "colab": {
          "base_uri": "https://localhost:8080/"
        },
        "id": "HUm4A7dXTGwp",
        "outputId": "cfa6275b-caa0-4f5f-a15c-de34ccc5c6c9"
      },
      "execution_count": null,
      "outputs": [
        {
          "output_type": "stream",
          "name": "stdout",
          "text": [
            "index 2622133\n",
            "Health Service Area 9\n",
            "Hospital County 58\n",
            "Operating Certificate Number 190\n",
            "Facility ID 226\n",
            "Facility Name 225\n",
            "Age Group 5\n",
            "Zip Code - 3 digits 76\n",
            "Gender 3\n",
            "Race 4\n",
            "Ethnicity 3\n",
            "Length of Stay 120\n",
            "Type of Admission 6\n",
            "Patient Disposition 20\n",
            "Discharge Year 1\n",
            "CCS Diagnosis Code 263\n",
            "CCS Diagnosis Description 263\n",
            "CCS Procedure Code 233\n",
            "CCS Procedure Description 233\n",
            "APR DRG Code 316\n",
            "APR DRG Description 316\n",
            "APR MDC Code 26\n",
            "APR MDC Description 26\n",
            "APR Severity of Illness Code 5\n",
            "APR Severity of Illness Description 5\n",
            "APR Risk of Mortality 5\n",
            "APR Medical Surgical Description 3\n",
            "Source of Payment 1 10\n",
            "Source of Payment 2 11\n",
            "Source of Payment 3 11\n",
            "Attending Provider License Number 30087\n",
            "Operating Provider License Number 36249\n",
            "Other Provider License Number 12650\n",
            "Birth Weight 91\n",
            "Abortion Edit Indicator 2\n",
            "Emergency Department Indicator 2\n",
            "Total Charges 1751253\n",
            "Total Costs 1429694\n"
          ]
        }
      ]
    },
    {
      "cell_type": "code",
      "source": [
        "#Count columns\n",
        "len(df.columns)\n"
      ],
      "metadata": {
        "colab": {
          "base_uri": "https://localhost:8080/"
        },
        "id": "ha4MWjLjl7q3",
        "outputId": "811683e7-a744-410c-99da-04a72b368745"
      },
      "execution_count": null,
      "outputs": [
        {
          "output_type": "execute_result",
          "data": {
            "text/plain": [
              "38"
            ]
          },
          "metadata": {},
          "execution_count": 10
        }
      ]
    },
    {
      "cell_type": "code",
      "source": [
        "df.select([\"Total Costs\", \"Total Charges\"]).describe().show()"
      ],
      "metadata": {
        "colab": {
          "base_uri": "https://localhost:8080/"
        },
        "id": "JbclwDuT6TVD",
        "outputId": "3946a5e4-6f63-4422-c64e-815a5baa0914"
      },
      "execution_count": null,
      "outputs": [
        {
          "output_type": "stream",
          "name": "stdout",
          "text": [
            "+-------+------------------+------------------+\n",
            "|summary|       Total Costs|     Total Charges|\n",
            "+-------+------------------+------------------+\n",
            "|  count|           2622133|           2622133|\n",
            "|   mean|11865.230540174922|29459.201117857512|\n",
            "| stddev|27270.287332340587|56400.209381384615|\n",
            "|    min|               0.0|              0.01|\n",
            "|    max|     1.470885259E7|     1.206004382E7|\n",
            "+-------+------------------+------------------+\n",
            "\n"
          ]
        }
      ]
    },
    {
      "cell_type": "code",
      "source": [
        "#Count rows\n",
        "df.count()"
      ],
      "metadata": {
        "colab": {
          "base_uri": "https://localhost:8080/"
        },
        "id": "SefpMqls3jTe",
        "outputId": "800ba31b-5496-42ab-9f77-7878e9db4410"
      },
      "execution_count": null,
      "outputs": [
        {
          "output_type": "execute_result",
          "data": {
            "text/plain": [
              "2622133"
            ]
          },
          "metadata": {},
          "execution_count": 11
        }
      ]
    },
    {
      "cell_type": "code",
      "source": [
        "#############Describe data set\n",
        "#https://spark.apache.org/docs/latest/api/python/reference/pyspark.sql/api/pyspark.sql.DataFrame.describe.html\n",
        "df.summary"
      ],
      "metadata": {
        "colab": {
          "base_uri": "https://localhost:8080/",
          "height": 187
        },
        "id": "7iMnnXNk3nzJ",
        "outputId": "6208410d-3aa5-46c7-fa55-ffbe6637301e"
      },
      "execution_count": null,
      "outputs": [
        {
          "output_type": "execute_result",
          "data": {
            "text/plain": [
              "<bound method DataFrame.summary of DataFrame[index: int, Health Service Area: string, Hospital County: string, Operating Certificate Number: double, Facility ID: double, Facility Name: string, Age Group: string, Zip Code - 3 digits: string, Gender: string, Race: string, Ethnicity: string, Length of Stay: string, Type of Admission: string, Patient Disposition: string, Discharge Year: int, CCS Diagnosis Code: double, CCS Diagnosis Description: string, CCS Procedure Code: double, CCS Procedure Description: string, APR DRG Code: int, APR DRG Description: string, APR MDC Code: int, APR MDC Description: string, APR Severity of Illness Code: int, APR Severity of Illness Description: string, APR Risk of Mortality: string, APR Medical Surgical Description: string, Source of Payment 1: string, Source of Payment 2: string, Source of Payment 3: string, Attending Provider License Number: double, Operating Provider License Number: double, Other Provider License Number: double, Birth Weight: int, Abortion Edit Indicator: string, Emergency Department Indicator: string, Total Charges: double, Total Costs: double]>"
            ],
            "text/html": [
              "<div style=\"max-width:800px; border: 1px solid var(--colab-border-color);\"><style>\n",
              "      pre.function-repr-contents {\n",
              "        overflow-x: auto;\n",
              "        padding: 8px 12px;\n",
              "        max-height: 500px;\n",
              "      }\n",
              "\n",
              "      pre.function-repr-contents.function-repr-contents-collapsed {\n",
              "        cursor: pointer;\n",
              "        max-height: 100px;\n",
              "      }\n",
              "    </style>\n",
              "    <pre style=\"white-space: initial; background:\n",
              "         var(--colab-secondary-surface-color); padding: 8px 12px;\n",
              "         border-bottom: 1px solid var(--colab-border-color);\"><b>pyspark.sql.dataframe.DataFrame.summary</b><br/>def summary(*statistics: str) -&gt; &#x27;DataFrame&#x27;</pre><pre class=\"function-repr-contents function-repr-contents-collapsed\" style=\"\"><a class=\"filepath\" style=\"display:none\" href=\"#\">/content/spark-3.5.1-bin-hadoop3/python/pyspark/sql/dataframe.py</a>Computes specified statistics for numeric and string columns. Available statistics are:\n",
              "- count\n",
              "- mean\n",
              "- stddev\n",
              "- min\n",
              "- max\n",
              "- arbitrary approximate percentiles specified as a percentage (e.g., 75%)\n",
              "\n",
              "If no statistics are given, this function computes count, mean, stddev, min,\n",
              "approximate quartiles (percentiles at 25%, 50%, and 75%), and max.\n",
              "\n",
              ".. versionadded:: 2.3.0\n",
              "\n",
              ".. versionchanged:: 3.4.0\n",
              "    Supports Spark Connect.\n",
              "\n",
              "Parameters\n",
              "----------\n",
              "statistics : str, optional\n",
              "     Column names to calculate statistics by (default All columns).\n",
              "\n",
              "Returns\n",
              "-------\n",
              ":class:`DataFrame`\n",
              "    A new DataFrame that provides statistics for the given DataFrame.\n",
              "\n",
              "Notes\n",
              "-----\n",
              "This function is meant for exploratory data analysis, as we make no\n",
              "guarantee about the backward compatibility of the schema of the resulting\n",
              ":class:`DataFrame`.\n",
              "\n",
              "Examples\n",
              "--------\n",
              "&gt;&gt;&gt; df = spark.createDataFrame(\n",
              "...     [(&quot;Bob&quot;, 13, 40.3, 150.5), (&quot;Alice&quot;, 12, 37.8, 142.3), (&quot;Tom&quot;, 11, 44.1, 142.2)],\n",
              "...     [&quot;name&quot;, &quot;age&quot;, &quot;weight&quot;, &quot;height&quot;],\n",
              "... )\n",
              "&gt;&gt;&gt; df.select(&quot;age&quot;, &quot;weight&quot;, &quot;height&quot;).summary().show()\n",
              "+-------+----+------------------+-----------------+\n",
              "|summary| age|            weight|           height|\n",
              "+-------+----+------------------+-----------------+\n",
              "|  count|   3|                 3|                3|\n",
              "|   mean|12.0| 40.73333333333333|            145.0|\n",
              "| stddev| 1.0|3.1722757341273704|4.763402145525822|\n",
              "|    min|  11|              37.8|            142.2|\n",
              "|    25%|  11|              37.8|            142.2|\n",
              "|    50%|  12|              40.3|            142.3|\n",
              "|    75%|  13|              44.1|            150.5|\n",
              "|    max|  13|              44.1|            150.5|\n",
              "+-------+----+------------------+-----------------+\n",
              "\n",
              "&gt;&gt;&gt; df.select(&quot;age&quot;, &quot;weight&quot;, &quot;height&quot;).summary(&quot;count&quot;, &quot;min&quot;, &quot;25%&quot;, &quot;75%&quot;, &quot;max&quot;).show()\n",
              "+-------+---+------+------+\n",
              "|summary|age|weight|height|\n",
              "+-------+---+------+------+\n",
              "|  count|  3|     3|     3|\n",
              "|    min| 11|  37.8| 142.2|\n",
              "|    25%| 11|  37.8| 142.2|\n",
              "|    75%| 13|  44.1| 150.5|\n",
              "|    max| 13|  44.1| 150.5|\n",
              "+-------+---+------+------+\n",
              "\n",
              "See Also\n",
              "--------\n",
              "DataFrame.display</pre>\n",
              "      <script>\n",
              "      if (google.colab.kernel.accessAllowed && google.colab.files && google.colab.files.view) {\n",
              "        for (const element of document.querySelectorAll('.filepath')) {\n",
              "          element.style.display = 'block'\n",
              "          element.onclick = (event) => {\n",
              "            event.preventDefault();\n",
              "            event.stopPropagation();\n",
              "            google.colab.files.view(element.textContent, 2857);\n",
              "          };\n",
              "        }\n",
              "      }\n",
              "      for (const element of document.querySelectorAll('.function-repr-contents')) {\n",
              "        element.onclick = (event) => {\n",
              "          event.preventDefault();\n",
              "          event.stopPropagation();\n",
              "          element.classList.toggle('function-repr-contents-collapsed');\n",
              "        };\n",
              "      }\n",
              "      </script>\n",
              "      </div>"
            ]
          },
          "metadata": {},
          "execution_count": 12
        }
      ]
    },
    {
      "cell_type": "code",
      "source": [
        "#Count null values\n",
        "\n",
        "for column in df.columns:\n",
        "    null_count = df.filter(col(column).isNull()).count()\n",
        "    print(f\"Null count in {column}: {null_count}\")"
      ],
      "metadata": {
        "colab": {
          "base_uri": "https://localhost:8080/"
        },
        "id": "35R5cygzVDLe",
        "outputId": "a0cf3005-44ba-4ce3-b716-fcdd92e0a463"
      },
      "execution_count": null,
      "outputs": [
        {
          "output_type": "stream",
          "name": "stdout",
          "text": [
            "Null count in index: 0\n",
            "Null count in Health Service Area: 4887\n",
            "Null count in Hospital County: 4887\n",
            "Null count in Operating Certificate Number: 4887\n",
            "Null count in Facility ID: 4887\n",
            "Null count in Facility Name: 0\n",
            "Null count in Age Group: 0\n",
            "Null count in Zip Code - 3 digits: 3201\n",
            "Null count in Gender: 0\n",
            "Null count in Race: 0\n",
            "Null count in Ethnicity: 0\n",
            "Null count in Length of Stay: 0\n",
            "Null count in Type of Admission: 0\n",
            "Null count in Patient Disposition: 103\n",
            "Null count in Discharge Year: 0\n",
            "Null count in CCS Diagnosis Code: 2273\n",
            "Null count in CCS Diagnosis Description: 2273\n",
            "Null count in CCS Procedure Code: 2273\n",
            "Null count in CCS Procedure Description: 2273\n",
            "Null count in APR DRG Code: 0\n",
            "Null count in APR DRG Description: 0\n",
            "Null count in APR MDC Code: 0\n",
            "Null count in APR MDC Description: 0\n",
            "Null count in APR Severity of Illness Code: 0\n",
            "Null count in APR Severity of Illness Description: 241\n",
            "Null count in APR Risk of Mortality: 241\n",
            "Null count in APR Medical Surgical Description: 0\n",
            "Null count in Source of Payment 1: 0\n",
            "Null count in Source of Payment 2: 810381\n",
            "Null count in Source of Payment 3: 2040841\n",
            "Null count in Attending Provider License Number: 4887\n",
            "Null count in Operating Provider License Number: 670818\n",
            "Null count in Other Provider License Number: 2133991\n",
            "Null count in Birth Weight: 0\n",
            "Null count in Abortion Edit Indicator: 0\n",
            "Null count in Emergency Department Indicator: 0\n",
            "Null count in Total Charges: 0\n",
            "Null count in Total Costs: 0\n"
          ]
        }
      ]
    },
    {
      "cell_type": "code",
      "source": [
        "df_reduced = df.drop(\"index\", \"Operating Certificate Number\", \"Discharge Year\", \"Source of Payment 2\", \"Source of Payment 3\", \"Attending Provider License Number\", \"Operating Provider License Number\",\n",
        "                     \"Other Provider License Number\", \"Birth Weight\", \"Abortion Edit Indicator\")"
      ],
      "metadata": {
        "id": "sgqX7wRjgvgM"
      },
      "execution_count": null,
      "outputs": []
    },
    {
      "cell_type": "code",
      "source": [
        "df_reduced.show()"
      ],
      "metadata": {
        "colab": {
          "base_uri": "https://localhost:8080/"
        },
        "id": "DY4p-K5TjKNj",
        "outputId": "1be78d8f-177d-4b3f-eccb-e10977daccfd"
      },
      "execution_count": null,
      "outputs": [
        {
          "output_type": "stream",
          "name": "stdout",
          "text": [
            "+-------------------+---------------+-----------+--------------------+-----------+-------------------+------+--------------------+-----------------+--------------+-----------------+--------------------+------------------+-------------------------+------------------+-------------------------+------------+--------------------+------------+--------------------+----------------------------+-----------------------------------+---------------------+--------------------------------+--------------------+------------------------------+-------------+-----------+\n",
            "|Health Service Area|Hospital County|Facility ID|       Facility Name|  Age Group|Zip Code - 3 digits|Gender|                Race|        Ethnicity|Length of Stay|Type of Admission| Patient Disposition|CCS Diagnosis Code|CCS Diagnosis Description|CCS Procedure Code|CCS Procedure Description|APR DRG Code| APR DRG Description|APR MDC Code| APR MDC Description|APR Severity of Illness Code|APR Severity of Illness Description|APR Risk of Mortality|APR Medical Surgical Description| Source of Payment 1|Emergency Department Indicator|Total Charges|Total Costs|\n",
            "+-------------------+---------------+-----------+--------------------+-----------+-------------------+------+--------------------+-----------------+--------------+-----------------+--------------------+------------------+-------------------------+------------------+-------------------------+------------+--------------------+------------+--------------------+----------------------------+-----------------------------------+---------------------+--------------------------------+--------------------+------------------------------+-------------+-----------+\n",
            "|     Capital/Adiron|         Albany|        1.0|Albany Medical Ce...|   18 to 29|               NULL|     F|               White|Not Span/Hispanic|             1|        Emergency|   Home or Self Care|             135.0|     INTESTINAL INFECTION|               0.0|                  NO PROC|         249|NON-BACTERIAL GAS...|           6|Diseases and Diso...|                           1|                              Minor|                Minor|                         Medical|          Blue Cross|                             Y|      4476.23|    1672.65|\n",
            "|     Capital/Adiron|         Albany|        1.0|Albany Medical Ce...|   50 to 69|               NULL|     M|               White|Not Span/Hispanic|            15|        Emergency|Home w/ Home Heal...|             231.0|           OTHER FRACTURE|              61.0|     OT OR PRCS VES NO...|         912|MUSCULOSKELETAL &...|          25|Multiple Signific...|                           3|                              Major|              Extreme|                        Surgical|   Insurance Company|                             Y|    148612.34|    51414.7|\n",
            "|     Capital/Adiron|         Albany|        1.0|Albany Medical Ce...|70 or Older|               NULL|     M|               White|Not Span/Hispanic|             3|        Emergency|Home w/ Home Heal...|              42.0|     SECONDARY MALIGNANCY|               0.0|                  NO PROC|         240|DIGESTIVE MALIGNANCY|           6|Diseases and Diso...|                           3|                              Major|                Major|                         Medical|            Medicare|                             N|     16561.99|    4032.49|\n",
            "|     Capital/Adiron|         Albany|        1.0|Albany Medical Ce...|70 or Older|               NULL|     F|               White|Not Span/Hispanic|             5|         Elective|Home w/ Home Heal...|             254.0|     REHAB/PROSTH FIT/...|             215.0|       OT PHYS THER/REHAB|         860|      REHABILITATION|          23|Rehabilitation, A...|                           2|                           Moderate|                Minor|                         Medical|            Medicare|                             N|     13593.51|    4947.81|\n",
            "|     Capital/Adiron|         Albany|        1.0|Albany Medical Ce...|70 or Older|               NULL|     F|               White|Not Span/Hispanic|             4|         Elective|Inpatient Rehabil...|             203.0|           OSTEOARTHRITIS|             153.0|     HIP REPLACEMENT,T...|         301|HIP JOINT REPLACE...|           8|Diseases and Diso...|                           1|                              Minor|                Minor|                        Surgical|            Medicare|                             N|     31962.58|   16988.33|\n",
            "|     Capital/Adiron|         Albany|        1.0|Albany Medical Ce...|    0 to 17|              100.0|     M|               White|Not Span/Hispanic|             3|        Emergency|   Home or Self Care|             234.0|     CRUSH/INTERNAL IN...|               0.0|                  NO PROC|         930|MULTIPLE SIGNIFIC...|          25|Multiple Signific...|                           2|                           Moderate|                Minor|                         Medical|   Insurance Company|                             N|      8420.75|    3246.34|\n",
            "|     Capital/Adiron|         Albany|        1.0|Albany Medical Ce...|    0 to 17|              100.0|     M|               White|Not Span/Hispanic|             4|        Emergency|Home w/ Home Heal...|             234.0|     CRUSH/INTERNAL IN...|             108.0|      INDWELLING CATHETER|         930|MULTIPLE SIGNIFIC...|          25|Multiple Signific...|                           2|                           Moderate|                Minor|                         Medical|            Medicaid|                             Y|     21090.63|    6194.34|\n",
            "|     Capital/Adiron|         Albany|        1.0|Albany Medical Ce...|    0 to 17|              100.0|     F|               White|Not Span/Hispanic|             1|        Emergency|   Home or Self Care|             242.0|     OTH MEDS/DRUG POI...|               0.0|                  NO PROC|         812|POISONING OF MEDI...|          21|Poisonings, Toxic...|                           2|                           Moderate|                Minor|                         Medical|   Insurance Company|                             Y|      3571.75|    1435.34|\n",
            "|     Capital/Adiron|         Albany|        1.0|Albany Medical Ce...|    0 to 17|              100.0|     F|               White|Not Span/Hispanic|             1|        Emergency|   Home or Self Care|             229.0|             ARM FRACTURE|               0.0|                  NO PROC|         342|FRACTURES & DISLO...|           8|Diseases and Diso...|                           1|                              Minor|                Minor|                         Medical|   Insurance Company|                             Y|      7850.84|     2278.3|\n",
            "|     Capital/Adiron|         Albany|        1.0|Albany Medical Ce...|   30 to 49|              100.0|     M|               White|Not Span/Hispanic|             2|         Elective|   Home or Self Care|             143.0|         ABDOMINAL HERNIA|              86.0|      OTHER HERNIA REPAIR|         227|HERNIA PROCEDURES...|           6|Diseases and Diso...|                           1|                              Minor|                Minor|                        Surgical|Other Federal Pro...|                             N|      13787.0|    7491.89|\n",
            "|     Capital/Adiron|         Albany|        1.0|Albany Medical Ce...|   30 to 49|              100.0|     M|               White|Not Span/Hispanic|             9|        Emergency|   Home or Self Care|             657.0|           MOOD DISORDERS|             171.0|     SUTURE SKIN/SUBCU...|         754|DEPRESSION EXCEPT...|          19|Mental Diseases a...|                           2|                           Moderate|                Minor|                         Medical|            Self-Pay|                             Y|     19559.12|    7000.13|\n",
            "|     Capital/Adiron|         Albany|        1.0|Albany Medical Ce...|   30 to 49|              100.0|     M|               White|Not Span/Hispanic|             9|        Emergency|   Home or Self Care|             233.0|      INTRACRANIAL INJURY|              39.0|       INCISION OF PLEURA|         912|MUSCULOSKELETAL &...|          25|Multiple Signific...|                           3|                              Major|             Moderate|                        Surgical|   Insurance Company|                             Y|     30689.22|   12348.38|\n",
            "|     Capital/Adiron|         Albany|        1.0|Albany Medical Ce...|   30 to 49|              100.0|     M|               White|Not Span/Hispanic|             1|        Emergency|   Home or Self Care|             228.0|      SKULL/FACE FRACTURE|             171.0|     SUTURE SKIN/SUBCU...|          56|BRAIN CONTUSION/L...|           1|Diseases and Diso...|                           2|                           Moderate|                Minor|                         Medical|          Blue Cross|                             N|     12504.23|    1718.61|\n",
            "|     Capital/Adiron|         Albany|        1.0|Albany Medical Ce...|   30 to 49|              100.0|     M|               White|Not Span/Hispanic|             5|           Urgent|   Home or Self Care|             657.0|           MOOD DISORDERS|               0.0|                  NO PROC|         753|   BIPOLAR DISORDERS|          19|Mental Diseases a...|                           2|                           Moderate|                Minor|                         Medical|            Medicaid|                             N|      9500.91|    3676.37|\n",
            "|     Capital/Adiron|         Albany|        1.0|Albany Medical Ce...|   30 to 49|              100.0|     M|Black/African Ame...|Not Span/Hispanic|         120 +|        Emergency|   Home or Self Care|             109.0|                ACUTE CVD|              34.0|     TRACHEOSTOMY; TEM...|           5|TRACHEOSTOMY W MV...|           1|Diseases and Diso...|                           4|                            Extreme|                Major|                        Surgical|            Medicaid|                             Y|    593921.09|  282972.83|\n",
            "|     Capital/Adiron|         Albany|        1.0|Albany Medical Ce...|   30 to 49|              100.0|     M|          Other Race|Not Span/Hispanic|            13|        Emergency|   Home or Self Care|             234.0|     CRUSH/INTERNAL IN...|              42.0|     OT OR RX PRCS RES...|         120|MAJOR RESPIRATORY...|           4|Diseases and Diso...|                           3|                              Major|                Minor|                        Surgical|   Insurance Company|                             Y|     75589.96|   25998.81|\n",
            "|     Capital/Adiron|         Albany|        1.0|Albany Medical Ce...|   30 to 49|              100.0|     F|               White|Not Span/Hispanic|            18|        Emergency|Inpatient Rehabil...|             109.0|                ACUTE CVD|              34.0|     TRACHEOSTOMY; TEM...|           4|TRACHEOSTOMY W MV...|           1|Diseases and Diso...|                           4|                            Extreme|                Major|                        Surgical|   Insurance Company|                             Y|    192248.22|   61792.17|\n",
            "|     Capital/Adiron|         Albany|        1.0|Albany Medical Ce...|   30 to 49|              100.0|     F|          Other Race| Spanish/Hispanic|             1|        Emergency|   Home or Self Care|             244.0|        OTHER INJURY/COND|               0.0|                  NO PROC|         254|OTHER DIGESTIVE S...|           6|Diseases and Diso...|                           2|                           Moderate|                Minor|                         Medical|          Blue Cross|                             Y|      6479.33|    1830.03|\n",
            "|     Capital/Adiron|         Albany|        1.0|Albany Medical Ce...|   50 to 69|              100.0|     M|               White|Not Span/Hispanic|             8|           Urgent|   Home or Self Care|             254.0|     REHAB/PROSTH FIT/...|             227.0|     OT DX PRC (INTERV...|         860|      REHABILITATION|          23|Rehabilitation, A...|                           2|                           Moderate|                Minor|                         Medical|            Medicare|                             N|     21360.09|    8164.61|\n",
            "|     Capital/Adiron|         Albany|        1.0|Albany Medical Ce...|   50 to 69|              100.0|     M|               White|Not Span/Hispanic|             1|         Elective|             Expired|             109.0|                ACUTE CVD|             216.0|     RESP INTUB/MECH V...|          44|INTRACRANIAL HEMO...|           1|Diseases and Diso...|                           4|                            Extreme|              Extreme|                         Medical|            Medicare|                             N|     20511.62|    4560.94|\n",
            "+-------------------+---------------+-----------+--------------------+-----------+-------------------+------+--------------------+-----------------+--------------+-----------------+--------------------+------------------+-------------------------+------------------+-------------------------+------------+--------------------+------------+--------------------+----------------------------+-----------------------------------+---------------------+--------------------------------+--------------------+------------------------------+-------------+-----------+\n",
            "only showing top 20 rows\n",
            "\n"
          ]
        }
      ]
    },
    {
      "cell_type": "code",
      "source": [
        "# Drop rows that have null values in any column\n",
        "df_clean = df_reduced.na.drop()\n",
        "\n",
        "# Show the result to verify that rows with null values have been removed\n",
        "df_clean.show()"
      ],
      "metadata": {
        "colab": {
          "base_uri": "https://localhost:8080/"
        },
        "id": "2VD3Tv6aW5XM",
        "outputId": "642b4220-7fab-4ed7-ebb5-20058dfa9cc6"
      },
      "execution_count": null,
      "outputs": [
        {
          "output_type": "stream",
          "name": "stdout",
          "text": [
            "+-------------------+---------------+-----------+--------------------+---------+-------------------+------+--------------------+-----------------+--------------+-----------------+--------------------+------------------+-------------------------+------------------+-------------------------+------------+--------------------+------------+--------------------+----------------------------+-----------------------------------+---------------------+--------------------------------+--------------------+------------------------------+-------------+-----------+\n",
            "|Health Service Area|Hospital County|Facility ID|       Facility Name|Age Group|Zip Code - 3 digits|Gender|                Race|        Ethnicity|Length of Stay|Type of Admission| Patient Disposition|CCS Diagnosis Code|CCS Diagnosis Description|CCS Procedure Code|CCS Procedure Description|APR DRG Code| APR DRG Description|APR MDC Code| APR MDC Description|APR Severity of Illness Code|APR Severity of Illness Description|APR Risk of Mortality|APR Medical Surgical Description| Source of Payment 1|Emergency Department Indicator|Total Charges|Total Costs|\n",
            "+-------------------+---------------+-----------+--------------------+---------+-------------------+------+--------------------+-----------------+--------------+-----------------+--------------------+------------------+-------------------------+------------------+-------------------------+------------+--------------------+------------+--------------------+----------------------------+-----------------------------------+---------------------+--------------------------------+--------------------+------------------------------+-------------+-----------+\n",
            "|     Capital/Adiron|         Albany|        1.0|Albany Medical Ce...|  0 to 17|              100.0|     M|               White|Not Span/Hispanic|             3|        Emergency|   Home or Self Care|             234.0|     CRUSH/INTERNAL IN...|               0.0|                  NO PROC|         930|MULTIPLE SIGNIFIC...|          25|Multiple Signific...|                           2|                           Moderate|                Minor|                         Medical|   Insurance Company|                             N|      8420.75|    3246.34|\n",
            "|     Capital/Adiron|         Albany|        1.0|Albany Medical Ce...|  0 to 17|              100.0|     M|               White|Not Span/Hispanic|             4|        Emergency|Home w/ Home Heal...|             234.0|     CRUSH/INTERNAL IN...|             108.0|      INDWELLING CATHETER|         930|MULTIPLE SIGNIFIC...|          25|Multiple Signific...|                           2|                           Moderate|                Minor|                         Medical|            Medicaid|                             Y|     21090.63|    6194.34|\n",
            "|     Capital/Adiron|         Albany|        1.0|Albany Medical Ce...|  0 to 17|              100.0|     F|               White|Not Span/Hispanic|             1|        Emergency|   Home or Self Care|             242.0|     OTH MEDS/DRUG POI...|               0.0|                  NO PROC|         812|POISONING OF MEDI...|          21|Poisonings, Toxic...|                           2|                           Moderate|                Minor|                         Medical|   Insurance Company|                             Y|      3571.75|    1435.34|\n",
            "|     Capital/Adiron|         Albany|        1.0|Albany Medical Ce...|  0 to 17|              100.0|     F|               White|Not Span/Hispanic|             1|        Emergency|   Home or Self Care|             229.0|             ARM FRACTURE|               0.0|                  NO PROC|         342|FRACTURES & DISLO...|           8|Diseases and Diso...|                           1|                              Minor|                Minor|                         Medical|   Insurance Company|                             Y|      7850.84|     2278.3|\n",
            "|     Capital/Adiron|         Albany|        1.0|Albany Medical Ce...| 30 to 49|              100.0|     M|               White|Not Span/Hispanic|             2|         Elective|   Home or Self Care|             143.0|         ABDOMINAL HERNIA|              86.0|      OTHER HERNIA REPAIR|         227|HERNIA PROCEDURES...|           6|Diseases and Diso...|                           1|                              Minor|                Minor|                        Surgical|Other Federal Pro...|                             N|      13787.0|    7491.89|\n",
            "|     Capital/Adiron|         Albany|        1.0|Albany Medical Ce...| 30 to 49|              100.0|     M|               White|Not Span/Hispanic|             9|        Emergency|   Home or Self Care|             657.0|           MOOD DISORDERS|             171.0|     SUTURE SKIN/SUBCU...|         754|DEPRESSION EXCEPT...|          19|Mental Diseases a...|                           2|                           Moderate|                Minor|                         Medical|            Self-Pay|                             Y|     19559.12|    7000.13|\n",
            "|     Capital/Adiron|         Albany|        1.0|Albany Medical Ce...| 30 to 49|              100.0|     M|               White|Not Span/Hispanic|             9|        Emergency|   Home or Self Care|             233.0|      INTRACRANIAL INJURY|              39.0|       INCISION OF PLEURA|         912|MUSCULOSKELETAL &...|          25|Multiple Signific...|                           3|                              Major|             Moderate|                        Surgical|   Insurance Company|                             Y|     30689.22|   12348.38|\n",
            "|     Capital/Adiron|         Albany|        1.0|Albany Medical Ce...| 30 to 49|              100.0|     M|               White|Not Span/Hispanic|             1|        Emergency|   Home or Self Care|             228.0|      SKULL/FACE FRACTURE|             171.0|     SUTURE SKIN/SUBCU...|          56|BRAIN CONTUSION/L...|           1|Diseases and Diso...|                           2|                           Moderate|                Minor|                         Medical|          Blue Cross|                             N|     12504.23|    1718.61|\n",
            "|     Capital/Adiron|         Albany|        1.0|Albany Medical Ce...| 30 to 49|              100.0|     M|               White|Not Span/Hispanic|             5|           Urgent|   Home or Self Care|             657.0|           MOOD DISORDERS|               0.0|                  NO PROC|         753|   BIPOLAR DISORDERS|          19|Mental Diseases a...|                           2|                           Moderate|                Minor|                         Medical|            Medicaid|                             N|      9500.91|    3676.37|\n",
            "|     Capital/Adiron|         Albany|        1.0|Albany Medical Ce...| 30 to 49|              100.0|     M|Black/African Ame...|Not Span/Hispanic|         120 +|        Emergency|   Home or Self Care|             109.0|                ACUTE CVD|              34.0|     TRACHEOSTOMY; TEM...|           5|TRACHEOSTOMY W MV...|           1|Diseases and Diso...|                           4|                            Extreme|                Major|                        Surgical|            Medicaid|                             Y|    593921.09|  282972.83|\n",
            "|     Capital/Adiron|         Albany|        1.0|Albany Medical Ce...| 30 to 49|              100.0|     M|          Other Race|Not Span/Hispanic|            13|        Emergency|   Home or Self Care|             234.0|     CRUSH/INTERNAL IN...|              42.0|     OT OR RX PRCS RES...|         120|MAJOR RESPIRATORY...|           4|Diseases and Diso...|                           3|                              Major|                Minor|                        Surgical|   Insurance Company|                             Y|     75589.96|   25998.81|\n",
            "|     Capital/Adiron|         Albany|        1.0|Albany Medical Ce...| 30 to 49|              100.0|     F|               White|Not Span/Hispanic|            18|        Emergency|Inpatient Rehabil...|             109.0|                ACUTE CVD|              34.0|     TRACHEOSTOMY; TEM...|           4|TRACHEOSTOMY W MV...|           1|Diseases and Diso...|                           4|                            Extreme|                Major|                        Surgical|   Insurance Company|                             Y|    192248.22|   61792.17|\n",
            "|     Capital/Adiron|         Albany|        1.0|Albany Medical Ce...| 30 to 49|              100.0|     F|          Other Race| Spanish/Hispanic|             1|        Emergency|   Home or Self Care|             244.0|        OTHER INJURY/COND|               0.0|                  NO PROC|         254|OTHER DIGESTIVE S...|           6|Diseases and Diso...|                           2|                           Moderate|                Minor|                         Medical|          Blue Cross|                             Y|      6479.33|    1830.03|\n",
            "|     Capital/Adiron|         Albany|        1.0|Albany Medical Ce...| 50 to 69|              100.0|     M|               White|Not Span/Hispanic|             8|           Urgent|   Home or Self Care|             254.0|     REHAB/PROSTH FIT/...|             227.0|     OT DX PRC (INTERV...|         860|      REHABILITATION|          23|Rehabilitation, A...|                           2|                           Moderate|                Minor|                         Medical|            Medicare|                             N|     21360.09|    8164.61|\n",
            "|     Capital/Adiron|         Albany|        1.0|Albany Medical Ce...| 50 to 69|              100.0|     M|               White|Not Span/Hispanic|             1|         Elective|             Expired|             109.0|                ACUTE CVD|             216.0|     RESP INTUB/MECH V...|          44|INTRACRANIAL HEMO...|           1|Diseases and Diso...|                           4|                            Extreme|              Extreme|                         Medical|            Medicare|                             N|     20511.62|    4560.94|\n",
            "|     Capital/Adiron|         Albany|        1.0|Albany Medical Ce...| 50 to 69|              100.0|     M|               White|Not Span/Hispanic|             7|        Emergency|   Home or Self Care|             118.0|                PHLEBITIS|              61.0|     OT OR PRCS VES NO...|         173|OTHER VASCULAR PR...|           5|Diseases and Diso...|                           3|                              Major|             Moderate|                        Surgical|   Insurance Company|                             N|     87874.31|   30610.49|\n",
            "|     Capital/Adiron|         Albany|        1.0|Albany Medical Ce...| 50 to 69|              100.0|     M|               White|Not Span/Hispanic|             4|        Emergency|   Home or Self Care|             238.0|     SURGCL/MED CARE C...|              42.0|     OT OR RX PRCS RES...|         711|POST-OP, POST-TRA...|          18|Infectious and Pa...|                           3|                              Major|             Moderate|                        Surgical|   Insurance Company|                             N|     22092.28|    7526.99|\n",
            "|     Capital/Adiron|         Albany|        1.0|Albany Medical Ce...| 50 to 69|              100.0|     M|               White|Not Span/Hispanic|             6|        Emergency|             Expired|              19.0|     BRONCHIAL/LUNG CA...|              37.0|     DX BRONCHOSCOPY &...|         136|RESPIRATORY MALIG...|           4|Diseases and Diso...|                           4|                            Extreme|              Extreme|                         Medical|            Self-Pay|                             Y|     77112.81|   19752.57|\n",
            "|     Capital/Adiron|         Albany|        1.0|Albany Medical Ce...| 50 to 69|              100.0|     M|               White|Not Span/Hispanic|             1|        Emergency|   Home or Self Care|             122.0|                PNEUMONIA|               0.0|                  NO PROC|         137|MAJOR RESPIRATORY...|           4|Diseases and Diso...|                           3|                              Major|                Minor|                         Medical|   Insurance Company|                             Y|      7542.03|    2298.34|\n",
            "|     Capital/Adiron|         Albany|        1.0|Albany Medical Ce...| 50 to 69|              100.0|     M|               White|Not Span/Hispanic|            13|        Emergency|Inpatient Rehabil...|             106.0|              DYSRHYTHMIA|              48.0|     CARDIAC PACEMAKER...|         171|PERM CARDIAC PACE...|           5|Diseases and Diso...|                           2|                           Moderate|                Minor|                        Surgical|            Medicare|                             Y|    147451.23|   52726.35|\n",
            "+-------------------+---------------+-----------+--------------------+---------+-------------------+------+--------------------+-----------------+--------------+-----------------+--------------------+------------------+-------------------------+------------------+-------------------------+------------+--------------------+------------+--------------------+----------------------------+-----------------------------------+---------------------+--------------------------------+--------------------+------------------------------+-------------+-----------+\n",
            "only showing top 20 rows\n",
            "\n"
          ]
        }
      ]
    },
    {
      "cell_type": "code",
      "source": [
        "#Count rows after dropping null values\n",
        "df_clean.count()"
      ],
      "metadata": {
        "colab": {
          "base_uri": "https://localhost:8080/"
        },
        "id": "qf8K7IHZoh0e",
        "outputId": "48534347-3fc6-4914-8e02-67f5d5de7352"
      },
      "execution_count": null,
      "outputs": [
        {
          "output_type": "execute_result",
          "data": {
            "text/plain": [
              "2611433"
            ]
          },
          "metadata": {},
          "execution_count": 15
        }
      ]
    },
    {
      "cell_type": "code",
      "source": [
        "#Count columns\n",
        "len(df_clean.columns)"
      ],
      "metadata": {
        "colab": {
          "base_uri": "https://localhost:8080/"
        },
        "id": "DCuNNz-gpXcy",
        "outputId": "d061601f-3800-4fc5-c7bf-ecd98df41814"
      },
      "execution_count": null,
      "outputs": [
        {
          "output_type": "execute_result",
          "data": {
            "text/plain": [
              "28"
            ]
          },
          "metadata": {},
          "execution_count": 16
        }
      ]
    },
    {
      "cell_type": "code",
      "source": [
        "df_clean.withColumn(\"Length of Stay\",col(\"Length of Stay\").cast(\"int\"))\n",
        "df_clean.withColumn(\"Zip Code - 3 digits\",col(\"Zip Code - 3 digits\").cast(\"int\"))"
      ],
      "metadata": {
        "colab": {
          "base_uri": "https://localhost:8080/"
        },
        "id": "1pmdWPu8rRqb",
        "outputId": "965c768d-37f7-411e-a1f2-b20718dcc5ac"
      },
      "execution_count": null,
      "outputs": [
        {
          "output_type": "execute_result",
          "data": {
            "text/plain": [
              "DataFrame[Health Service Area: string, Hospital County: string, Facility ID: double, Facility Name: string, Age Group: string, Zip Code - 3 digits: int, Gender: string, Race: string, Ethnicity: string, Length of Stay: string, Type of Admission: string, Patient Disposition: string, CCS Diagnosis Code: double, CCS Diagnosis Description: string, CCS Procedure Code: double, CCS Procedure Description: string, APR DRG Code: int, APR DRG Description: string, APR MDC Code: int, APR MDC Description: string, APR Severity of Illness Code: int, APR Severity of Illness Description: string, APR Risk of Mortality: string, APR Medical Surgical Description: string, Source of Payment 1: string, Emergency Department Indicator: string, Total Charges: double, Total Costs: double]"
            ]
          },
          "metadata": {},
          "execution_count": 7
        }
      ]
    },
    {
      "cell_type": "markdown",
      "source": [
        "Exploring categorical variables"
      ],
      "metadata": {
        "id": "w-dp5KGS4eUa"
      }
    },
    {
      "cell_type": "code",
      "source": [
        "#9 categories of health service area\n",
        "df.groupBy(\"Health Service Area\").count().show(n=100)"
      ],
      "metadata": {
        "colab": {
          "base_uri": "https://localhost:8080/"
        },
        "id": "MyDOBlJu4sF_",
        "outputId": "f16104bb-ae36-4458-c9d7-3a97ea0eb2cc"
      },
      "execution_count": null,
      "outputs": [
        {
          "output_type": "stream",
          "name": "stdout",
          "text": [
            "+-------------------+-------+\n",
            "|Health Service Area|  count|\n",
            "+-------------------+-------+\n",
            "|         Central NY| 170912|\n",
            "|         Western NY| 185080|\n",
            "|     Capital/Adiron| 179929|\n",
            "|      Southern Tier|  31300|\n",
            "|      Hudson Valley| 273037|\n",
            "|        Long Island| 385262|\n",
            "|       Finger Lakes| 158605|\n",
            "|      New York City|1233121|\n",
            "|               NULL|   4887|\n",
            "+-------------------+-------+\n",
            "\n"
          ]
        }
      ]
    },
    {
      "cell_type": "code",
      "source": [
        "#58 categories of hospital counties\n",
        "df.groupBy(\"Hospital County\").count().orderBy('count', ascending=False).show(n=20)"
      ],
      "metadata": {
        "colab": {
          "base_uri": "https://localhost:8080/"
        },
        "id": "elGTKT215JmY",
        "outputId": "13b1955a-55ac-4d0e-d6f0-99f9acd1664b"
      },
      "execution_count": null,
      "outputs": [
        {
          "output_type": "stream",
          "name": "stdout",
          "text": [
            "+---------------+------+\n",
            "|Hospital County| count|\n",
            "+---------------+------+\n",
            "|      Manhattan|445288|\n",
            "|          Kings|298247|\n",
            "|         Queens|221325|\n",
            "|         Nassau|215831|\n",
            "|          Bronx|204328|\n",
            "|        Suffolk|169431|\n",
            "|    Westchester|131946|\n",
            "|           Erie|129617|\n",
            "|         Monroe|109402|\n",
            "|       Onondaga| 76289|\n",
            "|       Richmond| 63933|\n",
            "|         Albany| 62192|\n",
            "|         Orange| 42955|\n",
            "|         Oneida| 36454|\n",
            "|       Dutchess| 35424|\n",
            "|       Rockland| 34898|\n",
            "|         Broome| 29078|\n",
            "|    Schenectady| 22989|\n",
            "|        Niagara| 21450|\n",
            "|        Chemung| 17366|\n",
            "+---------------+------+\n",
            "only showing top 20 rows\n",
            "\n"
          ]
        }
      ]
    },
    {
      "cell_type": "code",
      "source": [
        "#76 zip codes of the patient\n",
        "df.groupBy(\"Zip Code - 3 digits\").count().orderBy('count', ascending=False).show(n=20)"
      ],
      "metadata": {
        "colab": {
          "base_uri": "https://localhost:8080/"
        },
        "id": "mSo8gwa_0Bgs",
        "outputId": "5a792d3d-ff84-49de-8f0d-d1cd2f299d78"
      },
      "execution_count": null,
      "outputs": [
        {
          "output_type": "stream",
          "name": "stdout",
          "text": [
            "+-------------------+------+\n",
            "|Zip Code - 3 digits| count|\n",
            "+-------------------+------+\n",
            "|                112|364357|\n",
            "|                104|243938|\n",
            "|                117|202733|\n",
            "|                100|201754|\n",
            "|                113|139877|\n",
            "|                115|102381|\n",
            "|                114|100309|\n",
            "|                OOS| 74242|\n",
            "|                142| 72432|\n",
            "|                105| 68536|\n",
            "|                103| 68045|\n",
            "|                109| 63469|\n",
            "|                146| 58500|\n",
            "|                125| 50583|\n",
            "|                140| 49984|\n",
            "|                119| 36746|\n",
            "|                130| 35603|\n",
            "|                107| 35553|\n",
            "|                145| 32462|\n",
            "|                144| 31461|\n",
            "+-------------------+------+\n",
            "only showing top 20 rows\n",
            "\n"
          ]
        }
      ]
    },
    {
      "cell_type": "code",
      "source": [
        "#120 categories of legnth of stay\n",
        "df.groupBy(\"Length of Stay\").count().show(n=100)"
      ],
      "metadata": {
        "colab": {
          "base_uri": "https://localhost:8080/"
        },
        "id": "ln2Ob6Op-1mO",
        "outputId": "88176493-aeb9-4fce-f13f-feae48867eec"
      },
      "execution_count": null,
      "outputs": [
        {
          "output_type": "stream",
          "name": "stdout",
          "text": [
            "+--------------+------+\n",
            "|Length of Stay| count|\n",
            "+--------------+------+\n",
            "|             7|104813|\n",
            "|            51|   602|\n",
            "|            15| 19087|\n",
            "|            54|   530|\n",
            "|            11| 35890|\n",
            "|           101|    67|\n",
            "|            29|  3428|\n",
            "|            69|   255|\n",
            "|            42|  1206|\n",
            "|           112|    54|\n",
            "|            87|   115|\n",
            "|            73|   213|\n",
            "|            64|   337|\n",
            "|             3|449094|\n",
            "|            30|  2872|\n",
            "|           113|    71|\n",
            "|            34|  2057|\n",
            "|            59|   722|\n",
            "|             8| 76128|\n",
            "|            22|  7323|\n",
            "|            28|  6552|\n",
            "|            85|   159|\n",
            "|            16| 14965|\n",
            "|            35|  2075|\n",
            "|            52|   559|\n",
            "|            71|   256|\n",
            "|            98|   111|\n",
            "|            47|   786|\n",
            "|            99|    75|\n",
            "|           107|    55|\n",
            "|           110|    63|\n",
            "|            96|    89|\n",
            "|            43|  1087|\n",
            "|             5|178402|\n",
            "|            31|  2431|\n",
            "|           100|    88|\n",
            "|            18| 11036|\n",
            "|            70|   281|\n",
            "|            27|  4259|\n",
            "|            61|   333|\n",
            "|            75|   171|\n",
            "|            17| 12862|\n",
            "|            26|  4179|\n",
            "|            46|   851|\n",
            "|            78|   172|\n",
            "|            89|   133|\n",
            "|            77|   213|\n",
            "|             6|130230|\n",
            "|           118|    57|\n",
            "|            60|   416|\n",
            "|            68|   231|\n",
            "|            90|   109|\n",
            "|           104|    96|\n",
            "|            19|  9564|\n",
            "|            23|  5739|\n",
            "|            41|  1203|\n",
            "|           102|    71|\n",
            "|            55|   560|\n",
            "|           111|    60|\n",
            "|            95|    81|\n",
            "|            93|    93|\n",
            "|           103|    86|\n",
            "|            38|  1318|\n",
            "|            40|  1210|\n",
            "|            25|  4758|\n",
            "|            44|   935|\n",
            "|            82|   135|\n",
            "|           115|    41|\n",
            "|            53|   509|\n",
            "|            92|   124|\n",
            "|           108|    66|\n",
            "|           117|    50|\n",
            "|            86|   127|\n",
            "|            58|   393|\n",
            "|            81|   153|\n",
            "|            33|  2065|\n",
            "|           114|    67|\n",
            "|            48|   765|\n",
            "|            97|    94|\n",
            "|            67|   258|\n",
            "|           106|    71|\n",
            "|            84|   171|\n",
            "|            79|   154|\n",
            "|             9| 56096|\n",
            "|            24|  5181|\n",
            "|            32|  2281|\n",
            "|           116|    38|\n",
            "|         120 +|  2215|\n",
            "|            88|   118|\n",
            "|             1|428644|\n",
            "|           105|    85|\n",
            "|            20|  9108|\n",
            "|            56|   490|\n",
            "|            36|  1782|\n",
            "|            10| 44466|\n",
            "|            37|  1512|\n",
            "|            49|   748|\n",
            "|            63|   413|\n",
            "|            65|   279|\n",
            "|             4|281838|\n",
            "+--------------+------+\n",
            "only showing top 100 rows\n",
            "\n"
          ]
        }
      ]
    },
    {
      "cell_type": "code",
      "source": [
        "df.groupBy(\"Age Group\").count().show(n=100)"
      ],
      "metadata": {
        "colab": {
          "base_uri": "https://localhost:8080/"
        },
        "id": "0P35QaDM79ql",
        "outputId": "b330c6d8-3a7f-413e-f79e-9be8c88eff0c"
      },
      "execution_count": null,
      "outputs": [
        {
          "output_type": "stream",
          "name": "stdout",
          "text": [
            "+-----------+------+\n",
            "|  Age Group| count|\n",
            "+-----------+------+\n",
            "|    0 to 17|387353|\n",
            "|   18 to 29|281978|\n",
            "|   50 to 69|680166|\n",
            "|70 or Older|725253|\n",
            "|   30 to 49|547383|\n",
            "+-----------+------+\n",
            "\n"
          ]
        }
      ]
    },
    {
      "cell_type": "code",
      "source": [
        "df.groupBy(\"Race\").count().show(n=100)"
      ],
      "metadata": {
        "colab": {
          "base_uri": "https://localhost:8080/"
        },
        "id": "WDPk9MAgHdyD",
        "outputId": "4ca9c421-30be-4e8d-a03f-e9d2783e0517"
      },
      "execution_count": null,
      "outputs": [
        {
          "output_type": "stream",
          "name": "stdout",
          "text": [
            "+--------------------+-------+\n",
            "|                Race|  count|\n",
            "+--------------------+-------+\n",
            "|          Other Race| 493854|\n",
            "|             Unknown|  28340|\n",
            "|               White|1601378|\n",
            "|Black/African Ame...| 498561|\n",
            "+--------------------+-------+\n",
            "\n"
          ]
        }
      ]
    },
    {
      "cell_type": "code",
      "source": [
        "df.groupBy(\"Ethnicity\").count().show(n=100)"
      ],
      "metadata": {
        "colab": {
          "base_uri": "https://localhost:8080/"
        },
        "id": "MSiQO-MKHd74",
        "outputId": "93f4f6ec-ee88-4853-d65c-fde37d2318dd"
      },
      "execution_count": null,
      "outputs": [
        {
          "output_type": "stream",
          "name": "stdout",
          "text": [
            "+-----------------+-------+\n",
            "|        Ethnicity|  count|\n",
            "+-----------------+-------+\n",
            "|Not Span/Hispanic|2116780|\n",
            "|          Unknown| 153744|\n",
            "| Spanish/Hispanic| 351609|\n",
            "+-----------------+-------+\n",
            "\n"
          ]
        }
      ]
    },
    {
      "cell_type": "code",
      "source": [
        "#20 categories, consider reducing since a few have <10,000\n",
        "df.groupBy(\"Patient Disposition\").count().show(n=100)"
      ],
      "metadata": {
        "colab": {
          "base_uri": "https://localhost:8080/"
        },
        "id": "RFYMzvSvCgbG",
        "outputId": "9cb8845a-b58e-42dc-c84b-7520e2019e80"
      },
      "execution_count": null,
      "outputs": [
        {
          "output_type": "stream",
          "name": "stdout",
          "text": [
            "+--------------------+-------+\n",
            "| Patient Disposition|  count|\n",
            "+--------------------+-------+\n",
            "|Hospice - Medical...|   8635|\n",
            "|Court/Law Enforce...|   3324|\n",
            "|Facility w/ Custo...|   7291|\n",
            "|Another Type Not ...|   8540|\n",
            "|Skilled Nursing Home| 246148|\n",
            "|                NULL|    103|\n",
            "|Medicare Cert Lon...|   3475|\n",
            "|   Home or Self Care|1786141|\n",
            "|Cancer Center or ...|   5035|\n",
            "|Inpatient Rehabil...|  44489|\n",
            "|Home w/ Home Heal...| 321896|\n",
            "|             Expired|  56160|\n",
            "|Psychiatric Hospi...|  15320|\n",
            "|Medicaid Cert Nur...|     46|\n",
            "|Hosp Basd Medicar...|   2056|\n",
            "|Left Against Medi...|  56948|\n",
            "| Short-term Hospital|  47215|\n",
            "|Federal Health Ca...|    718|\n",
            "|Critical Access H...|     44|\n",
            "|      Hospice - Home|   8549|\n",
            "+--------------------+-------+\n",
            "\n"
          ]
        }
      ]
    },
    {
      "cell_type": "code",
      "source": [
        "#316 categories\n",
        "df.groupBy(\"APR DRG Description\").count().orderBy('count', ascending=False).show(n=20)"
      ],
      "metadata": {
        "colab": {
          "base_uri": "https://localhost:8080/"
        },
        "id": "Cwd-9BqRDR82",
        "outputId": "f54d2300-3c7a-4ae8-ba1f-d6990db9c898"
      },
      "execution_count": null,
      "outputs": [
        {
          "output_type": "stream",
          "name": "stdout",
          "text": [
            "+--------------------+------+\n",
            "| APR DRG Description| count|\n",
            "+--------------------+------+\n",
            "|NEONATE BIRTHWT >...|210893|\n",
            "|    VAGINAL DELIVERY|152443|\n",
            "|   CESAREAN DELIVERY| 81812|\n",
            "|       HEART FAILURE| 57440|\n",
            "|SEPTICEMIA & DISS...| 53025|\n",
            "|     OTHER PNEUMONIA| 51231|\n",
            "|CHRONIC OBSTRUCTI...| 48109|\n",
            "|CELLULITIS & OTHE...| 42264|\n",
            "|CARDIAC ARRHYTHMI...| 40354|\n",
            "|          CHEST PAIN| 39776|\n",
            "|      REHABILITATION| 38170|\n",
            "|PERCUTANEOUS CARD...| 37696|\n",
            "|KIDNEY & URINARY ...| 35035|\n",
            "|       SCHIZOPHRENIA| 32885|\n",
            "|KNEE JOINT REPLAC...| 32212|\n",
            "|  SYNCOPE & COLLAPSE| 31922|\n",
            "|ANGINA PECTORIS &...| 30331|\n",
            "|   BIPOLAR DISORDERS| 30287|\n",
            "|MAJOR DEPRESSIVE ...| 29706|\n",
            "|NON-BACTERIAL GAS...| 28559|\n",
            "+--------------------+------+\n",
            "only showing top 20 rows\n",
            "\n"
          ]
        }
      ]
    },
    {
      "cell_type": "code",
      "source": [
        "#26 categories\n",
        "df.groupBy('APR MDC Description').count().orderBy('count', ascending=False).show(n=20)"
      ],
      "metadata": {
        "colab": {
          "base_uri": "https://localhost:8080/"
        },
        "id": "yffHivFjD0X7",
        "outputId": "43cd6da9-2682-42f6-a638-357fa11b5b1a"
      },
      "execution_count": null,
      "outputs": [
        {
          "output_type": "stream",
          "name": "stdout",
          "text": [
            "+--------------------+------+\n",
            "| APR MDC Description| count|\n",
            "+--------------------+------+\n",
            "|Diseases and Diso...|396907|\n",
            "|Pregnancy, Childb...|273123|\n",
            "|Newborns and Othe...|246173|\n",
            "|Diseases and Diso...|233412|\n",
            "|Diseases and Diso...|221189|\n",
            "|Diseases and Diso...|202225|\n",
            "|Diseases and Diso...|149874|\n",
            "|Mental Diseases a...|121808|\n",
            "|Diseases and Diso...|110336|\n",
            "|Alcohol/Drug Use ...| 89385|\n",
            "|Infectious and Pa...| 87763|\n",
            "|Endocrine, Nutrit...| 78191|\n",
            "|Diseases and Diso...| 74665|\n",
            "|Diseases and Diso...| 69334|\n",
            "|Rehabilitation, A...| 54373|\n",
            "|Diseases and Diso...| 43194|\n",
            "|Diseases and Diso...| 39025|\n",
            "|Ear, Nose, Mouth,...| 36839|\n",
            "|Poisonings, Toxic...| 32205|\n",
            "|Lymphatic, Hemato...| 25702|\n",
            "+--------------------+------+\n",
            "only showing top 20 rows\n",
            "\n"
          ]
        }
      ]
    },
    {
      "cell_type": "code",
      "source": [
        "#5 categories\n",
        "df.groupBy('APR Severity of Illness Description').count().orderBy('count', ascending=False).show(n=20)"
      ],
      "metadata": {
        "colab": {
          "base_uri": "https://localhost:8080/"
        },
        "id": "Gv6WLvApD__f",
        "outputId": "d59ffd53-52d3-4706-c25e-3b570397f14a"
      },
      "execution_count": null,
      "outputs": [
        {
          "output_type": "stream",
          "name": "stdout",
          "text": [
            "+-----------------------------------+------+\n",
            "|APR Severity of Illness Description| count|\n",
            "+-----------------------------------+------+\n",
            "|                              Minor|974425|\n",
            "|                           Moderate|962658|\n",
            "|                              Major|530085|\n",
            "|                            Extreme|154724|\n",
            "|                               NULL|   241|\n",
            "+-----------------------------------+------+\n",
            "\n"
          ]
        }
      ]
    },
    {
      "cell_type": "code",
      "source": [
        "#5 categories\n",
        "df.groupBy('APR Risk of Mortality').count().orderBy('count', ascending=False).show(n=20)"
      ],
      "metadata": {
        "colab": {
          "base_uri": "https://localhost:8080/"
        },
        "id": "2WG4yH-HEShI",
        "outputId": "65075748-0c50-4a65-e6c7-573ddea3bce9"
      },
      "execution_count": null,
      "outputs": [
        {
          "output_type": "stream",
          "name": "stdout",
          "text": [
            "+---------------------+-------+\n",
            "|APR Risk of Mortality|  count|\n",
            "+---------------------+-------+\n",
            "|                Minor|1644151|\n",
            "|             Moderate| 554542|\n",
            "|                Major| 300829|\n",
            "|              Extreme| 122370|\n",
            "|                 NULL|    241|\n",
            "+---------------------+-------+\n",
            "\n"
          ]
        }
      ]
    },
    {
      "cell_type": "code",
      "source": [
        "#3 categories\n",
        "df.groupBy('APR Medical Surgical Description').count().orderBy('count', ascending=False).show(n=20)"
      ],
      "metadata": {
        "colab": {
          "base_uri": "https://localhost:8080/"
        },
        "id": "QtUjxcnaEfPS",
        "outputId": "9ff26620-dea8-452e-9b0e-a2c70103c4ed"
      },
      "execution_count": null,
      "outputs": [
        {
          "output_type": "stream",
          "name": "stdout",
          "text": [
            "+--------------------------------+-------+\n",
            "|APR Medical Surgical Description|  count|\n",
            "+--------------------------------+-------+\n",
            "|                         Medical|2002344|\n",
            "|                        Surgical| 619548|\n",
            "|                  Not Applicable|    241|\n",
            "+--------------------------------+-------+\n",
            "\n"
          ]
        }
      ]
    },
    {
      "cell_type": "code",
      "source": [
        "#263 categories\n",
        "df.groupBy('CCS Diagnosis Description').count().orderBy('count', ascending=False).show(n=20)"
      ],
      "metadata": {
        "colab": {
          "base_uri": "https://localhost:8080/"
        },
        "id": "SJpfC9-dE2k8",
        "outputId": "7faa78c7-7968-470c-e2dd-2dbacf7e57b2"
      },
      "execution_count": null,
      "outputs": [
        {
          "output_type": "stream",
          "name": "stdout",
          "text": [
            "+-------------------------+------+\n",
            "|CCS Diagnosis Description| count|\n",
            "+-------------------------+------+\n",
            "|                 LIVEBORN|241123|\n",
            "|           MOOD DISORDERS| 63068|\n",
            "|                      CHF| 62241|\n",
            "|               SEPTICEMIA| 60989|\n",
            "|               CHEST PAIN| 60055|\n",
            "|     CORONARY ATHEROSCLER| 59440|\n",
            "|                PNEUMONIA| 57579|\n",
            "|              DYSRHYTHMIA| 54446|\n",
            "|           OSTEOARTHRITIS| 50369|\n",
            "|     ALCOHOL-RELATD DI...| 48982|\n",
            "|     SKIN/SUBCUT TISS ...| 44259|\n",
            "|     SUBSTANCE-RLTD DI...| 43555|\n",
            "|     OTH COMP BIRTH/PU...| 42187|\n",
            "|     DEVICE/IMPLNT/GRF...| 41238|\n",
            "|     SCHIZ/OTH PSYCH D...| 40444|\n",
            "|         DIABETES W/COMPL| 39075|\n",
            "|                   ASTHMA| 38856|\n",
            "|     REHAB/PROSTH FIT/...| 38395|\n",
            "|     OB PERINEAL/VULV ...| 37888|\n",
            "|                     COPD| 37568|\n",
            "+-------------------------+------+\n",
            "only showing top 20 rows\n",
            "\n"
          ]
        }
      ]
    },
    {
      "cell_type": "code",
      "source": [
        "#233 categories\n",
        "#Set threshold, FOR EXAMPLE <30,000, convert remaining to 'Other' to reduce categories to 20 or less\n",
        "df.groupBy('CCS Procedure Description').count().orderBy('count', ascending=False).show(n=20)"
      ],
      "metadata": {
        "colab": {
          "base_uri": "https://localhost:8080/"
        },
        "id": "TeEhgw2Gb0Ns",
        "outputId": "31638765-da6c-400b-9552-825d4b20df00"
      },
      "execution_count": null,
      "outputs": [
        {
          "output_type": "stream",
          "name": "stdout",
          "text": [
            "+-------------------------+------+\n",
            "|CCS Procedure Description| count|\n",
            "+-------------------------+------+\n",
            "|                  NO PROC|665758|\n",
            "|     OTHER THERAPEUTIC...|159957|\n",
            "|         CESAREAN SECTION| 81491|\n",
            "|     ALCO/DRUG REHAB/D...| 75161|\n",
            "|     PROPHYLACTIC VAC/...| 70832|\n",
            "|     RESP INTUB/MECH V...| 65991|\n",
            "|     OT PRCS TO ASSIST...| 65302|\n",
            "|     REPAIR CUR OBS LA...| 56677|\n",
            "|             CIRCUMCISION| 54895|\n",
            "|     OPHTHALM-/OT-OLOG...| 51537|\n",
            "|        BLOOD TRANSFUSION| 51187|\n",
            "|     PSYCHO/PSYCHI EVA...| 47823|\n",
            "|     PERC TRANSLUM COR...| 42069|\n",
            "|      DX ULTRASOUND HEART| 38993|\n",
            "|     COMP AXIAL TOMOGR...| 36812|\n",
            "|     UP GASTRO ENDOSC/...| 36544|\n",
            "|        ARTHROPLASTY KNEE| 32502|\n",
            "|     DX CARDIAC CATHET...| 31603|\n",
            "|       OTHER RESP THERAPY| 29740|\n",
            "|     HIP REPLACEMENT,T...| 26192|\n",
            "+-------------------------+------+\n",
            "only showing top 20 rows\n",
            "\n"
          ]
        }
      ]
    },
    {
      "cell_type": "markdown",
      "source": [
        "Encode categorical variables of interest"
      ],
      "metadata": {
        "id": "8oGx0EOCwj5y"
      }
    },
    {
      "cell_type": "code",
      "source": [
        "df_manhattan.count()"
      ],
      "metadata": {
        "colab": {
          "base_uri": "https://localhost:8080/"
        },
        "id": "oSzT4LXg_Jp5",
        "outputId": "d0c1a7bd-b62f-4851-d6fd-3135481c18e1"
      },
      "execution_count": null,
      "outputs": [
        {
          "output_type": "execute_result",
          "data": {
            "text/plain": [
              "443902"
            ]
          },
          "metadata": {},
          "execution_count": 17
        }
      ]
    },
    {
      "cell_type": "code",
      "source": [
        "df_manhattan.show()"
      ],
      "metadata": {
        "colab": {
          "base_uri": "https://localhost:8080/"
        },
        "id": "gA5yknu9_AnX",
        "outputId": "29316d67-a9bf-4670-8724-9e330db4387b"
      },
      "execution_count": null,
      "outputs": [
        {
          "output_type": "stream",
          "name": "stdout",
          "text": [
            "+-------------------+---------------+-----------+--------------------+---------+-------------------+------+-----+-----------------+--------------+-----------------+-------------------+------------------+-------------------------+------------------+-------------------------+------------+--------------------+------------+--------------------+----------------------------+-----------------------------------+---------------------+--------------------------------+-------------------+------------------------------+-------------+-----------+\n",
            "|Health Service Area|Hospital County|Facility ID|       Facility Name|Age Group|Zip Code - 3 digits|Gender| Race|        Ethnicity|Length of Stay|Type of Admission|Patient Disposition|CCS Diagnosis Code|CCS Diagnosis Description|CCS Procedure Code|CCS Procedure Description|APR DRG Code| APR DRG Description|APR MDC Code| APR MDC Description|APR Severity of Illness Code|APR Severity of Illness Description|APR Risk of Mortality|APR Medical Surgical Description|Source of Payment 1|Emergency Department Indicator|Total Charges|Total Costs|\n",
            "+-------------------+---------------+-----------+--------------------+---------+-------------------+------+-----+-----------------+--------------+-----------------+-------------------+------------------+-------------------------+------------------+-------------------------+------------+--------------------+------------+--------------------+----------------------------+-----------------------------------+---------------------+--------------------------------+-------------------+------------------------------+-------------+-----------+\n",
            "|      New York City|      Manhattan|     1437.0|New York Downtown...|  0 to 17|                100|     M|White|Not Span/Hispanic|             2|          Newborn|  Home or Self Care|             218.0|                 LIVEBORN|             228.0|     PROPHYLACTIC VAC/...|         640|NEONATE BIRTHWT >...|          15|Newborns and Othe...|                           1|                              Minor|                Minor|                         Medical|         Blue Cross|                             N|      2468.95|    1423.82|\n",
            "|      New York City|      Manhattan|     1437.0|New York Downtown...|  0 to 17|                100|     M|White|Not Span/Hispanic|             3|          Newborn|  Home or Self Care|             218.0|                 LIVEBORN|             228.0|     PROPHYLACTIC VAC/...|         640|NEONATE BIRTHWT >...|          15|Newborns and Othe...|                           1|                              Minor|                Minor|                         Medical|         Blue Cross|                             N|      6647.18|    3335.77|\n",
            "|      New York City|      Manhattan|     1437.0|New York Downtown...|  0 to 17|                100|     M|White|Not Span/Hispanic|             2|          Newborn|  Home or Self Care|             218.0|                 LIVEBORN|             228.0|     PROPHYLACTIC VAC/...|         640|NEONATE BIRTHWT >...|          15|Newborns and Othe...|                           1|                              Minor|                Minor|                         Medical|  Insurance Company|                             N|      5702.18|     2712.7|\n",
            "|      New York City|      Manhattan|     1437.0|New York Downtown...|  0 to 17|                100|     M|White|Not Span/Hispanic|             2|          Newborn|  Home or Self Care|             218.0|                 LIVEBORN|             228.0|     PROPHYLACTIC VAC/...|         640|NEONATE BIRTHWT >...|          15|Newborns and Othe...|                           1|                              Minor|                Minor|                         Medical|         Blue Cross|                             N|      2125.58|    1337.46|\n",
            "|      New York City|      Manhattan|     1437.0|New York Downtown...|  0 to 17|                100|     M|White|Not Span/Hispanic|             3|          Newborn|  Home or Self Care|             218.0|                 LIVEBORN|             220.0|     OPHTHALM-/OT-OLOG...|         640|NEONATE BIRTHWT >...|          15|Newborns and Othe...|                           1|                              Minor|                Minor|                         Medical|         Blue Cross|                             N|      3050.58|    1952.85|\n",
            "|      New York City|      Manhattan|     1437.0|New York Downtown...|  0 to 17|                100|     M|White|Not Span/Hispanic|             2|          Newborn|  Home or Self Care|             218.0|                 LIVEBORN|             220.0|     OPHTHALM-/OT-OLOG...|         640|NEONATE BIRTHWT >...|          15|Newborns and Othe...|                           1|                              Minor|                Minor|                         Medical|         Blue Cross|                             N|      2660.73|    1489.77|\n",
            "|      New York City|      Manhattan|     1437.0|New York Downtown...|  0 to 17|                100|     M|White|Not Span/Hispanic|             3|          Newborn|  Home or Self Care|             218.0|                 LIVEBORN|             115.0|             CIRCUMCISION|         640|NEONATE BIRTHWT >...|          15|Newborns and Othe...|                           1|                              Minor|                Minor|                         Medical|         Blue Cross|                             N|      6973.59|    3409.57|\n",
            "|      New York City|      Manhattan|     1437.0|New York Downtown...|  0 to 17|                100|     M|White|Not Span/Hispanic|             5|          Newborn|  Home or Self Care|             218.0|                 LIVEBORN|             231.0|     OTHER THERAPEUTIC...|         639|NEONATE BIRTHWT >...|          15|Newborns and Othe...|                           2|                           Moderate|                Minor|                         Medical|  Insurance Company|                             N|      7439.85|    3820.42|\n",
            "|      New York City|      Manhattan|     1437.0|New York Downtown...|  0 to 17|                100|     M|White|Not Span/Hispanic|             2|          Newborn|  Home or Self Care|             218.0|                 LIVEBORN|             115.0|             CIRCUMCISION|         640|NEONATE BIRTHWT >...|          15|Newborns and Othe...|                           1|                              Minor|                Minor|                         Medical|  Insurance Company|                             N|      2436.07|    1405.81|\n",
            "|      New York City|      Manhattan|     1437.0|New York Downtown...|  0 to 17|                100|     M|White|Not Span/Hispanic|             3|          Newborn|  Home or Self Care|             218.0|                 LIVEBORN|             231.0|     OTHER THERAPEUTIC...|         640|NEONATE BIRTHWT >...|          15|Newborns and Othe...|                           2|                           Moderate|                Minor|                         Medical|         Blue Cross|                             N|      5345.13|    3111.76|\n",
            "|      New York City|      Manhattan|     1437.0|New York Downtown...|  0 to 17|                100|     M|White|Not Span/Hispanic|             2|          Newborn|  Home or Self Care|             218.0|                 LIVEBORN|             220.0|     OPHTHALM-/OT-OLOG...|         640|NEONATE BIRTHWT >...|          15|Newborns and Othe...|                           1|                              Minor|                Minor|                         Medical|  Insurance Company|                             N|      2330.24|    1413.74|\n",
            "|      New York City|      Manhattan|     1437.0|New York Downtown...|  0 to 17|                100|     M|White|Not Span/Hispanic|             2|          Newborn|  Home or Self Care|             218.0|                 LIVEBORN|             228.0|     PROPHYLACTIC VAC/...|         640|NEONATE BIRTHWT >...|          15|Newborns and Othe...|                           1|                              Minor|                Minor|                         Medical|  Insurance Company|                             N|      2456.07|    1413.49|\n",
            "|      New York City|      Manhattan|     1437.0|New York Downtown...|  0 to 17|                100|     M|White|Not Span/Hispanic|             2|          Newborn|  Home or Self Care|             218.0|                 LIVEBORN|             115.0|             CIRCUMCISION|         640|NEONATE BIRTHWT >...|          15|Newborns and Othe...|                           1|                              Minor|                Minor|                         Medical|  Insurance Company|                             N|       2157.2|    1353.39|\n",
            "|      New York City|      Manhattan|     1437.0|New York Downtown...|  0 to 17|                100|     M|White|Not Span/Hispanic|             3|          Newborn|  Home or Self Care|             218.0|                 LIVEBORN|             228.0|     PROPHYLACTIC VAC/...|         640|NEONATE BIRTHWT >...|          15|Newborns and Othe...|                           1|                              Minor|                Minor|                         Medical|  Insurance Company|                             N|      3419.81|    2042.16|\n",
            "|      New York City|      Manhattan|     1437.0|New York Downtown...|  0 to 17|                100|     M|White|Not Span/Hispanic|             3|          Newborn|  Home or Self Care|             218.0|                 LIVEBORN|             228.0|     PROPHYLACTIC VAC/...|         640|NEONATE BIRTHWT >...|          15|Newborns and Othe...|                           1|                              Minor|                Minor|                         Medical|  Insurance Company|                             N|      3490.58|    2057.15|\n",
            "|      New York City|      Manhattan|     1437.0|New York Downtown...|  0 to 17|                100|     M|White|Not Span/Hispanic|             2|          Newborn|  Home or Self Care|             218.0|                 LIVEBORN|             115.0|             CIRCUMCISION|         640|NEONATE BIRTHWT >...|          15|Newborns and Othe...|                           1|                              Minor|                Minor|                         Medical|  Insurance Company|                             N|      5665.22|    2695.74|\n",
            "|      New York City|      Manhattan|     1437.0|New York Downtown...|  0 to 17|                100|     M|White|Not Span/Hispanic|             2|          Newborn|  Home or Self Care|             218.0|                 LIVEBORN|             228.0|     PROPHYLACTIC VAC/...|         640|NEONATE BIRTHWT >...|          15|Newborns and Othe...|                           1|                              Minor|                Minor|                         Medical|  Insurance Company|                             N|      2350.24|    1424.69|\n",
            "|      New York City|      Manhattan|     1437.0|New York Downtown...|  0 to 17|                100|     M|White|Not Span/Hispanic|             4|          Newborn|  Home or Self Care|             218.0|                 LIVEBORN|             231.0|     OTHER THERAPEUTIC...|         640|NEONATE BIRTHWT >...|          15|Newborns and Othe...|                           2|                           Moderate|                Minor|                         Medical|         Blue Cross|                             N|      4819.01|    2773.11|\n",
            "|      New York City|      Manhattan|     1437.0|New York Downtown...|  0 to 17|                100|     M|White|Not Span/Hispanic|             2|          Newborn|  Home or Self Care|             218.0|                 LIVEBORN|             228.0|     PROPHYLACTIC VAC/...|         640|NEONATE BIRTHWT >...|          15|Newborns and Othe...|                           1|                              Minor|                Minor|                         Medical|  Insurance Company|                             N|      2105.58|    1329.78|\n",
            "|      New York City|      Manhattan|     1437.0|New York Downtown...|  0 to 17|                100|     M|White|Not Span/Hispanic|            19|          Newborn|  Home or Self Care|             218.0|                 LIVEBORN|             216.0|     RESP INTUB/MECH V...|         622|NEONATE BWT 2000-...|          15|Newborns and Othe...|                           2|                           Moderate|                Minor|                         Medical|  Insurance Company|                             Y|     48657.02|   18988.02|\n",
            "+-------------------+---------------+-----------+--------------------+---------+-------------------+------+-----+-----------------+--------------+-----------------+-------------------+------------------+-------------------------+------------------+-------------------------+------------+--------------------+------------+--------------------+----------------------------+-----------------------------------+---------------------+--------------------------------+-------------------+------------------------------+-------------+-----------+\n",
            "only showing top 20 rows\n",
            "\n"
          ]
        }
      ]
    },
    {
      "cell_type": "code",
      "source": [
        "df_manhattan = df_clean.filter(col('Hospital County') == \"Manhattan\")"
      ],
      "metadata": {
        "id": "aOiKgIgy7BGU"
      },
      "execution_count": null,
      "outputs": []
    },
    {
      "cell_type": "code",
      "source": [
        "#Encode categorical columns of interest Health Service Area, Age Group, Zip Code - 3 digits, Gender, Race, Emergency Department Indicator, Source of Payment 1-3,\n",
        "# Type of Admission, Patient Disposition, APR Risk of Mortality, APR Medical Surgical Description\n",
        "\n",
        "strIndxAge = StringIndexer(inputCol = \"Age Group\", outputCol=\"AgeIndex\")\n",
        "encAge = OneHotEncoder(inputCol=\"AgeIndex\", outputCol=\"catVecAge\")\n",
        "\n",
        "strIndxSex = StringIndexer(inputCol = \"Gender\", outputCol=\"SexIndex\")\n",
        "encSex = OneHotEncoder(inputCol=\"SexIndex\", outputCol=\"catVecSex\")\n",
        "\n",
        "strIndxRace = StringIndexer(inputCol = \"Race\", outputCol=\"RaceIndex\")\n",
        "encRace = OneHotEncoder(inputCol=\"RaceIndex\", outputCol=\"catVecRace\")\n",
        "\n",
        "strIndxER = StringIndexer(inputCol = \"Emergency Department Indicator\", outputCol=\"ERIndex\")\n",
        "encER = OneHotEncoder(inputCol=\"ERIndex\", outputCol=\"catVecER\")\n",
        "\n",
        "strIndxPay1 = StringIndexer(inputCol = \"Source of Payment 1\", outputCol=\"Pay1Index\")\n",
        "encPay1 = OneHotEncoder(inputCol=\"Pay1Index\", outputCol=\"catVecPay1\")\n",
        "\n",
        "strIndxAdm = StringIndexer(inputCol = \"Type of Admission\", outputCol=\"AdmIndex\")\n",
        "encAdm = OneHotEncoder(inputCol=\"AdmIndex\", outputCol=\"catVecAdm\")\n",
        "\n",
        "strIndxDisp = StringIndexer(inputCol = \"Patient Disposition\", outputCol=\"DispIndex\")\n",
        "encDisp = OneHotEncoder(inputCol=\"DispIndex\", outputCol=\"catVecDisp\")\n",
        "\n",
        "strIndxMort = StringIndexer(inputCol = \"APR Risk of Mortality\", outputCol=\"MortIndex\")\n",
        "encMort = OneHotEncoder(inputCol=\"MortIndex\", outputCol=\"catVecMort\")\n",
        "\n",
        "strIndxSurg = StringIndexer(inputCol = \"APR Medical Surgical Description\", outputCol=\"SurgIndex\")\n",
        "encSurg = OneHotEncoder(inputCol=\"SurgIndex\", outputCol=\"catVecSurg\")\n",
        "\n",
        "pipeline = Pipeline(stages=[strIndxAge, encAge, strIndxSex, encSex, strIndxRace, encRace, strIndxER, encER,\n",
        "                            strIndxPay1, encPay1, strIndxAdm, encAdm, strIndxDisp, encDisp, strIndxMort, encMort, strIndxSurg, encSurg])\n",
        "\n"
      ],
      "metadata": {
        "id": "IFrJuJemw_ml"
      },
      "execution_count": null,
      "outputs": []
    },
    {
      "cell_type": "code",
      "source": [
        "#Fit pipeline model\n",
        "#2 min run time\n",
        "model = pipeline.fit(df_manhattan)\n",
        "df_trnfrm = model.transform(df_manhattan)"
      ],
      "metadata": {
        "id": "SjdHPdxAx1gA"
      },
      "execution_count": null,
      "outputs": []
    },
    {
      "cell_type": "code",
      "source": [
        "df_trnfrm.show(n=5)"
      ],
      "metadata": {
        "colab": {
          "base_uri": "https://localhost:8080/"
        },
        "id": "R5xlZ9TLyGHJ",
        "outputId": "d6ce5f46-3f3e-46b7-846e-6e8127dc1a9c"
      },
      "execution_count": null,
      "outputs": [
        {
          "output_type": "stream",
          "name": "stdout",
          "text": [
            "+-------------------+---------------+-----------+--------------------+---------+-------------------+------+-----+-----------------+--------------+-----------------+-------------------+------------------+-------------------------+------------------+-------------------------+------------+--------------------+------------+--------------------+----------------------------+-----------------------------------+---------------------+--------------------------------+-------------------+------------------------------+-------------+-----------+--------+-------------+--------+-------------+---------+-------------+-------+-------------+---------+-------------+--------+-------------+---------+--------------+---------+-------------+---------+-------------+\n",
            "|Health Service Area|Hospital County|Facility ID|       Facility Name|Age Group|Zip Code - 3 digits|Gender| Race|        Ethnicity|Length of Stay|Type of Admission|Patient Disposition|CCS Diagnosis Code|CCS Diagnosis Description|CCS Procedure Code|CCS Procedure Description|APR DRG Code| APR DRG Description|APR MDC Code| APR MDC Description|APR Severity of Illness Code|APR Severity of Illness Description|APR Risk of Mortality|APR Medical Surgical Description|Source of Payment 1|Emergency Department Indicator|Total Charges|Total Costs|AgeIndex|    catVecAge|SexIndex|    catVecSex|RaceIndex|   catVecRace|ERIndex|     catVecER|Pay1Index|   catVecPay1|AdmIndex|    catVecAdm|DispIndex|    catVecDisp|MortIndex|   catVecMort|SurgIndex|   catVecSurg|\n",
            "+-------------------+---------------+-----------+--------------------+---------+-------------------+------+-----+-----------------+--------------+-----------------+-------------------+------------------+-------------------------+------------------+-------------------------+------------+--------------------+------------+--------------------+----------------------------+-----------------------------------+---------------------+--------------------------------+-------------------+------------------------------+-------------+-----------+--------+-------------+--------+-------------+---------+-------------+-------+-------------+---------+-------------+--------+-------------+---------+--------------+---------+-------------+---------+-------------+\n",
            "|      New York City|      Manhattan|     1437.0|New York Downtown...|  0 to 17|                100|     M|White|Not Span/Hispanic|             2|          Newborn|  Home or Self Care|             218.0|                 LIVEBORN|             228.0|     PROPHYLACTIC VAC/...|         640|NEONATE BIRTHWT >...|          15|Newborns and Othe...|                           1|                              Minor|                Minor|                         Medical|         Blue Cross|                             N|      2468.95|    1423.82|     3.0|(4,[3],[1.0])|     1.0|(2,[1],[1.0])|      0.0|(3,[0],[1.0])|    0.0|(1,[0],[1.0])|      2.0|(9,[2],[1.0])|     2.0|(5,[2],[1.0])|      0.0|(17,[0],[1.0])|      0.0|(3,[0],[1.0])|      0.0|(1,[0],[1.0])|\n",
            "|      New York City|      Manhattan|     1437.0|New York Downtown...|  0 to 17|                100|     M|White|Not Span/Hispanic|             3|          Newborn|  Home or Self Care|             218.0|                 LIVEBORN|             228.0|     PROPHYLACTIC VAC/...|         640|NEONATE BIRTHWT >...|          15|Newborns and Othe...|                           1|                              Minor|                Minor|                         Medical|         Blue Cross|                             N|      6647.18|    3335.77|     3.0|(4,[3],[1.0])|     1.0|(2,[1],[1.0])|      0.0|(3,[0],[1.0])|    0.0|(1,[0],[1.0])|      2.0|(9,[2],[1.0])|     2.0|(5,[2],[1.0])|      0.0|(17,[0],[1.0])|      0.0|(3,[0],[1.0])|      0.0|(1,[0],[1.0])|\n",
            "|      New York City|      Manhattan|     1437.0|New York Downtown...|  0 to 17|                100|     M|White|Not Span/Hispanic|             2|          Newborn|  Home or Self Care|             218.0|                 LIVEBORN|             228.0|     PROPHYLACTIC VAC/...|         640|NEONATE BIRTHWT >...|          15|Newborns and Othe...|                           1|                              Minor|                Minor|                         Medical|  Insurance Company|                             N|      5702.18|     2712.7|     3.0|(4,[3],[1.0])|     1.0|(2,[1],[1.0])|      0.0|(3,[0],[1.0])|    0.0|(1,[0],[1.0])|      0.0|(9,[0],[1.0])|     2.0|(5,[2],[1.0])|      0.0|(17,[0],[1.0])|      0.0|(3,[0],[1.0])|      0.0|(1,[0],[1.0])|\n",
            "|      New York City|      Manhattan|     1437.0|New York Downtown...|  0 to 17|                100|     M|White|Not Span/Hispanic|             2|          Newborn|  Home or Self Care|             218.0|                 LIVEBORN|             228.0|     PROPHYLACTIC VAC/...|         640|NEONATE BIRTHWT >...|          15|Newborns and Othe...|                           1|                              Minor|                Minor|                         Medical|         Blue Cross|                             N|      2125.58|    1337.46|     3.0|(4,[3],[1.0])|     1.0|(2,[1],[1.0])|      0.0|(3,[0],[1.0])|    0.0|(1,[0],[1.0])|      2.0|(9,[2],[1.0])|     2.0|(5,[2],[1.0])|      0.0|(17,[0],[1.0])|      0.0|(3,[0],[1.0])|      0.0|(1,[0],[1.0])|\n",
            "|      New York City|      Manhattan|     1437.0|New York Downtown...|  0 to 17|                100|     M|White|Not Span/Hispanic|             3|          Newborn|  Home or Self Care|             218.0|                 LIVEBORN|             220.0|     OPHTHALM-/OT-OLOG...|         640|NEONATE BIRTHWT >...|          15|Newborns and Othe...|                           1|                              Minor|                Minor|                         Medical|         Blue Cross|                             N|      3050.58|    1952.85|     3.0|(4,[3],[1.0])|     1.0|(2,[1],[1.0])|      0.0|(3,[0],[1.0])|    0.0|(1,[0],[1.0])|      2.0|(9,[2],[1.0])|     2.0|(5,[2],[1.0])|      0.0|(17,[0],[1.0])|      0.0|(3,[0],[1.0])|      0.0|(1,[0],[1.0])|\n",
            "+-------------------+---------------+-----------+--------------------+---------+-------------------+------+-----+-----------------+--------------+-----------------+-------------------+------------------+-------------------------+------------------+-------------------------+------------+--------------------+------------+--------------------+----------------------------+-----------------------------------+---------------------+--------------------------------+-------------------+------------------------------+-------------+-----------+--------+-------------+--------+-------------+---------+-------------+-------+-------------+---------+-------------+--------+-------------+---------+--------------+---------+-------------+---------+-------------+\n",
            "only showing top 5 rows\n",
            "\n"
          ]
        }
      ]
    },
    {
      "cell_type": "code",
      "source": [
        "df_trnfrm.groupBy(\"AgeIndex\").count().show(n=100)"
      ],
      "metadata": {
        "id": "tgTsIhBQzPj3",
        "colab": {
          "base_uri": "https://localhost:8080/"
        },
        "outputId": "fde5fec8-0fe9-4786-d48f-9cb482a2795a"
      },
      "execution_count": null,
      "outputs": [
        {
          "output_type": "stream",
          "name": "stdout",
          "text": [
            "+--------+------+\n",
            "|AgeIndex| count|\n",
            "+--------+------+\n",
            "|     0.0|127591|\n",
            "|     1.0|105148|\n",
            "|     4.0| 41789|\n",
            "|     3.0| 69753|\n",
            "|     2.0| 99621|\n",
            "+--------+------+\n",
            "\n"
          ]
        }
      ]
    },
    {
      "cell_type": "markdown",
      "source": [
        "Convert to pandas to reduce categories for columns of interest"
      ],
      "metadata": {
        "id": "UHaTYCyy_PRN"
      }
    },
    {
      "cell_type": "code",
      "source": [
        "\n",
        "#4 min run time\n",
        "#@memory_profiler.profile\n",
        "#def to_pandas():\n",
        "pandas_df = df_trnfrm.toPandas()\n",
        "    #print(pandas_df)\n",
        "\n",
        "#pandas_df = to_pandas()\n",
        "\n"
      ],
      "metadata": {
        "id": "l-LpuDxcD0XZ"
      },
      "execution_count": null,
      "outputs": []
    },
    {
      "cell_type": "code",
      "source": [
        "pandas_df.head()"
      ],
      "metadata": {
        "colab": {
          "base_uri": "https://localhost:8080/",
          "height": 568
        },
        "id": "2J9vHQicD0hl",
        "outputId": "2d9f70ab-9e3f-438e-d765-ccde5b1ecc6e"
      },
      "execution_count": null,
      "outputs": [
        {
          "output_type": "execute_result",
          "data": {
            "text/plain": [
              "  Health Service Area Hospital County  Facility ID  \\\n",
              "0       New York City       Manhattan       1437.0   \n",
              "1       New York City       Manhattan       1437.0   \n",
              "2       New York City       Manhattan       1437.0   \n",
              "3       New York City       Manhattan       1437.0   \n",
              "4       New York City       Manhattan       1437.0   \n",
              "\n",
              "                Facility Name Age Group Zip Code - 3 digits Gender   Race  \\\n",
              "0  New York Downtown Hospital   0 to 17                 100      M  White   \n",
              "1  New York Downtown Hospital   0 to 17                 100      M  White   \n",
              "2  New York Downtown Hospital   0 to 17                 100      M  White   \n",
              "3  New York Downtown Hospital   0 to 17                 100      M  White   \n",
              "4  New York Downtown Hospital   0 to 17                 100      M  White   \n",
              "\n",
              "           Ethnicity Length of Stay  ... Pay1Index  \\\n",
              "0  Not Span/Hispanic              2  ...       2.0   \n",
              "1  Not Span/Hispanic              3  ...       2.0   \n",
              "2  Not Span/Hispanic              2  ...       0.0   \n",
              "3  Not Span/Hispanic              2  ...       2.0   \n",
              "4  Not Span/Hispanic              3  ...       2.0   \n",
              "\n",
              "                                      catVecPay1  AdmIndex  \\\n",
              "0  (0.0, 0.0, 1.0, 0.0, 0.0, 0.0, 0.0, 0.0, 0.0)       2.0   \n",
              "1  (0.0, 0.0, 1.0, 0.0, 0.0, 0.0, 0.0, 0.0, 0.0)       2.0   \n",
              "2  (1.0, 0.0, 0.0, 0.0, 0.0, 0.0, 0.0, 0.0, 0.0)       2.0   \n",
              "3  (0.0, 0.0, 1.0, 0.0, 0.0, 0.0, 0.0, 0.0, 0.0)       2.0   \n",
              "4  (0.0, 0.0, 1.0, 0.0, 0.0, 0.0, 0.0, 0.0, 0.0)       2.0   \n",
              "\n",
              "                   catVecAdm  DispIndex  \\\n",
              "0  (0.0, 0.0, 1.0, 0.0, 0.0)        0.0   \n",
              "1  (0.0, 0.0, 1.0, 0.0, 0.0)        0.0   \n",
              "2  (0.0, 0.0, 1.0, 0.0, 0.0)        0.0   \n",
              "3  (0.0, 0.0, 1.0, 0.0, 0.0)        0.0   \n",
              "4  (0.0, 0.0, 1.0, 0.0, 0.0)        0.0   \n",
              "\n",
              "                                          catVecDisp  MortIndex  \\\n",
              "0  (1.0, 0.0, 0.0, 0.0, 0.0, 0.0, 0.0, 0.0, 0.0, ...        0.0   \n",
              "1  (1.0, 0.0, 0.0, 0.0, 0.0, 0.0, 0.0, 0.0, 0.0, ...        0.0   \n",
              "2  (1.0, 0.0, 0.0, 0.0, 0.0, 0.0, 0.0, 0.0, 0.0, ...        0.0   \n",
              "3  (1.0, 0.0, 0.0, 0.0, 0.0, 0.0, 0.0, 0.0, 0.0, ...        0.0   \n",
              "4  (1.0, 0.0, 0.0, 0.0, 0.0, 0.0, 0.0, 0.0, 0.0, ...        0.0   \n",
              "\n",
              "        catVecMort  SurgIndex catVecSurg  \n",
              "0  (1.0, 0.0, 0.0)        0.0      (1.0)  \n",
              "1  (1.0, 0.0, 0.0)        0.0      (1.0)  \n",
              "2  (1.0, 0.0, 0.0)        0.0      (1.0)  \n",
              "3  (1.0, 0.0, 0.0)        0.0      (1.0)  \n",
              "4  (1.0, 0.0, 0.0)        0.0      (1.0)  \n",
              "\n",
              "[5 rows x 46 columns]"
            ],
            "text/html": [
              "\n",
              "  <div id=\"df-5d2c0f18-e2fd-44da-82de-67a3c77dfae6\" class=\"colab-df-container\">\n",
              "    <div>\n",
              "<style scoped>\n",
              "    .dataframe tbody tr th:only-of-type {\n",
              "        vertical-align: middle;\n",
              "    }\n",
              "\n",
              "    .dataframe tbody tr th {\n",
              "        vertical-align: top;\n",
              "    }\n",
              "\n",
              "    .dataframe thead th {\n",
              "        text-align: right;\n",
              "    }\n",
              "</style>\n",
              "<table border=\"1\" class=\"dataframe\">\n",
              "  <thead>\n",
              "    <tr style=\"text-align: right;\">\n",
              "      <th></th>\n",
              "      <th>Health Service Area</th>\n",
              "      <th>Hospital County</th>\n",
              "      <th>Facility ID</th>\n",
              "      <th>Facility Name</th>\n",
              "      <th>Age Group</th>\n",
              "      <th>Zip Code - 3 digits</th>\n",
              "      <th>Gender</th>\n",
              "      <th>Race</th>\n",
              "      <th>Ethnicity</th>\n",
              "      <th>Length of Stay</th>\n",
              "      <th>...</th>\n",
              "      <th>Pay1Index</th>\n",
              "      <th>catVecPay1</th>\n",
              "      <th>AdmIndex</th>\n",
              "      <th>catVecAdm</th>\n",
              "      <th>DispIndex</th>\n",
              "      <th>catVecDisp</th>\n",
              "      <th>MortIndex</th>\n",
              "      <th>catVecMort</th>\n",
              "      <th>SurgIndex</th>\n",
              "      <th>catVecSurg</th>\n",
              "    </tr>\n",
              "  </thead>\n",
              "  <tbody>\n",
              "    <tr>\n",
              "      <th>0</th>\n",
              "      <td>New York City</td>\n",
              "      <td>Manhattan</td>\n",
              "      <td>1437.0</td>\n",
              "      <td>New York Downtown Hospital</td>\n",
              "      <td>0 to 17</td>\n",
              "      <td>100</td>\n",
              "      <td>M</td>\n",
              "      <td>White</td>\n",
              "      <td>Not Span/Hispanic</td>\n",
              "      <td>2</td>\n",
              "      <td>...</td>\n",
              "      <td>2.0</td>\n",
              "      <td>(0.0, 0.0, 1.0, 0.0, 0.0, 0.0, 0.0, 0.0, 0.0)</td>\n",
              "      <td>2.0</td>\n",
              "      <td>(0.0, 0.0, 1.0, 0.0, 0.0)</td>\n",
              "      <td>0.0</td>\n",
              "      <td>(1.0, 0.0, 0.0, 0.0, 0.0, 0.0, 0.0, 0.0, 0.0, ...</td>\n",
              "      <td>0.0</td>\n",
              "      <td>(1.0, 0.0, 0.0)</td>\n",
              "      <td>0.0</td>\n",
              "      <td>(1.0)</td>\n",
              "    </tr>\n",
              "    <tr>\n",
              "      <th>1</th>\n",
              "      <td>New York City</td>\n",
              "      <td>Manhattan</td>\n",
              "      <td>1437.0</td>\n",
              "      <td>New York Downtown Hospital</td>\n",
              "      <td>0 to 17</td>\n",
              "      <td>100</td>\n",
              "      <td>M</td>\n",
              "      <td>White</td>\n",
              "      <td>Not Span/Hispanic</td>\n",
              "      <td>3</td>\n",
              "      <td>...</td>\n",
              "      <td>2.0</td>\n",
              "      <td>(0.0, 0.0, 1.0, 0.0, 0.0, 0.0, 0.0, 0.0, 0.0)</td>\n",
              "      <td>2.0</td>\n",
              "      <td>(0.0, 0.0, 1.0, 0.0, 0.0)</td>\n",
              "      <td>0.0</td>\n",
              "      <td>(1.0, 0.0, 0.0, 0.0, 0.0, 0.0, 0.0, 0.0, 0.0, ...</td>\n",
              "      <td>0.0</td>\n",
              "      <td>(1.0, 0.0, 0.0)</td>\n",
              "      <td>0.0</td>\n",
              "      <td>(1.0)</td>\n",
              "    </tr>\n",
              "    <tr>\n",
              "      <th>2</th>\n",
              "      <td>New York City</td>\n",
              "      <td>Manhattan</td>\n",
              "      <td>1437.0</td>\n",
              "      <td>New York Downtown Hospital</td>\n",
              "      <td>0 to 17</td>\n",
              "      <td>100</td>\n",
              "      <td>M</td>\n",
              "      <td>White</td>\n",
              "      <td>Not Span/Hispanic</td>\n",
              "      <td>2</td>\n",
              "      <td>...</td>\n",
              "      <td>0.0</td>\n",
              "      <td>(1.0, 0.0, 0.0, 0.0, 0.0, 0.0, 0.0, 0.0, 0.0)</td>\n",
              "      <td>2.0</td>\n",
              "      <td>(0.0, 0.0, 1.0, 0.0, 0.0)</td>\n",
              "      <td>0.0</td>\n",
              "      <td>(1.0, 0.0, 0.0, 0.0, 0.0, 0.0, 0.0, 0.0, 0.0, ...</td>\n",
              "      <td>0.0</td>\n",
              "      <td>(1.0, 0.0, 0.0)</td>\n",
              "      <td>0.0</td>\n",
              "      <td>(1.0)</td>\n",
              "    </tr>\n",
              "    <tr>\n",
              "      <th>3</th>\n",
              "      <td>New York City</td>\n",
              "      <td>Manhattan</td>\n",
              "      <td>1437.0</td>\n",
              "      <td>New York Downtown Hospital</td>\n",
              "      <td>0 to 17</td>\n",
              "      <td>100</td>\n",
              "      <td>M</td>\n",
              "      <td>White</td>\n",
              "      <td>Not Span/Hispanic</td>\n",
              "      <td>2</td>\n",
              "      <td>...</td>\n",
              "      <td>2.0</td>\n",
              "      <td>(0.0, 0.0, 1.0, 0.0, 0.0, 0.0, 0.0, 0.0, 0.0)</td>\n",
              "      <td>2.0</td>\n",
              "      <td>(0.0, 0.0, 1.0, 0.0, 0.0)</td>\n",
              "      <td>0.0</td>\n",
              "      <td>(1.0, 0.0, 0.0, 0.0, 0.0, 0.0, 0.0, 0.0, 0.0, ...</td>\n",
              "      <td>0.0</td>\n",
              "      <td>(1.0, 0.0, 0.0)</td>\n",
              "      <td>0.0</td>\n",
              "      <td>(1.0)</td>\n",
              "    </tr>\n",
              "    <tr>\n",
              "      <th>4</th>\n",
              "      <td>New York City</td>\n",
              "      <td>Manhattan</td>\n",
              "      <td>1437.0</td>\n",
              "      <td>New York Downtown Hospital</td>\n",
              "      <td>0 to 17</td>\n",
              "      <td>100</td>\n",
              "      <td>M</td>\n",
              "      <td>White</td>\n",
              "      <td>Not Span/Hispanic</td>\n",
              "      <td>3</td>\n",
              "      <td>...</td>\n",
              "      <td>2.0</td>\n",
              "      <td>(0.0, 0.0, 1.0, 0.0, 0.0, 0.0, 0.0, 0.0, 0.0)</td>\n",
              "      <td>2.0</td>\n",
              "      <td>(0.0, 0.0, 1.0, 0.0, 0.0)</td>\n",
              "      <td>0.0</td>\n",
              "      <td>(1.0, 0.0, 0.0, 0.0, 0.0, 0.0, 0.0, 0.0, 0.0, ...</td>\n",
              "      <td>0.0</td>\n",
              "      <td>(1.0, 0.0, 0.0)</td>\n",
              "      <td>0.0</td>\n",
              "      <td>(1.0)</td>\n",
              "    </tr>\n",
              "  </tbody>\n",
              "</table>\n",
              "<p>5 rows × 46 columns</p>\n",
              "</div>\n",
              "    <div class=\"colab-df-buttons\">\n",
              "\n",
              "  <div class=\"colab-df-container\">\n",
              "    <button class=\"colab-df-convert\" onclick=\"convertToInteractive('df-5d2c0f18-e2fd-44da-82de-67a3c77dfae6')\"\n",
              "            title=\"Convert this dataframe to an interactive table.\"\n",
              "            style=\"display:none;\">\n",
              "\n",
              "  <svg xmlns=\"http://www.w3.org/2000/svg\" height=\"24px\" viewBox=\"0 -960 960 960\">\n",
              "    <path d=\"M120-120v-720h720v720H120Zm60-500h600v-160H180v160Zm220 220h160v-160H400v160Zm0 220h160v-160H400v160ZM180-400h160v-160H180v160Zm440 0h160v-160H620v160ZM180-180h160v-160H180v160Zm440 0h160v-160H620v160Z\"/>\n",
              "  </svg>\n",
              "    </button>\n",
              "\n",
              "  <style>\n",
              "    .colab-df-container {\n",
              "      display:flex;\n",
              "      gap: 12px;\n",
              "    }\n",
              "\n",
              "    .colab-df-convert {\n",
              "      background-color: #E8F0FE;\n",
              "      border: none;\n",
              "      border-radius: 50%;\n",
              "      cursor: pointer;\n",
              "      display: none;\n",
              "      fill: #1967D2;\n",
              "      height: 32px;\n",
              "      padding: 0 0 0 0;\n",
              "      width: 32px;\n",
              "    }\n",
              "\n",
              "    .colab-df-convert:hover {\n",
              "      background-color: #E2EBFA;\n",
              "      box-shadow: 0px 1px 2px rgba(60, 64, 67, 0.3), 0px 1px 3px 1px rgba(60, 64, 67, 0.15);\n",
              "      fill: #174EA6;\n",
              "    }\n",
              "\n",
              "    .colab-df-buttons div {\n",
              "      margin-bottom: 4px;\n",
              "    }\n",
              "\n",
              "    [theme=dark] .colab-df-convert {\n",
              "      background-color: #3B4455;\n",
              "      fill: #D2E3FC;\n",
              "    }\n",
              "\n",
              "    [theme=dark] .colab-df-convert:hover {\n",
              "      background-color: #434B5C;\n",
              "      box-shadow: 0px 1px 3px 1px rgba(0, 0, 0, 0.15);\n",
              "      filter: drop-shadow(0px 1px 2px rgba(0, 0, 0, 0.3));\n",
              "      fill: #FFFFFF;\n",
              "    }\n",
              "  </style>\n",
              "\n",
              "    <script>\n",
              "      const buttonEl =\n",
              "        document.querySelector('#df-5d2c0f18-e2fd-44da-82de-67a3c77dfae6 button.colab-df-convert');\n",
              "      buttonEl.style.display =\n",
              "        google.colab.kernel.accessAllowed ? 'block' : 'none';\n",
              "\n",
              "      async function convertToInteractive(key) {\n",
              "        const element = document.querySelector('#df-5d2c0f18-e2fd-44da-82de-67a3c77dfae6');\n",
              "        const dataTable =\n",
              "          await google.colab.kernel.invokeFunction('convertToInteractive',\n",
              "                                                    [key], {});\n",
              "        if (!dataTable) return;\n",
              "\n",
              "        const docLinkHtml = 'Like what you see? Visit the ' +\n",
              "          '<a target=\"_blank\" href=https://colab.research.google.com/notebooks/data_table.ipynb>data table notebook</a>'\n",
              "          + ' to learn more about interactive tables.';\n",
              "        element.innerHTML = '';\n",
              "        dataTable['output_type'] = 'display_data';\n",
              "        await google.colab.output.renderOutput(dataTable, element);\n",
              "        const docLink = document.createElement('div');\n",
              "        docLink.innerHTML = docLinkHtml;\n",
              "        element.appendChild(docLink);\n",
              "      }\n",
              "    </script>\n",
              "  </div>\n",
              "\n",
              "\n",
              "<div id=\"df-8beb64ea-c35d-4767-aa8c-c6bb272f953d\">\n",
              "  <button class=\"colab-df-quickchart\" onclick=\"quickchart('df-8beb64ea-c35d-4767-aa8c-c6bb272f953d')\"\n",
              "            title=\"Suggest charts\"\n",
              "            style=\"display:none;\">\n",
              "\n",
              "<svg xmlns=\"http://www.w3.org/2000/svg\" height=\"24px\"viewBox=\"0 0 24 24\"\n",
              "     width=\"24px\">\n",
              "    <g>\n",
              "        <path d=\"M19 3H5c-1.1 0-2 .9-2 2v14c0 1.1.9 2 2 2h14c1.1 0 2-.9 2-2V5c0-1.1-.9-2-2-2zM9 17H7v-7h2v7zm4 0h-2V7h2v10zm4 0h-2v-4h2v4z\"/>\n",
              "    </g>\n",
              "</svg>\n",
              "  </button>\n",
              "\n",
              "<style>\n",
              "  .colab-df-quickchart {\n",
              "      --bg-color: #E8F0FE;\n",
              "      --fill-color: #1967D2;\n",
              "      --hover-bg-color: #E2EBFA;\n",
              "      --hover-fill-color: #174EA6;\n",
              "      --disabled-fill-color: #AAA;\n",
              "      --disabled-bg-color: #DDD;\n",
              "  }\n",
              "\n",
              "  [theme=dark] .colab-df-quickchart {\n",
              "      --bg-color: #3B4455;\n",
              "      --fill-color: #D2E3FC;\n",
              "      --hover-bg-color: #434B5C;\n",
              "      --hover-fill-color: #FFFFFF;\n",
              "      --disabled-bg-color: #3B4455;\n",
              "      --disabled-fill-color: #666;\n",
              "  }\n",
              "\n",
              "  .colab-df-quickchart {\n",
              "    background-color: var(--bg-color);\n",
              "    border: none;\n",
              "    border-radius: 50%;\n",
              "    cursor: pointer;\n",
              "    display: none;\n",
              "    fill: var(--fill-color);\n",
              "    height: 32px;\n",
              "    padding: 0;\n",
              "    width: 32px;\n",
              "  }\n",
              "\n",
              "  .colab-df-quickchart:hover {\n",
              "    background-color: var(--hover-bg-color);\n",
              "    box-shadow: 0 1px 2px rgba(60, 64, 67, 0.3), 0 1px 3px 1px rgba(60, 64, 67, 0.15);\n",
              "    fill: var(--button-hover-fill-color);\n",
              "  }\n",
              "\n",
              "  .colab-df-quickchart-complete:disabled,\n",
              "  .colab-df-quickchart-complete:disabled:hover {\n",
              "    background-color: var(--disabled-bg-color);\n",
              "    fill: var(--disabled-fill-color);\n",
              "    box-shadow: none;\n",
              "  }\n",
              "\n",
              "  .colab-df-spinner {\n",
              "    border: 2px solid var(--fill-color);\n",
              "    border-color: transparent;\n",
              "    border-bottom-color: var(--fill-color);\n",
              "    animation:\n",
              "      spin 1s steps(1) infinite;\n",
              "  }\n",
              "\n",
              "  @keyframes spin {\n",
              "    0% {\n",
              "      border-color: transparent;\n",
              "      border-bottom-color: var(--fill-color);\n",
              "      border-left-color: var(--fill-color);\n",
              "    }\n",
              "    20% {\n",
              "      border-color: transparent;\n",
              "      border-left-color: var(--fill-color);\n",
              "      border-top-color: var(--fill-color);\n",
              "    }\n",
              "    30% {\n",
              "      border-color: transparent;\n",
              "      border-left-color: var(--fill-color);\n",
              "      border-top-color: var(--fill-color);\n",
              "      border-right-color: var(--fill-color);\n",
              "    }\n",
              "    40% {\n",
              "      border-color: transparent;\n",
              "      border-right-color: var(--fill-color);\n",
              "      border-top-color: var(--fill-color);\n",
              "    }\n",
              "    60% {\n",
              "      border-color: transparent;\n",
              "      border-right-color: var(--fill-color);\n",
              "    }\n",
              "    80% {\n",
              "      border-color: transparent;\n",
              "      border-right-color: var(--fill-color);\n",
              "      border-bottom-color: var(--fill-color);\n",
              "    }\n",
              "    90% {\n",
              "      border-color: transparent;\n",
              "      border-bottom-color: var(--fill-color);\n",
              "    }\n",
              "  }\n",
              "</style>\n",
              "\n",
              "  <script>\n",
              "    async function quickchart(key) {\n",
              "      const quickchartButtonEl =\n",
              "        document.querySelector('#' + key + ' button');\n",
              "      quickchartButtonEl.disabled = true;  // To prevent multiple clicks.\n",
              "      quickchartButtonEl.classList.add('colab-df-spinner');\n",
              "      try {\n",
              "        const charts = await google.colab.kernel.invokeFunction(\n",
              "            'suggestCharts', [key], {});\n",
              "      } catch (error) {\n",
              "        console.error('Error during call to suggestCharts:', error);\n",
              "      }\n",
              "      quickchartButtonEl.classList.remove('colab-df-spinner');\n",
              "      quickchartButtonEl.classList.add('colab-df-quickchart-complete');\n",
              "    }\n",
              "    (() => {\n",
              "      let quickchartButtonEl =\n",
              "        document.querySelector('#df-8beb64ea-c35d-4767-aa8c-c6bb272f953d button');\n",
              "      quickchartButtonEl.style.display =\n",
              "        google.colab.kernel.accessAllowed ? 'block' : 'none';\n",
              "    })();\n",
              "  </script>\n",
              "</div>\n",
              "\n",
              "    </div>\n",
              "  </div>\n"
            ],
            "application/vnd.google.colaboratory.intrinsic+json": {
              "type": "dataframe",
              "variable_name": "pandas_df"
            }
          },
          "metadata": {},
          "execution_count": 27
        }
      ]
    },
    {
      "cell_type": "code",
      "source": [],
      "metadata": {
        "id": "eTYXYBPzD0nM"
      },
      "execution_count": null,
      "outputs": []
    },
    {
      "cell_type": "code",
      "source": [
        "##########Patient disposition\n",
        "\n",
        "# Choose a cutoff value and create a list of classifications to be replaced\n",
        "# use the variable name `classifications_to_replace`\n",
        "classifications_to_replace = class_value_counts[class_value_counts<1883].index\n",
        "\n",
        "# Replace in dataframe\n",
        "for cls in classifications_to_replace:\n",
        "    application_df['CLASSIFICATION'] = application_df['CLASSIFICATION'].replace(cls,\"Other\")\n",
        "\n",
        "# Check to make sure binning was successful\n",
        "application_df['CLASSIFICATION'].value_counts()"
      ],
      "metadata": {
        "id": "YTfTBL7Gv4LE"
      },
      "execution_count": null,
      "outputs": []
    },
    {
      "cell_type": "code",
      "source": [],
      "metadata": {
        "id": "BXzXHWypD0qb"
      },
      "execution_count": null,
      "outputs": []
    },
    {
      "cell_type": "code",
      "source": [],
      "metadata": {
        "id": "sS36H97LD0t2"
      },
      "execution_count": null,
      "outputs": []
    },
    {
      "cell_type": "markdown",
      "source": [
        "Create Dummies"
      ],
      "metadata": {
        "id": "z_zfbyOlGPin"
      }
    },
    {
      "cell_type": "code",
      "source": [
        "#TEST THIS IN OPTIMIAZTION STEP I  TIME ALLOWS\n",
        "# Convert categorical data to numeric with `pd.get_dummies`\n",
        "dummies_df = pd.get_dummies(application_df)\n",
        "dummies_df"
      ],
      "metadata": {
        "id": "pWE_gMlcD0z0"
      },
      "execution_count": null,
      "outputs": []
    },
    {
      "cell_type": "markdown",
      "source": [
        "Export CSV"
      ],
      "metadata": {
        "id": "NfhGOmL4GSYY"
      }
    },
    {
      "cell_type": "code",
      "source": [
        " # The easiest work around of the part file output is to take the data to Pandas and write out a CSV.\n",
        "# This forces the data to the master node and is not recommended unless you have filtered and/or aggregated your data to a reasonable size.\n",
        "\n",
        "pandas_df.to_csv('/content/sample_data/inpatient_hospital_2.csv', index=False)\n"
      ],
      "metadata": {
        "id": "h-5_jWNU-7V2"
      },
      "execution_count": null,
      "outputs": []
    },
    {
      "cell_type": "markdown",
      "source": [
        "Machine Learning"
      ],
      "metadata": {
        "id": "so26xrxl-NIQ"
      }
    },
    {
      "cell_type": "code",
      "source": [
        "\n",
        "\n",
        "X=pandas_df.drop(\"Total Charges\", axis =1)\n",
        "y= pandas_df[\"Total Charges\"]"
      ],
      "metadata": {
        "id": "xZwJ8GNgsK8L"
      },
      "execution_count": null,
      "outputs": []
    },
    {
      "cell_type": "code",
      "source": [
        "X_train, X_test, y_train, y_test = train_test_split(X,\n",
        "                                                    y,\n",
        "                                                    stratify=y)"
      ],
      "metadata": {
        "id": "HNNhRl_ttRMb",
        "outputId": "e37d0177-c660-4f89-dc24-5479174bd4a9",
        "colab": {
          "base_uri": "https://localhost:8080/",
          "height": 339
        }
      },
      "execution_count": null,
      "outputs": [
        {
          "output_type": "error",
          "ename": "ValueError",
          "evalue": "The least populated class in y has only 1 member, which is too few. The minimum number of groups for any class cannot be less than 2.",
          "traceback": [
            "\u001b[0;31m---------------------------------------------------------------------------\u001b[0m",
            "\u001b[0;31mValueError\u001b[0m                                Traceback (most recent call last)",
            "\u001b[0;32m<ipython-input-34-6a1540c3c646>\u001b[0m in \u001b[0;36m<cell line: 1>\u001b[0;34m()\u001b[0m\n\u001b[0;32m----> 1\u001b[0;31m X_train, X_test, y_train, y_test = train_test_split(X,\n\u001b[0m\u001b[1;32m      2\u001b[0m                                                     \u001b[0my\u001b[0m\u001b[0;34m,\u001b[0m\u001b[0;34m\u001b[0m\u001b[0;34m\u001b[0m\u001b[0m\n\u001b[1;32m      3\u001b[0m                                                     stratify=y)\n",
            "\u001b[0;32m/usr/local/lib/python3.10/dist-packages/sklearn/model_selection/_split.py\u001b[0m in \u001b[0;36mtrain_test_split\u001b[0;34m(test_size, train_size, random_state, shuffle, stratify, *arrays)\u001b[0m\n\u001b[1;32m   2581\u001b[0m         \u001b[0mcv\u001b[0m \u001b[0;34m=\u001b[0m \u001b[0mCVClass\u001b[0m\u001b[0;34m(\u001b[0m\u001b[0mtest_size\u001b[0m\u001b[0;34m=\u001b[0m\u001b[0mn_test\u001b[0m\u001b[0;34m,\u001b[0m \u001b[0mtrain_size\u001b[0m\u001b[0;34m=\u001b[0m\u001b[0mn_train\u001b[0m\u001b[0;34m,\u001b[0m \u001b[0mrandom_state\u001b[0m\u001b[0;34m=\u001b[0m\u001b[0mrandom_state\u001b[0m\u001b[0;34m)\u001b[0m\u001b[0;34m\u001b[0m\u001b[0;34m\u001b[0m\u001b[0m\n\u001b[1;32m   2582\u001b[0m \u001b[0;34m\u001b[0m\u001b[0m\n\u001b[0;32m-> 2583\u001b[0;31m         \u001b[0mtrain\u001b[0m\u001b[0;34m,\u001b[0m \u001b[0mtest\u001b[0m \u001b[0;34m=\u001b[0m \u001b[0mnext\u001b[0m\u001b[0;34m(\u001b[0m\u001b[0mcv\u001b[0m\u001b[0;34m.\u001b[0m\u001b[0msplit\u001b[0m\u001b[0;34m(\u001b[0m\u001b[0mX\u001b[0m\u001b[0;34m=\u001b[0m\u001b[0marrays\u001b[0m\u001b[0;34m[\u001b[0m\u001b[0;36m0\u001b[0m\u001b[0;34m]\u001b[0m\u001b[0;34m,\u001b[0m \u001b[0my\u001b[0m\u001b[0;34m=\u001b[0m\u001b[0mstratify\u001b[0m\u001b[0;34m)\u001b[0m\u001b[0;34m)\u001b[0m\u001b[0;34m\u001b[0m\u001b[0;34m\u001b[0m\u001b[0m\n\u001b[0m\u001b[1;32m   2584\u001b[0m \u001b[0;34m\u001b[0m\u001b[0m\n\u001b[1;32m   2585\u001b[0m     return list(\n",
            "\u001b[0;32m/usr/local/lib/python3.10/dist-packages/sklearn/model_selection/_split.py\u001b[0m in \u001b[0;36msplit\u001b[0;34m(self, X, y, groups)\u001b[0m\n\u001b[1;32m   1687\u001b[0m         \"\"\"\n\u001b[1;32m   1688\u001b[0m         \u001b[0mX\u001b[0m\u001b[0;34m,\u001b[0m \u001b[0my\u001b[0m\u001b[0;34m,\u001b[0m \u001b[0mgroups\u001b[0m \u001b[0;34m=\u001b[0m \u001b[0mindexable\u001b[0m\u001b[0;34m(\u001b[0m\u001b[0mX\u001b[0m\u001b[0;34m,\u001b[0m \u001b[0my\u001b[0m\u001b[0;34m,\u001b[0m \u001b[0mgroups\u001b[0m\u001b[0;34m)\u001b[0m\u001b[0;34m\u001b[0m\u001b[0;34m\u001b[0m\u001b[0m\n\u001b[0;32m-> 1689\u001b[0;31m         \u001b[0;32mfor\u001b[0m \u001b[0mtrain\u001b[0m\u001b[0;34m,\u001b[0m \u001b[0mtest\u001b[0m \u001b[0;32min\u001b[0m \u001b[0mself\u001b[0m\u001b[0;34m.\u001b[0m\u001b[0m_iter_indices\u001b[0m\u001b[0;34m(\u001b[0m\u001b[0mX\u001b[0m\u001b[0;34m,\u001b[0m \u001b[0my\u001b[0m\u001b[0;34m,\u001b[0m \u001b[0mgroups\u001b[0m\u001b[0;34m)\u001b[0m\u001b[0;34m:\u001b[0m\u001b[0;34m\u001b[0m\u001b[0;34m\u001b[0m\u001b[0m\n\u001b[0m\u001b[1;32m   1690\u001b[0m             \u001b[0;32myield\u001b[0m \u001b[0mtrain\u001b[0m\u001b[0;34m,\u001b[0m \u001b[0mtest\u001b[0m\u001b[0;34m\u001b[0m\u001b[0;34m\u001b[0m\u001b[0m\n\u001b[1;32m   1691\u001b[0m \u001b[0;34m\u001b[0m\u001b[0m\n",
            "\u001b[0;32m/usr/local/lib/python3.10/dist-packages/sklearn/model_selection/_split.py\u001b[0m in \u001b[0;36m_iter_indices\u001b[0;34m(self, X, y, groups)\u001b[0m\n\u001b[1;32m   2076\u001b[0m         \u001b[0mclass_counts\u001b[0m \u001b[0;34m=\u001b[0m \u001b[0mnp\u001b[0m\u001b[0;34m.\u001b[0m\u001b[0mbincount\u001b[0m\u001b[0;34m(\u001b[0m\u001b[0my_indices\u001b[0m\u001b[0;34m)\u001b[0m\u001b[0;34m\u001b[0m\u001b[0;34m\u001b[0m\u001b[0m\n\u001b[1;32m   2077\u001b[0m         \u001b[0;32mif\u001b[0m \u001b[0mnp\u001b[0m\u001b[0;34m.\u001b[0m\u001b[0mmin\u001b[0m\u001b[0;34m(\u001b[0m\u001b[0mclass_counts\u001b[0m\u001b[0;34m)\u001b[0m \u001b[0;34m<\u001b[0m \u001b[0;36m2\u001b[0m\u001b[0;34m:\u001b[0m\u001b[0;34m\u001b[0m\u001b[0;34m\u001b[0m\u001b[0m\n\u001b[0;32m-> 2078\u001b[0;31m             raise ValueError(\n\u001b[0m\u001b[1;32m   2079\u001b[0m                 \u001b[0;34m\"The least populated class in y has only 1\"\u001b[0m\u001b[0;34m\u001b[0m\u001b[0;34m\u001b[0m\u001b[0m\n\u001b[1;32m   2080\u001b[0m                 \u001b[0;34m\" member, which is too few. The minimum\"\u001b[0m\u001b[0;34m\u001b[0m\u001b[0;34m\u001b[0m\u001b[0m\n",
            "\u001b[0;31mValueError\u001b[0m: The least populated class in y has only 1 member, which is too few. The minimum number of groups for any class cannot be less than 2."
          ]
        }
      ]
    }
  ],
  "metadata": {
    "colab": {
      "provenance": [],
      "include_colab_link": true
    },
    "kernelspec": {
      "display_name": "Python 3",
      "name": "python3"
    },
    "language_info": {
      "name": "python"
    }
  },
  "nbformat": 4,
  "nbformat_minor": 0
}