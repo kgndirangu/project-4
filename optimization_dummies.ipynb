{
  "nbformat": 4,
  "nbformat_minor": 0,
  "metadata": {
    "colab": {
      "provenance": [],
      "include_colab_link": true
    },
    "kernelspec": {
      "name": "python3",
      "display_name": "Python 3"
    },
    "language_info": {
      "name": "python"
    }
  },
  "cells": [
    {
      "cell_type": "markdown",
      "metadata": {
        "id": "view-in-github",
        "colab_type": "text"
      },
      "source": [
        "<a href=\"https://colab.research.google.com/github/kgndirangu/project-4/blob/main/optimization_dummies.ipynb\" target=\"_parent\"><img src=\"https://colab.research.google.com/assets/colab-badge.svg\" alt=\"Open In Colab\"/></a>"
      ]
    },
    {
      "cell_type": "code",
      "source": [
        "import os\n",
        "# Find the latest version of spark 3.x  from http://www.apache.org/dist/spark/ and enter as the spark version\n",
        "# For example:\n",
        "# spark_version = 'spark-3.4.0'\n",
        "spark_version = 'spark-3.5.1'\n",
        "os.environ['SPARK_VERSION']=spark_version\n",
        "\n",
        "# Install Spark and Java\n",
        "!apt-get update\n",
        "!apt-get install openjdk-11-jdk-headless -qq > /dev/null\n",
        "!wget -q http://www.apache.org/dist/spark/$SPARK_VERSION/$SPARK_VERSION-bin-hadoop3.tgz\n",
        "!tar xf $SPARK_VERSION-bin-hadoop3.tgz\n",
        "!pip install -q findspark\n",
        "\n",
        "# Set Environment Variables\n",
        "os.environ[\"JAVA_HOME\"] = \"/usr/lib/jvm/java-11-openjdk-amd64\"\n",
        "os.environ[\"SPARK_HOME\"] = f\"/content/{spark_version}-bin-hadoop3\"\n",
        "\n",
        "# Start a SparkSession\n",
        "import findspark\n",
        "findspark.init()"
      ],
      "metadata": {
        "colab": {
          "base_uri": "https://localhost:8080/"
        },
        "id": "EoiAj8nPG9qS",
        "outputId": "4190caf0-ac21-4bec-ffc2-ca16fcfe8ae6"
      },
      "execution_count": 1,
      "outputs": [
        {
          "output_type": "stream",
          "name": "stdout",
          "text": [
            "\r0% [Working]\r            \rGet:1 https://cloud.r-project.org/bin/linux/ubuntu jammy-cran40/ InRelease [3,626 B]\n",
            "\r0% [Connecting to archive.ubuntu.com (185.125.190.39)] [Connecting to security.ubuntu.com (91.189.91\r0% [Connecting to archive.ubuntu.com (185.125.190.39)] [Connecting to security.ubuntu.com (91.189.91\r                                                                                                    \rHit:2 https://developer.download.nvidia.com/compute/cuda/repos/ubuntu2204/x86_64  InRelease\n",
            "Get:3 http://security.ubuntu.com/ubuntu jammy-security InRelease [110 kB]\n",
            "Hit:4 http://archive.ubuntu.com/ubuntu jammy InRelease\n",
            "Get:5 http://archive.ubuntu.com/ubuntu jammy-updates InRelease [119 kB]\n",
            "Hit:6 https://ppa.launchpadcontent.net/c2d4u.team/c2d4u4.0+/ubuntu jammy InRelease\n",
            "Hit:7 https://ppa.launchpadcontent.net/deadsnakes/ppa/ubuntu jammy InRelease\n",
            "Get:8 http://security.ubuntu.com/ubuntu jammy-security/universe amd64 Packages [1,073 kB]\n",
            "Hit:9 http://archive.ubuntu.com/ubuntu jammy-backports InRelease\n",
            "Get:10 https://ppa.launchpadcontent.net/graphics-drivers/ppa/ubuntu jammy InRelease [24.3 kB]\n",
            "Hit:11 https://ppa.launchpadcontent.net/ubuntugis/ppa/ubuntu jammy InRelease\n",
            "Get:12 http://security.ubuntu.com/ubuntu jammy-security/restricted amd64 Packages [1,889 kB]\n",
            "Get:13 http://security.ubuntu.com/ubuntu jammy-security/multiverse amd64 Packages [44.6 kB]\n",
            "Get:14 http://security.ubuntu.com/ubuntu jammy-security/main amd64 Packages [1,514 kB]\n",
            "Get:15 http://archive.ubuntu.com/ubuntu jammy-updates/restricted amd64 Packages [1,927 kB]\n",
            "Get:16 https://ppa.launchpadcontent.net/graphics-drivers/ppa/ubuntu jammy/main amd64 Packages [44.7 kB]\n",
            "Get:17 http://archive.ubuntu.com/ubuntu jammy-updates/universe amd64 Packages [1,345 kB]\n",
            "Get:18 http://archive.ubuntu.com/ubuntu jammy-updates/main amd64 Packages [1,796 kB]\n",
            "Fetched 9,891 kB in 3s (3,099 kB/s)\n",
            "Reading package lists... Done\n"
          ]
        }
      ]
    },
    {
      "cell_type": "code",
      "execution_count": 2,
      "metadata": {
        "id": "ZupviursFZFn"
      },
      "outputs": [],
      "source": [
        "# Import Dependencies\n",
        "from sklearn.model_selection import train_test_split\n",
        "from sklearn.preprocessing import StandardScaler\n",
        "from sklearn.metrics import accuracy_score\n",
        "import pandas as pd\n",
        "import tensorflow as tf\n",
        "from pathlib import Path\n",
        "from sklearn.linear_model import LinearRegression\n",
        "import matplotlib.pyplot as plt\n",
        "import numpy as np\n",
        "from pyspark.sql import SparkSession\n",
        "from pyspark.sql import Row\n",
        "from pyspark.sql.types import StructType,StructField,StringType, DateType,IntegerType\n",
        "from pyspark import SparkFiles\n",
        "from pyspark.ml.feature import StringIndexer, OneHotEncoder\n",
        "from pyspark.ml import Pipeline\n",
        "from pyspark.sql.functions import col"
      ]
    },
    {
      "cell_type": "code",
      "source": [
        "# Create a SparkSession\n",
        "spark = SparkSession.builder.appName(\"SparkSQL\").getOrCreate()"
      ],
      "metadata": {
        "id": "UaKvRlXUG288"
      },
      "execution_count": 3,
      "outputs": []
    },
    {
      "cell_type": "code",
      "source": [
        "# Read in data from S3 Buckets\n",
        "\n",
        "url = \"https://project4-ny-health-data-1.s3.amazonaws.com/inpatient_hospital_2.csv\"\n",
        "spark.sparkContext.addFile(url)\n",
        "df = spark.read.csv(SparkFiles.get(\"inpatient_hospital_2.csv\"), header=True, inferSchema=True, quote=\"\\\"\", escape=\"\\\"\")\n",
        "\n",
        "# Show Spark DataFrame\n",
        "df.show()"
      ],
      "metadata": {
        "id": "o9CkzX4XHk9O",
        "colab": {
          "base_uri": "https://localhost:8080/"
        },
        "outputId": "33207df1-3053-4d77-c0de-98fe22b58355"
      },
      "execution_count": 4,
      "outputs": [
        {
          "output_type": "stream",
          "name": "stdout",
          "text": [
            "+-------------------+---------------+-----------+--------------------+---------+-------------------+------+-----+-----------------+--------------+-----------------+-------------------+------------------+-------------------------+------------------+-------------------------+------------+--------------------+------------+--------------------+----------------------------+-----------------------------------+---------------------+--------------------------------+-------------------+------------------------------+-------------+-----------+--------+-------------+--------+-------------+---------+-------------+-------+-------------+---------+-------------+--------+-------------+---------+--------------+---------+-------------+---------+-------------+\n",
            "|Health Service Area|Hospital County|Facility ID|       Facility Name|Age Group|Zip Code - 3 digits|Gender| Race|        Ethnicity|Length of Stay|Type of Admission|Patient Disposition|CCS Diagnosis Code|CCS Diagnosis Description|CCS Procedure Code|CCS Procedure Description|APR DRG Code| APR DRG Description|APR MDC Code| APR MDC Description|APR Severity of Illness Code|APR Severity of Illness Description|APR Risk of Mortality|APR Medical Surgical Description|Source of Payment 1|Emergency Department Indicator|Total Charges|Total Costs|AgeIndex|    catVecAge|SexIndex|    catVecSex|RaceIndex|   catVecRace|ERIndex|     catVecER|Pay1Index|   catVecPay1|AdmIndex|    catVecAdm|DispIndex|    catVecDisp|MortIndex|   catVecMort|SurgIndex|   catVecSurg|\n",
            "+-------------------+---------------+-----------+--------------------+---------+-------------------+------+-----+-----------------+--------------+-----------------+-------------------+------------------+-------------------------+------------------+-------------------------+------------+--------------------+------------+--------------------+----------------------------+-----------------------------------+---------------------+--------------------------------+-------------------+------------------------------+-------------+-----------+--------+-------------+--------+-------------+---------+-------------+-------+-------------+---------+-------------+--------+-------------+---------+--------------+---------+-------------+---------+-------------+\n",
            "|      New York City|      Manhattan|     1437.0|New York Downtown...|  0 to 17|                100|     M|White|Not Span/Hispanic|             2|          Newborn|  Home or Self Care|             218.0|                 LIVEBORN|             228.0|     PROPHYLACTIC VAC/...|         640|NEONATE BIRTHWT >...|          15|Newborns and Othe...|                           1|                              Minor|                Minor|                         Medical|         Blue Cross|                             N|      2468.95|    1423.82|     3.0|(4,[3],[1.0])|     1.0|(2,[1],[1.0])|      0.0|(3,[0],[1.0])|    0.0|(1,[0],[1.0])|      2.0|(9,[2],[1.0])|     2.0|(5,[2],[1.0])|      0.0|(17,[0],[1.0])|      0.0|(3,[0],[1.0])|      0.0|(1,[0],[1.0])|\n",
            "|      New York City|      Manhattan|     1437.0|New York Downtown...|  0 to 17|                100|     M|White|Not Span/Hispanic|             3|          Newborn|  Home or Self Care|             218.0|                 LIVEBORN|             228.0|     PROPHYLACTIC VAC/...|         640|NEONATE BIRTHWT >...|          15|Newborns and Othe...|                           1|                              Minor|                Minor|                         Medical|         Blue Cross|                             N|      6647.18|    3335.77|     3.0|(4,[3],[1.0])|     1.0|(2,[1],[1.0])|      0.0|(3,[0],[1.0])|    0.0|(1,[0],[1.0])|      2.0|(9,[2],[1.0])|     2.0|(5,[2],[1.0])|      0.0|(17,[0],[1.0])|      0.0|(3,[0],[1.0])|      0.0|(1,[0],[1.0])|\n",
            "|      New York City|      Manhattan|     1437.0|New York Downtown...|  0 to 17|                100|     M|White|Not Span/Hispanic|             2|          Newborn|  Home or Self Care|             218.0|                 LIVEBORN|             228.0|     PROPHYLACTIC VAC/...|         640|NEONATE BIRTHWT >...|          15|Newborns and Othe...|                           1|                              Minor|                Minor|                         Medical|  Insurance Company|                             N|      5702.18|     2712.7|     3.0|(4,[3],[1.0])|     1.0|(2,[1],[1.0])|      0.0|(3,[0],[1.0])|    0.0|(1,[0],[1.0])|      0.0|(9,[0],[1.0])|     2.0|(5,[2],[1.0])|      0.0|(17,[0],[1.0])|      0.0|(3,[0],[1.0])|      0.0|(1,[0],[1.0])|\n",
            "|      New York City|      Manhattan|     1437.0|New York Downtown...|  0 to 17|                100|     M|White|Not Span/Hispanic|             2|          Newborn|  Home or Self Care|             218.0|                 LIVEBORN|             228.0|     PROPHYLACTIC VAC/...|         640|NEONATE BIRTHWT >...|          15|Newborns and Othe...|                           1|                              Minor|                Minor|                         Medical|         Blue Cross|                             N|      2125.58|    1337.46|     3.0|(4,[3],[1.0])|     1.0|(2,[1],[1.0])|      0.0|(3,[0],[1.0])|    0.0|(1,[0],[1.0])|      2.0|(9,[2],[1.0])|     2.0|(5,[2],[1.0])|      0.0|(17,[0],[1.0])|      0.0|(3,[0],[1.0])|      0.0|(1,[0],[1.0])|\n",
            "|      New York City|      Manhattan|     1437.0|New York Downtown...|  0 to 17|                100|     M|White|Not Span/Hispanic|             3|          Newborn|  Home or Self Care|             218.0|                 LIVEBORN|             220.0|     OPHTHALM-/OT-OLOG...|         640|NEONATE BIRTHWT >...|          15|Newborns and Othe...|                           1|                              Minor|                Minor|                         Medical|         Blue Cross|                             N|      3050.58|    1952.85|     3.0|(4,[3],[1.0])|     1.0|(2,[1],[1.0])|      0.0|(3,[0],[1.0])|    0.0|(1,[0],[1.0])|      2.0|(9,[2],[1.0])|     2.0|(5,[2],[1.0])|      0.0|(17,[0],[1.0])|      0.0|(3,[0],[1.0])|      0.0|(1,[0],[1.0])|\n",
            "|      New York City|      Manhattan|     1437.0|New York Downtown...|  0 to 17|                100|     M|White|Not Span/Hispanic|             2|          Newborn|  Home or Self Care|             218.0|                 LIVEBORN|             220.0|     OPHTHALM-/OT-OLOG...|         640|NEONATE BIRTHWT >...|          15|Newborns and Othe...|                           1|                              Minor|                Minor|                         Medical|         Blue Cross|                             N|      2660.73|    1489.77|     3.0|(4,[3],[1.0])|     1.0|(2,[1],[1.0])|      0.0|(3,[0],[1.0])|    0.0|(1,[0],[1.0])|      2.0|(9,[2],[1.0])|     2.0|(5,[2],[1.0])|      0.0|(17,[0],[1.0])|      0.0|(3,[0],[1.0])|      0.0|(1,[0],[1.0])|\n",
            "|      New York City|      Manhattan|     1437.0|New York Downtown...|  0 to 17|                100|     M|White|Not Span/Hispanic|             3|          Newborn|  Home or Self Care|             218.0|                 LIVEBORN|             115.0|             CIRCUMCISION|         640|NEONATE BIRTHWT >...|          15|Newborns and Othe...|                           1|                              Minor|                Minor|                         Medical|         Blue Cross|                             N|      6973.59|    3409.57|     3.0|(4,[3],[1.0])|     1.0|(2,[1],[1.0])|      0.0|(3,[0],[1.0])|    0.0|(1,[0],[1.0])|      2.0|(9,[2],[1.0])|     2.0|(5,[2],[1.0])|      0.0|(17,[0],[1.0])|      0.0|(3,[0],[1.0])|      0.0|(1,[0],[1.0])|\n",
            "|      New York City|      Manhattan|     1437.0|New York Downtown...|  0 to 17|                100|     M|White|Not Span/Hispanic|             5|          Newborn|  Home or Self Care|             218.0|                 LIVEBORN|             231.0|     OTHER THERAPEUTIC...|         639|NEONATE BIRTHWT >...|          15|Newborns and Othe...|                           2|                           Moderate|                Minor|                         Medical|  Insurance Company|                             N|      7439.85|    3820.42|     3.0|(4,[3],[1.0])|     1.0|(2,[1],[1.0])|      0.0|(3,[0],[1.0])|    0.0|(1,[0],[1.0])|      0.0|(9,[0],[1.0])|     2.0|(5,[2],[1.0])|      0.0|(17,[0],[1.0])|      0.0|(3,[0],[1.0])|      0.0|(1,[0],[1.0])|\n",
            "|      New York City|      Manhattan|     1437.0|New York Downtown...|  0 to 17|                100|     M|White|Not Span/Hispanic|             2|          Newborn|  Home or Self Care|             218.0|                 LIVEBORN|             115.0|             CIRCUMCISION|         640|NEONATE BIRTHWT >...|          15|Newborns and Othe...|                           1|                              Minor|                Minor|                         Medical|  Insurance Company|                             N|      2436.07|    1405.81|     3.0|(4,[3],[1.0])|     1.0|(2,[1],[1.0])|      0.0|(3,[0],[1.0])|    0.0|(1,[0],[1.0])|      0.0|(9,[0],[1.0])|     2.0|(5,[2],[1.0])|      0.0|(17,[0],[1.0])|      0.0|(3,[0],[1.0])|      0.0|(1,[0],[1.0])|\n",
            "|      New York City|      Manhattan|     1437.0|New York Downtown...|  0 to 17|                100|     M|White|Not Span/Hispanic|             3|          Newborn|  Home or Self Care|             218.0|                 LIVEBORN|             231.0|     OTHER THERAPEUTIC...|         640|NEONATE BIRTHWT >...|          15|Newborns and Othe...|                           2|                           Moderate|                Minor|                         Medical|         Blue Cross|                             N|      5345.13|    3111.76|     3.0|(4,[3],[1.0])|     1.0|(2,[1],[1.0])|      0.0|(3,[0],[1.0])|    0.0|(1,[0],[1.0])|      2.0|(9,[2],[1.0])|     2.0|(5,[2],[1.0])|      0.0|(17,[0],[1.0])|      0.0|(3,[0],[1.0])|      0.0|(1,[0],[1.0])|\n",
            "|      New York City|      Manhattan|     1437.0|New York Downtown...|  0 to 17|                100|     M|White|Not Span/Hispanic|             2|          Newborn|  Home or Self Care|             218.0|                 LIVEBORN|             220.0|     OPHTHALM-/OT-OLOG...|         640|NEONATE BIRTHWT >...|          15|Newborns and Othe...|                           1|                              Minor|                Minor|                         Medical|  Insurance Company|                             N|      2330.24|    1413.74|     3.0|(4,[3],[1.0])|     1.0|(2,[1],[1.0])|      0.0|(3,[0],[1.0])|    0.0|(1,[0],[1.0])|      0.0|(9,[0],[1.0])|     2.0|(5,[2],[1.0])|      0.0|(17,[0],[1.0])|      0.0|(3,[0],[1.0])|      0.0|(1,[0],[1.0])|\n",
            "|      New York City|      Manhattan|     1437.0|New York Downtown...|  0 to 17|                100|     M|White|Not Span/Hispanic|             2|          Newborn|  Home or Self Care|             218.0|                 LIVEBORN|             228.0|     PROPHYLACTIC VAC/...|         640|NEONATE BIRTHWT >...|          15|Newborns and Othe...|                           1|                              Minor|                Minor|                         Medical|  Insurance Company|                             N|      2456.07|    1413.49|     3.0|(4,[3],[1.0])|     1.0|(2,[1],[1.0])|      0.0|(3,[0],[1.0])|    0.0|(1,[0],[1.0])|      0.0|(9,[0],[1.0])|     2.0|(5,[2],[1.0])|      0.0|(17,[0],[1.0])|      0.0|(3,[0],[1.0])|      0.0|(1,[0],[1.0])|\n",
            "|      New York City|      Manhattan|     1437.0|New York Downtown...|  0 to 17|                100|     M|White|Not Span/Hispanic|             2|          Newborn|  Home or Self Care|             218.0|                 LIVEBORN|             115.0|             CIRCUMCISION|         640|NEONATE BIRTHWT >...|          15|Newborns and Othe...|                           1|                              Minor|                Minor|                         Medical|  Insurance Company|                             N|       2157.2|    1353.39|     3.0|(4,[3],[1.0])|     1.0|(2,[1],[1.0])|      0.0|(3,[0],[1.0])|    0.0|(1,[0],[1.0])|      0.0|(9,[0],[1.0])|     2.0|(5,[2],[1.0])|      0.0|(17,[0],[1.0])|      0.0|(3,[0],[1.0])|      0.0|(1,[0],[1.0])|\n",
            "|      New York City|      Manhattan|     1437.0|New York Downtown...|  0 to 17|                100|     M|White|Not Span/Hispanic|             3|          Newborn|  Home or Self Care|             218.0|                 LIVEBORN|             228.0|     PROPHYLACTIC VAC/...|         640|NEONATE BIRTHWT >...|          15|Newborns and Othe...|                           1|                              Minor|                Minor|                         Medical|  Insurance Company|                             N|      3419.81|    2042.16|     3.0|(4,[3],[1.0])|     1.0|(2,[1],[1.0])|      0.0|(3,[0],[1.0])|    0.0|(1,[0],[1.0])|      0.0|(9,[0],[1.0])|     2.0|(5,[2],[1.0])|      0.0|(17,[0],[1.0])|      0.0|(3,[0],[1.0])|      0.0|(1,[0],[1.0])|\n",
            "|      New York City|      Manhattan|     1437.0|New York Downtown...|  0 to 17|                100|     M|White|Not Span/Hispanic|             3|          Newborn|  Home or Self Care|             218.0|                 LIVEBORN|             228.0|     PROPHYLACTIC VAC/...|         640|NEONATE BIRTHWT >...|          15|Newborns and Othe...|                           1|                              Minor|                Minor|                         Medical|  Insurance Company|                             N|      3490.58|    2057.15|     3.0|(4,[3],[1.0])|     1.0|(2,[1],[1.0])|      0.0|(3,[0],[1.0])|    0.0|(1,[0],[1.0])|      0.0|(9,[0],[1.0])|     2.0|(5,[2],[1.0])|      0.0|(17,[0],[1.0])|      0.0|(3,[0],[1.0])|      0.0|(1,[0],[1.0])|\n",
            "|      New York City|      Manhattan|     1437.0|New York Downtown...|  0 to 17|                100|     M|White|Not Span/Hispanic|             2|          Newborn|  Home or Self Care|             218.0|                 LIVEBORN|             115.0|             CIRCUMCISION|         640|NEONATE BIRTHWT >...|          15|Newborns and Othe...|                           1|                              Minor|                Minor|                         Medical|  Insurance Company|                             N|      5665.22|    2695.74|     3.0|(4,[3],[1.0])|     1.0|(2,[1],[1.0])|      0.0|(3,[0],[1.0])|    0.0|(1,[0],[1.0])|      0.0|(9,[0],[1.0])|     2.0|(5,[2],[1.0])|      0.0|(17,[0],[1.0])|      0.0|(3,[0],[1.0])|      0.0|(1,[0],[1.0])|\n",
            "|      New York City|      Manhattan|     1437.0|New York Downtown...|  0 to 17|                100|     M|White|Not Span/Hispanic|             2|          Newborn|  Home or Self Care|             218.0|                 LIVEBORN|             228.0|     PROPHYLACTIC VAC/...|         640|NEONATE BIRTHWT >...|          15|Newborns and Othe...|                           1|                              Minor|                Minor|                         Medical|  Insurance Company|                             N|      2350.24|    1424.69|     3.0|(4,[3],[1.0])|     1.0|(2,[1],[1.0])|      0.0|(3,[0],[1.0])|    0.0|(1,[0],[1.0])|      0.0|(9,[0],[1.0])|     2.0|(5,[2],[1.0])|      0.0|(17,[0],[1.0])|      0.0|(3,[0],[1.0])|      0.0|(1,[0],[1.0])|\n",
            "|      New York City|      Manhattan|     1437.0|New York Downtown...|  0 to 17|                100|     M|White|Not Span/Hispanic|             4|          Newborn|  Home or Self Care|             218.0|                 LIVEBORN|             231.0|     OTHER THERAPEUTIC...|         640|NEONATE BIRTHWT >...|          15|Newborns and Othe...|                           2|                           Moderate|                Minor|                         Medical|         Blue Cross|                             N|      4819.01|    2773.11|     3.0|(4,[3],[1.0])|     1.0|(2,[1],[1.0])|      0.0|(3,[0],[1.0])|    0.0|(1,[0],[1.0])|      2.0|(9,[2],[1.0])|     2.0|(5,[2],[1.0])|      0.0|(17,[0],[1.0])|      0.0|(3,[0],[1.0])|      0.0|(1,[0],[1.0])|\n",
            "|      New York City|      Manhattan|     1437.0|New York Downtown...|  0 to 17|                100|     M|White|Not Span/Hispanic|             2|          Newborn|  Home or Self Care|             218.0|                 LIVEBORN|             228.0|     PROPHYLACTIC VAC/...|         640|NEONATE BIRTHWT >...|          15|Newborns and Othe...|                           1|                              Minor|                Minor|                         Medical|  Insurance Company|                             N|      2105.58|    1329.78|     3.0|(4,[3],[1.0])|     1.0|(2,[1],[1.0])|      0.0|(3,[0],[1.0])|    0.0|(1,[0],[1.0])|      0.0|(9,[0],[1.0])|     2.0|(5,[2],[1.0])|      0.0|(17,[0],[1.0])|      0.0|(3,[0],[1.0])|      0.0|(1,[0],[1.0])|\n",
            "|      New York City|      Manhattan|     1437.0|New York Downtown...|  0 to 17|                100|     M|White|Not Span/Hispanic|            19|          Newborn|  Home or Self Care|             218.0|                 LIVEBORN|             216.0|     RESP INTUB/MECH V...|         622|NEONATE BWT 2000-...|          15|Newborns and Othe...|                           2|                           Moderate|                Minor|                         Medical|  Insurance Company|                             Y|     48657.02|   18988.02|     3.0|(4,[3],[1.0])|     1.0|(2,[1],[1.0])|      0.0|(3,[0],[1.0])|    1.0|    (1,[],[])|      0.0|(9,[0],[1.0])|     2.0|(5,[2],[1.0])|      0.0|(17,[0],[1.0])|      0.0|(3,[0],[1.0])|      0.0|(1,[0],[1.0])|\n",
            "+-------------------+---------------+-----------+--------------------+---------+-------------------+------+-----+-----------------+--------------+-----------------+-------------------+------------------+-------------------------+------------------+-------------------------+------------+--------------------+------------+--------------------+----------------------------+-----------------------------------+---------------------+--------------------------------+-------------------+------------------------------+-------------+-----------+--------+-------------+--------+-------------+---------+-------------+-------+-------------+---------+-------------+--------+-------------+---------+--------------+---------+-------------+---------+-------------+\n",
            "only showing top 20 rows\n",
            "\n"
          ]
        }
      ]
    },
    {
      "cell_type": "code",
      "source": [
        "df.dtypes"
      ],
      "metadata": {
        "id": "pV7OGrvWRHT1",
        "colab": {
          "base_uri": "https://localhost:8080/"
        },
        "outputId": "d8314da1-f2cd-435e-c405-5e4189f6a285"
      },
      "execution_count": null,
      "outputs": [
        {
          "output_type": "execute_result",
          "data": {
            "text/plain": [
              "[('Health Service Area', 'string'),\n",
              " ('Hospital County', 'string'),\n",
              " ('Facility ID', 'double'),\n",
              " ('Facility Name', 'string'),\n",
              " ('Age Group', 'string'),\n",
              " ('Zip Code - 3 digits', 'string'),\n",
              " ('Gender', 'string'),\n",
              " ('Race', 'string'),\n",
              " ('Ethnicity', 'string'),\n",
              " ('Length of Stay', 'string'),\n",
              " ('Type of Admission', 'string'),\n",
              " ('Patient Disposition', 'string'),\n",
              " ('CCS Diagnosis Code', 'double'),\n",
              " ('CCS Diagnosis Description', 'string'),\n",
              " ('CCS Procedure Code', 'double'),\n",
              " ('CCS Procedure Description', 'string'),\n",
              " ('APR DRG Code', 'int'),\n",
              " ('APR DRG Description', 'string'),\n",
              " ('APR MDC Code', 'int'),\n",
              " ('APR MDC Description', 'string'),\n",
              " ('APR Severity of Illness Code', 'int'),\n",
              " ('APR Severity of Illness Description', 'string'),\n",
              " ('APR Risk of Mortality', 'string'),\n",
              " ('APR Medical Surgical Description', 'string'),\n",
              " ('Source of Payment 1', 'string'),\n",
              " ('Emergency Department Indicator', 'string'),\n",
              " ('Total Charges', 'double'),\n",
              " ('Total Costs', 'double'),\n",
              " ('AgeIndex', 'double'),\n",
              " ('catVecAge', 'string'),\n",
              " ('SexIndex', 'double'),\n",
              " ('catVecSex', 'string'),\n",
              " ('RaceIndex', 'double'),\n",
              " ('catVecRace', 'string'),\n",
              " ('ERIndex', 'double'),\n",
              " ('catVecER', 'string'),\n",
              " ('Pay1Index', 'double'),\n",
              " ('catVecPay1', 'string'),\n",
              " ('AdmIndex', 'double'),\n",
              " ('catVecAdm', 'string'),\n",
              " ('DispIndex', 'double'),\n",
              " ('catVecDisp', 'string'),\n",
              " ('MortIndex', 'double'),\n",
              " ('catVecMort', 'string'),\n",
              " ('SurgIndex', 'double'),\n",
              " ('catVecSurg', 'string')]"
            ]
          },
          "metadata": {},
          "execution_count": 5
        }
      ]
    },
    {
      "cell_type": "code",
      "source": [
        "#Drop vector variables\n",
        "df_no_vec = df.drop(\"Health Service Area\", \"Hospital County\", \"Facility Name\", \"catVecAge\", \"catVecSex\", \"catVecRace\", \"catVecER\", \"catVecPay1\", \"catVecAdm\",\"catVecDisp\",\"catVecMort\", \"catVecSurg\",\n",
        "                    \"AgeIndex\", \"SexIndex\", \"RaceIndex\", \"ERIndex\", \"Pay1Index\", \"AdmIndex\", \"DispIndex\", \"MortIndex\", \"SurgIndex\", \"Zip Code - 3 digits\", \"CCS Diagnosis Description\", \"APR DRG Description\",\n",
        "                    \"APR MDC Description\", \"APR Severity of Illness Description\", \"Total Costs\", \"CCS Procedure Description\")"
      ],
      "metadata": {
        "id": "X7q7Yhk9T0t6"
      },
      "execution_count": 23,
      "outputs": []
    },
    {
      "cell_type": "code",
      "source": [
        "df_no_vec.show()"
      ],
      "metadata": {
        "colab": {
          "base_uri": "https://localhost:8080/"
        },
        "id": "Wme8aYhsZ0YM",
        "outputId": "3e6808b6-17c1-46a4-c15c-68905d4d8b15"
      },
      "execution_count": 24,
      "outputs": [
        {
          "output_type": "stream",
          "name": "stdout",
          "text": [
            "+-----------+---------+------+-----+-----------------+--------------+-----------------+-------------------+------------------+------------------+------------+------------+----------------------------+---------------------+--------------------------------+-------------------+------------------------------+-------------+\n",
            "|Facility ID|Age Group|Gender| Race|        Ethnicity|Length of Stay|Type of Admission|Patient Disposition|CCS Diagnosis Code|CCS Procedure Code|APR DRG Code|APR MDC Code|APR Severity of Illness Code|APR Risk of Mortality|APR Medical Surgical Description|Source of Payment 1|Emergency Department Indicator|Total Charges|\n",
            "+-----------+---------+------+-----+-----------------+--------------+-----------------+-------------------+------------------+------------------+------------+------------+----------------------------+---------------------+--------------------------------+-------------------+------------------------------+-------------+\n",
            "|     1437.0|  0 to 17|     M|White|Not Span/Hispanic|             2|          Newborn|  Home or Self Care|             218.0|             228.0|         640|          15|                           1|                Minor|                         Medical|         Blue Cross|                             N|      2468.95|\n",
            "|     1437.0|  0 to 17|     M|White|Not Span/Hispanic|             3|          Newborn|  Home or Self Care|             218.0|             228.0|         640|          15|                           1|                Minor|                         Medical|         Blue Cross|                             N|      6647.18|\n",
            "|     1437.0|  0 to 17|     M|White|Not Span/Hispanic|             2|          Newborn|  Home or Self Care|             218.0|             228.0|         640|          15|                           1|                Minor|                         Medical|  Insurance Company|                             N|      5702.18|\n",
            "|     1437.0|  0 to 17|     M|White|Not Span/Hispanic|             2|          Newborn|  Home or Self Care|             218.0|             228.0|         640|          15|                           1|                Minor|                         Medical|         Blue Cross|                             N|      2125.58|\n",
            "|     1437.0|  0 to 17|     M|White|Not Span/Hispanic|             3|          Newborn|  Home or Self Care|             218.0|             220.0|         640|          15|                           1|                Minor|                         Medical|         Blue Cross|                             N|      3050.58|\n",
            "|     1437.0|  0 to 17|     M|White|Not Span/Hispanic|             2|          Newborn|  Home or Self Care|             218.0|             220.0|         640|          15|                           1|                Minor|                         Medical|         Blue Cross|                             N|      2660.73|\n",
            "|     1437.0|  0 to 17|     M|White|Not Span/Hispanic|             3|          Newborn|  Home or Self Care|             218.0|             115.0|         640|          15|                           1|                Minor|                         Medical|         Blue Cross|                             N|      6973.59|\n",
            "|     1437.0|  0 to 17|     M|White|Not Span/Hispanic|             5|          Newborn|  Home or Self Care|             218.0|             231.0|         639|          15|                           2|                Minor|                         Medical|  Insurance Company|                             N|      7439.85|\n",
            "|     1437.0|  0 to 17|     M|White|Not Span/Hispanic|             2|          Newborn|  Home or Self Care|             218.0|             115.0|         640|          15|                           1|                Minor|                         Medical|  Insurance Company|                             N|      2436.07|\n",
            "|     1437.0|  0 to 17|     M|White|Not Span/Hispanic|             3|          Newborn|  Home or Self Care|             218.0|             231.0|         640|          15|                           2|                Minor|                         Medical|         Blue Cross|                             N|      5345.13|\n",
            "|     1437.0|  0 to 17|     M|White|Not Span/Hispanic|             2|          Newborn|  Home or Self Care|             218.0|             220.0|         640|          15|                           1|                Minor|                         Medical|  Insurance Company|                             N|      2330.24|\n",
            "|     1437.0|  0 to 17|     M|White|Not Span/Hispanic|             2|          Newborn|  Home or Self Care|             218.0|             228.0|         640|          15|                           1|                Minor|                         Medical|  Insurance Company|                             N|      2456.07|\n",
            "|     1437.0|  0 to 17|     M|White|Not Span/Hispanic|             2|          Newborn|  Home or Self Care|             218.0|             115.0|         640|          15|                           1|                Minor|                         Medical|  Insurance Company|                             N|       2157.2|\n",
            "|     1437.0|  0 to 17|     M|White|Not Span/Hispanic|             3|          Newborn|  Home or Self Care|             218.0|             228.0|         640|          15|                           1|                Minor|                         Medical|  Insurance Company|                             N|      3419.81|\n",
            "|     1437.0|  0 to 17|     M|White|Not Span/Hispanic|             3|          Newborn|  Home or Self Care|             218.0|             228.0|         640|          15|                           1|                Minor|                         Medical|  Insurance Company|                             N|      3490.58|\n",
            "|     1437.0|  0 to 17|     M|White|Not Span/Hispanic|             2|          Newborn|  Home or Self Care|             218.0|             115.0|         640|          15|                           1|                Minor|                         Medical|  Insurance Company|                             N|      5665.22|\n",
            "|     1437.0|  0 to 17|     M|White|Not Span/Hispanic|             2|          Newborn|  Home or Self Care|             218.0|             228.0|         640|          15|                           1|                Minor|                         Medical|  Insurance Company|                             N|      2350.24|\n",
            "|     1437.0|  0 to 17|     M|White|Not Span/Hispanic|             4|          Newborn|  Home or Self Care|             218.0|             231.0|         640|          15|                           2|                Minor|                         Medical|         Blue Cross|                             N|      4819.01|\n",
            "|     1437.0|  0 to 17|     M|White|Not Span/Hispanic|             2|          Newborn|  Home or Self Care|             218.0|             228.0|         640|          15|                           1|                Minor|                         Medical|  Insurance Company|                             N|      2105.58|\n",
            "|     1437.0|  0 to 17|     M|White|Not Span/Hispanic|            19|          Newborn|  Home or Self Care|             218.0|             216.0|         622|          15|                           2|                Minor|                         Medical|  Insurance Company|                             Y|     48657.02|\n",
            "+-----------+---------+------+-----+-----------------+--------------+-----------------+-------------------+------------------+------------------+------------+------------+----------------------------+---------------------+--------------------------------+-------------------+------------------------------+-------------+\n",
            "only showing top 20 rows\n",
            "\n"
          ]
        }
      ]
    },
    {
      "cell_type": "code",
      "source": [
        "df_no_vec.withColumn(\"Length of Stay\",col(\"Length of Stay\").cast(\"int\"))"
      ],
      "metadata": {
        "id": "tuuob2TFTUp-",
        "colab": {
          "base_uri": "https://localhost:8080/"
        },
        "outputId": "8fbf2d1b-00c0-4e50-bb0e-91b23a06f662"
      },
      "execution_count": 25,
      "outputs": [
        {
          "output_type": "execute_result",
          "data": {
            "text/plain": [
              "DataFrame[Facility ID: double, Age Group: string, Gender: string, Race: string, Ethnicity: string, Length of Stay: int, Type of Admission: string, Patient Disposition: string, CCS Diagnosis Code: double, CCS Procedure Code: double, APR DRG Code: int, APR MDC Code: int, APR Severity of Illness Code: int, APR Risk of Mortality: string, APR Medical Surgical Description: string, Source of Payment 1: string, Emergency Department Indicator: string, Total Charges: double]"
            ]
          },
          "metadata": {},
          "execution_count": 25
        }
      ]
    },
    {
      "cell_type": "code",
      "source": [
        "pandas_df = df_no_vec.toPandas()"
      ],
      "metadata": {
        "id": "0FN0VAU4LvD3"
      },
      "execution_count": 43,
      "outputs": []
    },
    {
      "cell_type": "code",
      "source": [
        "pandas_df[\"Length of Stay\"] = pandas_df[\"Length of Stay\"].replace(\"120 +\", 121)"
      ],
      "metadata": {
        "id": "WEtyZ1mrakD9"
      },
      "execution_count": 44,
      "outputs": []
    },
    {
      "cell_type": "code",
      "source": [
        "pandas_df[\"Length of Stay\"] = pandas_df[\"Length of Stay\"].astype(int)"
      ],
      "metadata": {
        "id": "WjZcpHYTdI4z"
      },
      "execution_count": 45,
      "outputs": []
    },
    {
      "cell_type": "code",
      "source": [
        "pandas_df.dtypes"
      ],
      "metadata": {
        "colab": {
          "base_uri": "https://localhost:8080/"
        },
        "id": "Kv94HFRsFeVI",
        "outputId": "94377965-fa9c-451f-8c3e-85d4abd5f570"
      },
      "execution_count": 46,
      "outputs": [
        {
          "output_type": "execute_result",
          "data": {
            "text/plain": [
              "Facility ID                         float64\n",
              "Age Group                            object\n",
              "Gender                               object\n",
              "Race                                 object\n",
              "Ethnicity                            object\n",
              "Length of Stay                        int64\n",
              "Type of Admission                    object\n",
              "Patient Disposition                  object\n",
              "CCS Diagnosis Code                  float64\n",
              "CCS Procedure Code                  float64\n",
              "APR DRG Code                          int32\n",
              "APR MDC Code                          int32\n",
              "APR Severity of Illness Code          int32\n",
              "APR Risk of Mortality                object\n",
              "APR Medical Surgical Description     object\n",
              "Source of Payment 1                  object\n",
              "Emergency Department Indicator       object\n",
              "Total Charges                       float64\n",
              "dtype: object"
            ]
          },
          "metadata": {},
          "execution_count": 46
        }
      ]
    },
    {
      "cell_type": "code",
      "source": [
        "pandas_df[\"Length of Stay\"].unique()"
      ],
      "metadata": {
        "id": "WYCpHAwgcmIT",
        "colab": {
          "base_uri": "https://localhost:8080/"
        },
        "outputId": "8c814076-b99c-4f41-e431-e939e8d2735d"
      },
      "execution_count": 47,
      "outputs": [
        {
          "output_type": "execute_result",
          "data": {
            "text/plain": [
              "array([  2,   3,   5,   4,  19,   1,  10,  13,  37,  27,  34,  26,   6,\n",
              "        32,  12,  14,  18,   7,  20,  51,   8,  80,  11,   9,  57, 121,\n",
              "        25,  29,  24,  33,  17,  23,  21,  15,  30,  28,  84,  36,  40,\n",
              "        16,  52, 102,  41,  64,  22,  65,  31,  55,  38,  46,  45,  58,\n",
              "        35,  69,  59,  49,  95,  43,  47,  61,  50,  42,  48,  94,  71,\n",
              "        53,  97,  75,  91,  86,  67,  60,  68,  78, 106,  63,  44,  39,\n",
              "        62,  83, 117,  90, 101,  99,  96, 112,  70,  79, 109,  77,  56,\n",
              "       103,  98,  54,  85,  89,  72,  73,  74,  92, 113,  81,  88,  87,\n",
              "        93,  76, 104, 115, 107, 118,  66, 114, 100, 105, 108, 116, 110,\n",
              "        82, 111, 119])"
            ]
          },
          "metadata": {},
          "execution_count": 47
        }
      ]
    },
    {
      "cell_type": "code",
      "source": [
        "# Convert categorical data to numeric with `pd.get_dummies`\n",
        "dummies_df = pd.get_dummies(pandas_df)\n",
        "dummies_df"
      ],
      "metadata": {
        "colab": {
          "base_uri": "https://localhost:8080/",
          "height": 528
        },
        "id": "A4CQ8nREZ0ek",
        "outputId": "7fd0dfdc-9fb5-43ab-9c74-186b6c6a48f4"
      },
      "execution_count": 48,
      "outputs": [
        {
          "output_type": "execute_result",
          "data": {
            "text/plain": [
              "        Facility ID  Length of Stay  CCS Diagnosis Code  CCS Procedure Code  \\\n",
              "0            1437.0               2               218.0               228.0   \n",
              "1            1437.0               3               218.0               228.0   \n",
              "2            1437.0               2               218.0               228.0   \n",
              "3            1437.0               2               218.0               228.0   \n",
              "4            1437.0               3               218.0               220.0   \n",
              "...             ...             ...                 ...                 ...   \n",
              "443897       3975.0               5               245.0               203.0   \n",
              "443898       3975.0              25                99.0               177.0   \n",
              "443899       3975.0               6                14.0                78.0   \n",
              "443900       3975.0               3                96.0               193.0   \n",
              "443901       3975.0              22               157.0               103.0   \n",
              "\n",
              "        APR DRG Code  APR MDC Code  APR Severity of Illness Code  \\\n",
              "0                640            15                             1   \n",
              "1                640            15                             1   \n",
              "2                640            15                             1   \n",
              "3                640            15                             1   \n",
              "4                640            15                             1   \n",
              "...              ...           ...                           ...   \n",
              "443897           204             5                             2   \n",
              "443898           468            11                             2   \n",
              "443899           221             6                             2   \n",
              "443900           200             5                             3   \n",
              "443901           443            11                             4   \n",
              "\n",
              "        Total Charges  Age Group_0 to 17  Age Group_18 to 29  ...  \\\n",
              "0             2468.95                  1                   0  ...   \n",
              "1             6647.18                  1                   0  ...   \n",
              "2             5702.18                  1                   0  ...   \n",
              "3             2125.58                  1                   0  ...   \n",
              "4             3050.58                  1                   0  ...   \n",
              "...               ...                ...                 ...  ...   \n",
              "443897       36663.34                  0                   0  ...   \n",
              "443898      156389.24                  0                   0  ...   \n",
              "443899       53022.38                  0                   0  ...   \n",
              "443900       18968.74                  0                   0  ...   \n",
              "443901      168386.93                  0                   0  ...   \n",
              "\n",
              "        Source of Payment 1_Insurance Company  Source of Payment 1_Medicaid  \\\n",
              "0                                           0                             0   \n",
              "1                                           0                             0   \n",
              "2                                           1                             0   \n",
              "3                                           0                             0   \n",
              "4                                           0                             0   \n",
              "...                                       ...                           ...   \n",
              "443897                                      0                             0   \n",
              "443898                                      0                             0   \n",
              "443899                                      0                             0   \n",
              "443900                                      0                             0   \n",
              "443901                                      0                             0   \n",
              "\n",
              "        Source of Payment 1_Medicare  \\\n",
              "0                                  0   \n",
              "1                                  0   \n",
              "2                                  0   \n",
              "3                                  0   \n",
              "4                                  0   \n",
              "...                              ...   \n",
              "443897                             1   \n",
              "443898                             1   \n",
              "443899                             1   \n",
              "443900                             0   \n",
              "443901                             1   \n",
              "\n",
              "        Source of Payment 1_Other Federal Program  \\\n",
              "0                                               0   \n",
              "1                                               0   \n",
              "2                                               0   \n",
              "3                                               0   \n",
              "4                                               0   \n",
              "...                                           ...   \n",
              "443897                                          0   \n",
              "443898                                          0   \n",
              "443899                                          0   \n",
              "443900                                          0   \n",
              "443901                                          0   \n",
              "\n",
              "        Source of Payment 1_Other Non-Federal Program  \\\n",
              "0                                                   0   \n",
              "1                                                   0   \n",
              "2                                                   0   \n",
              "3                                                   0   \n",
              "4                                                   0   \n",
              "...                                               ...   \n",
              "443897                                              0   \n",
              "443898                                              0   \n",
              "443899                                              0   \n",
              "443900                                              0   \n",
              "443901                                              0   \n",
              "\n",
              "        Source of Payment 1_Self-Pay  Source of Payment 1_Unknown  \\\n",
              "0                                  0                            0   \n",
              "1                                  0                            0   \n",
              "2                                  0                            0   \n",
              "3                                  0                            0   \n",
              "4                                  0                            0   \n",
              "...                              ...                          ...   \n",
              "443897                             0                            0   \n",
              "443898                             0                            0   \n",
              "443899                             0                            0   \n",
              "443900                             1                            0   \n",
              "443901                             0                            0   \n",
              "\n",
              "        Source of Payment 1_Workers Compensation  \\\n",
              "0                                              0   \n",
              "1                                              0   \n",
              "2                                              0   \n",
              "3                                              0   \n",
              "4                                              0   \n",
              "...                                          ...   \n",
              "443897                                         0   \n",
              "443898                                         0   \n",
              "443899                                         0   \n",
              "443900                                         0   \n",
              "443901                                         0   \n",
              "\n",
              "        Emergency Department Indicator_N  Emergency Department Indicator_Y  \n",
              "0                                      1                                 0  \n",
              "1                                      1                                 0  \n",
              "2                                      1                                 0  \n",
              "3                                      1                                 0  \n",
              "4                                      1                                 0  \n",
              "...                                  ...                               ...  \n",
              "443897                                 1                                 0  \n",
              "443898                                 1                                 0  \n",
              "443899                                 1                                 0  \n",
              "443900                                 1                                 0  \n",
              "443901                                 0                                 1  \n",
              "\n",
              "[443902 rows x 65 columns]"
            ],
            "text/html": [
              "\n",
              "  <div id=\"df-5e0b605a-7974-4d49-892e-09a1b7784359\" class=\"colab-df-container\">\n",
              "    <div>\n",
              "<style scoped>\n",
              "    .dataframe tbody tr th:only-of-type {\n",
              "        vertical-align: middle;\n",
              "    }\n",
              "\n",
              "    .dataframe tbody tr th {\n",
              "        vertical-align: top;\n",
              "    }\n",
              "\n",
              "    .dataframe thead th {\n",
              "        text-align: right;\n",
              "    }\n",
              "</style>\n",
              "<table border=\"1\" class=\"dataframe\">\n",
              "  <thead>\n",
              "    <tr style=\"text-align: right;\">\n",
              "      <th></th>\n",
              "      <th>Facility ID</th>\n",
              "      <th>Length of Stay</th>\n",
              "      <th>CCS Diagnosis Code</th>\n",
              "      <th>CCS Procedure Code</th>\n",
              "      <th>APR DRG Code</th>\n",
              "      <th>APR MDC Code</th>\n",
              "      <th>APR Severity of Illness Code</th>\n",
              "      <th>Total Charges</th>\n",
              "      <th>Age Group_0 to 17</th>\n",
              "      <th>Age Group_18 to 29</th>\n",
              "      <th>...</th>\n",
              "      <th>Source of Payment 1_Insurance Company</th>\n",
              "      <th>Source of Payment 1_Medicaid</th>\n",
              "      <th>Source of Payment 1_Medicare</th>\n",
              "      <th>Source of Payment 1_Other Federal Program</th>\n",
              "      <th>Source of Payment 1_Other Non-Federal Program</th>\n",
              "      <th>Source of Payment 1_Self-Pay</th>\n",
              "      <th>Source of Payment 1_Unknown</th>\n",
              "      <th>Source of Payment 1_Workers Compensation</th>\n",
              "      <th>Emergency Department Indicator_N</th>\n",
              "      <th>Emergency Department Indicator_Y</th>\n",
              "    </tr>\n",
              "  </thead>\n",
              "  <tbody>\n",
              "    <tr>\n",
              "      <th>0</th>\n",
              "      <td>1437.0</td>\n",
              "      <td>2</td>\n",
              "      <td>218.0</td>\n",
              "      <td>228.0</td>\n",
              "      <td>640</td>\n",
              "      <td>15</td>\n",
              "      <td>1</td>\n",
              "      <td>2468.95</td>\n",
              "      <td>1</td>\n",
              "      <td>0</td>\n",
              "      <td>...</td>\n",
              "      <td>0</td>\n",
              "      <td>0</td>\n",
              "      <td>0</td>\n",
              "      <td>0</td>\n",
              "      <td>0</td>\n",
              "      <td>0</td>\n",
              "      <td>0</td>\n",
              "      <td>0</td>\n",
              "      <td>1</td>\n",
              "      <td>0</td>\n",
              "    </tr>\n",
              "    <tr>\n",
              "      <th>1</th>\n",
              "      <td>1437.0</td>\n",
              "      <td>3</td>\n",
              "      <td>218.0</td>\n",
              "      <td>228.0</td>\n",
              "      <td>640</td>\n",
              "      <td>15</td>\n",
              "      <td>1</td>\n",
              "      <td>6647.18</td>\n",
              "      <td>1</td>\n",
              "      <td>0</td>\n",
              "      <td>...</td>\n",
              "      <td>0</td>\n",
              "      <td>0</td>\n",
              "      <td>0</td>\n",
              "      <td>0</td>\n",
              "      <td>0</td>\n",
              "      <td>0</td>\n",
              "      <td>0</td>\n",
              "      <td>0</td>\n",
              "      <td>1</td>\n",
              "      <td>0</td>\n",
              "    </tr>\n",
              "    <tr>\n",
              "      <th>2</th>\n",
              "      <td>1437.0</td>\n",
              "      <td>2</td>\n",
              "      <td>218.0</td>\n",
              "      <td>228.0</td>\n",
              "      <td>640</td>\n",
              "      <td>15</td>\n",
              "      <td>1</td>\n",
              "      <td>5702.18</td>\n",
              "      <td>1</td>\n",
              "      <td>0</td>\n",
              "      <td>...</td>\n",
              "      <td>1</td>\n",
              "      <td>0</td>\n",
              "      <td>0</td>\n",
              "      <td>0</td>\n",
              "      <td>0</td>\n",
              "      <td>0</td>\n",
              "      <td>0</td>\n",
              "      <td>0</td>\n",
              "      <td>1</td>\n",
              "      <td>0</td>\n",
              "    </tr>\n",
              "    <tr>\n",
              "      <th>3</th>\n",
              "      <td>1437.0</td>\n",
              "      <td>2</td>\n",
              "      <td>218.0</td>\n",
              "      <td>228.0</td>\n",
              "      <td>640</td>\n",
              "      <td>15</td>\n",
              "      <td>1</td>\n",
              "      <td>2125.58</td>\n",
              "      <td>1</td>\n",
              "      <td>0</td>\n",
              "      <td>...</td>\n",
              "      <td>0</td>\n",
              "      <td>0</td>\n",
              "      <td>0</td>\n",
              "      <td>0</td>\n",
              "      <td>0</td>\n",
              "      <td>0</td>\n",
              "      <td>0</td>\n",
              "      <td>0</td>\n",
              "      <td>1</td>\n",
              "      <td>0</td>\n",
              "    </tr>\n",
              "    <tr>\n",
              "      <th>4</th>\n",
              "      <td>1437.0</td>\n",
              "      <td>3</td>\n",
              "      <td>218.0</td>\n",
              "      <td>220.0</td>\n",
              "      <td>640</td>\n",
              "      <td>15</td>\n",
              "      <td>1</td>\n",
              "      <td>3050.58</td>\n",
              "      <td>1</td>\n",
              "      <td>0</td>\n",
              "      <td>...</td>\n",
              "      <td>0</td>\n",
              "      <td>0</td>\n",
              "      <td>0</td>\n",
              "      <td>0</td>\n",
              "      <td>0</td>\n",
              "      <td>0</td>\n",
              "      <td>0</td>\n",
              "      <td>0</td>\n",
              "      <td>1</td>\n",
              "      <td>0</td>\n",
              "    </tr>\n",
              "    <tr>\n",
              "      <th>...</th>\n",
              "      <td>...</td>\n",
              "      <td>...</td>\n",
              "      <td>...</td>\n",
              "      <td>...</td>\n",
              "      <td>...</td>\n",
              "      <td>...</td>\n",
              "      <td>...</td>\n",
              "      <td>...</td>\n",
              "      <td>...</td>\n",
              "      <td>...</td>\n",
              "      <td>...</td>\n",
              "      <td>...</td>\n",
              "      <td>...</td>\n",
              "      <td>...</td>\n",
              "      <td>...</td>\n",
              "      <td>...</td>\n",
              "      <td>...</td>\n",
              "      <td>...</td>\n",
              "      <td>...</td>\n",
              "      <td>...</td>\n",
              "      <td>...</td>\n",
              "    </tr>\n",
              "    <tr>\n",
              "      <th>443897</th>\n",
              "      <td>3975.0</td>\n",
              "      <td>5</td>\n",
              "      <td>245.0</td>\n",
              "      <td>203.0</td>\n",
              "      <td>204</td>\n",
              "      <td>5</td>\n",
              "      <td>2</td>\n",
              "      <td>36663.34</td>\n",
              "      <td>0</td>\n",
              "      <td>0</td>\n",
              "      <td>...</td>\n",
              "      <td>0</td>\n",
              "      <td>0</td>\n",
              "      <td>1</td>\n",
              "      <td>0</td>\n",
              "      <td>0</td>\n",
              "      <td>0</td>\n",
              "      <td>0</td>\n",
              "      <td>0</td>\n",
              "      <td>1</td>\n",
              "      <td>0</td>\n",
              "    </tr>\n",
              "    <tr>\n",
              "      <th>443898</th>\n",
              "      <td>3975.0</td>\n",
              "      <td>25</td>\n",
              "      <td>99.0</td>\n",
              "      <td>177.0</td>\n",
              "      <td>468</td>\n",
              "      <td>11</td>\n",
              "      <td>2</td>\n",
              "      <td>156389.24</td>\n",
              "      <td>0</td>\n",
              "      <td>0</td>\n",
              "      <td>...</td>\n",
              "      <td>0</td>\n",
              "      <td>0</td>\n",
              "      <td>1</td>\n",
              "      <td>0</td>\n",
              "      <td>0</td>\n",
              "      <td>0</td>\n",
              "      <td>0</td>\n",
              "      <td>0</td>\n",
              "      <td>1</td>\n",
              "      <td>0</td>\n",
              "    </tr>\n",
              "    <tr>\n",
              "      <th>443899</th>\n",
              "      <td>3975.0</td>\n",
              "      <td>6</td>\n",
              "      <td>14.0</td>\n",
              "      <td>78.0</td>\n",
              "      <td>221</td>\n",
              "      <td>6</td>\n",
              "      <td>2</td>\n",
              "      <td>53022.38</td>\n",
              "      <td>0</td>\n",
              "      <td>0</td>\n",
              "      <td>...</td>\n",
              "      <td>0</td>\n",
              "      <td>0</td>\n",
              "      <td>1</td>\n",
              "      <td>0</td>\n",
              "      <td>0</td>\n",
              "      <td>0</td>\n",
              "      <td>0</td>\n",
              "      <td>0</td>\n",
              "      <td>1</td>\n",
              "      <td>0</td>\n",
              "    </tr>\n",
              "    <tr>\n",
              "      <th>443900</th>\n",
              "      <td>3975.0</td>\n",
              "      <td>3</td>\n",
              "      <td>96.0</td>\n",
              "      <td>193.0</td>\n",
              "      <td>200</td>\n",
              "      <td>5</td>\n",
              "      <td>3</td>\n",
              "      <td>18968.74</td>\n",
              "      <td>0</td>\n",
              "      <td>0</td>\n",
              "      <td>...</td>\n",
              "      <td>0</td>\n",
              "      <td>0</td>\n",
              "      <td>0</td>\n",
              "      <td>0</td>\n",
              "      <td>0</td>\n",
              "      <td>1</td>\n",
              "      <td>0</td>\n",
              "      <td>0</td>\n",
              "      <td>1</td>\n",
              "      <td>0</td>\n",
              "    </tr>\n",
              "    <tr>\n",
              "      <th>443901</th>\n",
              "      <td>3975.0</td>\n",
              "      <td>22</td>\n",
              "      <td>157.0</td>\n",
              "      <td>103.0</td>\n",
              "      <td>443</td>\n",
              "      <td>11</td>\n",
              "      <td>4</td>\n",
              "      <td>168386.93</td>\n",
              "      <td>0</td>\n",
              "      <td>0</td>\n",
              "      <td>...</td>\n",
              "      <td>0</td>\n",
              "      <td>0</td>\n",
              "      <td>1</td>\n",
              "      <td>0</td>\n",
              "      <td>0</td>\n",
              "      <td>0</td>\n",
              "      <td>0</td>\n",
              "      <td>0</td>\n",
              "      <td>0</td>\n",
              "      <td>1</td>\n",
              "    </tr>\n",
              "  </tbody>\n",
              "</table>\n",
              "<p>443902 rows × 65 columns</p>\n",
              "</div>\n",
              "    <div class=\"colab-df-buttons\">\n",
              "\n",
              "  <div class=\"colab-df-container\">\n",
              "    <button class=\"colab-df-convert\" onclick=\"convertToInteractive('df-5e0b605a-7974-4d49-892e-09a1b7784359')\"\n",
              "            title=\"Convert this dataframe to an interactive table.\"\n",
              "            style=\"display:none;\">\n",
              "\n",
              "  <svg xmlns=\"http://www.w3.org/2000/svg\" height=\"24px\" viewBox=\"0 -960 960 960\">\n",
              "    <path d=\"M120-120v-720h720v720H120Zm60-500h600v-160H180v160Zm220 220h160v-160H400v160Zm0 220h160v-160H400v160ZM180-400h160v-160H180v160Zm440 0h160v-160H620v160ZM180-180h160v-160H180v160Zm440 0h160v-160H620v160Z\"/>\n",
              "  </svg>\n",
              "    </button>\n",
              "\n",
              "  <style>\n",
              "    .colab-df-container {\n",
              "      display:flex;\n",
              "      gap: 12px;\n",
              "    }\n",
              "\n",
              "    .colab-df-convert {\n",
              "      background-color: #E8F0FE;\n",
              "      border: none;\n",
              "      border-radius: 50%;\n",
              "      cursor: pointer;\n",
              "      display: none;\n",
              "      fill: #1967D2;\n",
              "      height: 32px;\n",
              "      padding: 0 0 0 0;\n",
              "      width: 32px;\n",
              "    }\n",
              "\n",
              "    .colab-df-convert:hover {\n",
              "      background-color: #E2EBFA;\n",
              "      box-shadow: 0px 1px 2px rgba(60, 64, 67, 0.3), 0px 1px 3px 1px rgba(60, 64, 67, 0.15);\n",
              "      fill: #174EA6;\n",
              "    }\n",
              "\n",
              "    .colab-df-buttons div {\n",
              "      margin-bottom: 4px;\n",
              "    }\n",
              "\n",
              "    [theme=dark] .colab-df-convert {\n",
              "      background-color: #3B4455;\n",
              "      fill: #D2E3FC;\n",
              "    }\n",
              "\n",
              "    [theme=dark] .colab-df-convert:hover {\n",
              "      background-color: #434B5C;\n",
              "      box-shadow: 0px 1px 3px 1px rgba(0, 0, 0, 0.15);\n",
              "      filter: drop-shadow(0px 1px 2px rgba(0, 0, 0, 0.3));\n",
              "      fill: #FFFFFF;\n",
              "    }\n",
              "  </style>\n",
              "\n",
              "    <script>\n",
              "      const buttonEl =\n",
              "        document.querySelector('#df-5e0b605a-7974-4d49-892e-09a1b7784359 button.colab-df-convert');\n",
              "      buttonEl.style.display =\n",
              "        google.colab.kernel.accessAllowed ? 'block' : 'none';\n",
              "\n",
              "      async function convertToInteractive(key) {\n",
              "        const element = document.querySelector('#df-5e0b605a-7974-4d49-892e-09a1b7784359');\n",
              "        const dataTable =\n",
              "          await google.colab.kernel.invokeFunction('convertToInteractive',\n",
              "                                                    [key], {});\n",
              "        if (!dataTable) return;\n",
              "\n",
              "        const docLinkHtml = 'Like what you see? Visit the ' +\n",
              "          '<a target=\"_blank\" href=https://colab.research.google.com/notebooks/data_table.ipynb>data table notebook</a>'\n",
              "          + ' to learn more about interactive tables.';\n",
              "        element.innerHTML = '';\n",
              "        dataTable['output_type'] = 'display_data';\n",
              "        await google.colab.output.renderOutput(dataTable, element);\n",
              "        const docLink = document.createElement('div');\n",
              "        docLink.innerHTML = docLinkHtml;\n",
              "        element.appendChild(docLink);\n",
              "      }\n",
              "    </script>\n",
              "  </div>\n",
              "\n",
              "\n",
              "<div id=\"df-5b9069de-f973-4acb-a244-19c67765aa5f\">\n",
              "  <button class=\"colab-df-quickchart\" onclick=\"quickchart('df-5b9069de-f973-4acb-a244-19c67765aa5f')\"\n",
              "            title=\"Suggest charts\"\n",
              "            style=\"display:none;\">\n",
              "\n",
              "<svg xmlns=\"http://www.w3.org/2000/svg\" height=\"24px\"viewBox=\"0 0 24 24\"\n",
              "     width=\"24px\">\n",
              "    <g>\n",
              "        <path d=\"M19 3H5c-1.1 0-2 .9-2 2v14c0 1.1.9 2 2 2h14c1.1 0 2-.9 2-2V5c0-1.1-.9-2-2-2zM9 17H7v-7h2v7zm4 0h-2V7h2v10zm4 0h-2v-4h2v4z\"/>\n",
              "    </g>\n",
              "</svg>\n",
              "  </button>\n",
              "\n",
              "<style>\n",
              "  .colab-df-quickchart {\n",
              "      --bg-color: #E8F0FE;\n",
              "      --fill-color: #1967D2;\n",
              "      --hover-bg-color: #E2EBFA;\n",
              "      --hover-fill-color: #174EA6;\n",
              "      --disabled-fill-color: #AAA;\n",
              "      --disabled-bg-color: #DDD;\n",
              "  }\n",
              "\n",
              "  [theme=dark] .colab-df-quickchart {\n",
              "      --bg-color: #3B4455;\n",
              "      --fill-color: #D2E3FC;\n",
              "      --hover-bg-color: #434B5C;\n",
              "      --hover-fill-color: #FFFFFF;\n",
              "      --disabled-bg-color: #3B4455;\n",
              "      --disabled-fill-color: #666;\n",
              "  }\n",
              "\n",
              "  .colab-df-quickchart {\n",
              "    background-color: var(--bg-color);\n",
              "    border: none;\n",
              "    border-radius: 50%;\n",
              "    cursor: pointer;\n",
              "    display: none;\n",
              "    fill: var(--fill-color);\n",
              "    height: 32px;\n",
              "    padding: 0;\n",
              "    width: 32px;\n",
              "  }\n",
              "\n",
              "  .colab-df-quickchart:hover {\n",
              "    background-color: var(--hover-bg-color);\n",
              "    box-shadow: 0 1px 2px rgba(60, 64, 67, 0.3), 0 1px 3px 1px rgba(60, 64, 67, 0.15);\n",
              "    fill: var(--button-hover-fill-color);\n",
              "  }\n",
              "\n",
              "  .colab-df-quickchart-complete:disabled,\n",
              "  .colab-df-quickchart-complete:disabled:hover {\n",
              "    background-color: var(--disabled-bg-color);\n",
              "    fill: var(--disabled-fill-color);\n",
              "    box-shadow: none;\n",
              "  }\n",
              "\n",
              "  .colab-df-spinner {\n",
              "    border: 2px solid var(--fill-color);\n",
              "    border-color: transparent;\n",
              "    border-bottom-color: var(--fill-color);\n",
              "    animation:\n",
              "      spin 1s steps(1) infinite;\n",
              "  }\n",
              "\n",
              "  @keyframes spin {\n",
              "    0% {\n",
              "      border-color: transparent;\n",
              "      border-bottom-color: var(--fill-color);\n",
              "      border-left-color: var(--fill-color);\n",
              "    }\n",
              "    20% {\n",
              "      border-color: transparent;\n",
              "      border-left-color: var(--fill-color);\n",
              "      border-top-color: var(--fill-color);\n",
              "    }\n",
              "    30% {\n",
              "      border-color: transparent;\n",
              "      border-left-color: var(--fill-color);\n",
              "      border-top-color: var(--fill-color);\n",
              "      border-right-color: var(--fill-color);\n",
              "    }\n",
              "    40% {\n",
              "      border-color: transparent;\n",
              "      border-right-color: var(--fill-color);\n",
              "      border-top-color: var(--fill-color);\n",
              "    }\n",
              "    60% {\n",
              "      border-color: transparent;\n",
              "      border-right-color: var(--fill-color);\n",
              "    }\n",
              "    80% {\n",
              "      border-color: transparent;\n",
              "      border-right-color: var(--fill-color);\n",
              "      border-bottom-color: var(--fill-color);\n",
              "    }\n",
              "    90% {\n",
              "      border-color: transparent;\n",
              "      border-bottom-color: var(--fill-color);\n",
              "    }\n",
              "  }\n",
              "</style>\n",
              "\n",
              "  <script>\n",
              "    async function quickchart(key) {\n",
              "      const quickchartButtonEl =\n",
              "        document.querySelector('#' + key + ' button');\n",
              "      quickchartButtonEl.disabled = true;  // To prevent multiple clicks.\n",
              "      quickchartButtonEl.classList.add('colab-df-spinner');\n",
              "      try {\n",
              "        const charts = await google.colab.kernel.invokeFunction(\n",
              "            'suggestCharts', [key], {});\n",
              "      } catch (error) {\n",
              "        console.error('Error during call to suggestCharts:', error);\n",
              "      }\n",
              "      quickchartButtonEl.classList.remove('colab-df-spinner');\n",
              "      quickchartButtonEl.classList.add('colab-df-quickchart-complete');\n",
              "    }\n",
              "    (() => {\n",
              "      let quickchartButtonEl =\n",
              "        document.querySelector('#df-5b9069de-f973-4acb-a244-19c67765aa5f button');\n",
              "      quickchartButtonEl.style.display =\n",
              "        google.colab.kernel.accessAllowed ? 'block' : 'none';\n",
              "    })();\n",
              "  </script>\n",
              "</div>\n",
              "\n",
              "  <div id=\"id_ac533066-3c1c-4f73-b119-333ff4668806\">\n",
              "    <style>\n",
              "      .colab-df-generate {\n",
              "        background-color: #E8F0FE;\n",
              "        border: none;\n",
              "        border-radius: 50%;\n",
              "        cursor: pointer;\n",
              "        display: none;\n",
              "        fill: #1967D2;\n",
              "        height: 32px;\n",
              "        padding: 0 0 0 0;\n",
              "        width: 32px;\n",
              "      }\n",
              "\n",
              "      .colab-df-generate:hover {\n",
              "        background-color: #E2EBFA;\n",
              "        box-shadow: 0px 1px 2px rgba(60, 64, 67, 0.3), 0px 1px 3px 1px rgba(60, 64, 67, 0.15);\n",
              "        fill: #174EA6;\n",
              "      }\n",
              "\n",
              "      [theme=dark] .colab-df-generate {\n",
              "        background-color: #3B4455;\n",
              "        fill: #D2E3FC;\n",
              "      }\n",
              "\n",
              "      [theme=dark] .colab-df-generate:hover {\n",
              "        background-color: #434B5C;\n",
              "        box-shadow: 0px 1px 3px 1px rgba(0, 0, 0, 0.15);\n",
              "        filter: drop-shadow(0px 1px 2px rgba(0, 0, 0, 0.3));\n",
              "        fill: #FFFFFF;\n",
              "      }\n",
              "    </style>\n",
              "    <button class=\"colab-df-generate\" onclick=\"generateWithVariable('dummies_df')\"\n",
              "            title=\"Generate code using this dataframe.\"\n",
              "            style=\"display:none;\">\n",
              "\n",
              "  <svg xmlns=\"http://www.w3.org/2000/svg\" height=\"24px\"viewBox=\"0 0 24 24\"\n",
              "       width=\"24px\">\n",
              "    <path d=\"M7,19H8.4L18.45,9,17,7.55,7,17.6ZM5,21V16.75L18.45,3.32a2,2,0,0,1,2.83,0l1.4,1.43a1.91,1.91,0,0,1,.58,1.4,1.91,1.91,0,0,1-.58,1.4L9.25,21ZM18.45,9,17,7.55Zm-12,3A5.31,5.31,0,0,0,4.9,8.1,5.31,5.31,0,0,0,1,6.5,5.31,5.31,0,0,0,4.9,4.9,5.31,5.31,0,0,0,6.5,1,5.31,5.31,0,0,0,8.1,4.9,5.31,5.31,0,0,0,12,6.5,5.46,5.46,0,0,0,6.5,12Z\"/>\n",
              "  </svg>\n",
              "    </button>\n",
              "    <script>\n",
              "      (() => {\n",
              "      const buttonEl =\n",
              "        document.querySelector('#id_ac533066-3c1c-4f73-b119-333ff4668806 button.colab-df-generate');\n",
              "      buttonEl.style.display =\n",
              "        google.colab.kernel.accessAllowed ? 'block' : 'none';\n",
              "\n",
              "      buttonEl.onclick = () => {\n",
              "        google.colab.notebook.generateWithVariable('dummies_df');\n",
              "      }\n",
              "      })();\n",
              "    </script>\n",
              "  </div>\n",
              "\n",
              "    </div>\n",
              "  </div>\n"
            ],
            "application/vnd.google.colaboratory.intrinsic+json": {
              "type": "dataframe",
              "variable_name": "dummies_df"
            }
          },
          "metadata": {},
          "execution_count": 48
        }
      ]
    },
    {
      "cell_type": "code",
      "source": [
        "# Split our preprocessed data into our features and target arrays\n",
        "\n",
        "y = dummies_df[\"Total Charges\"].values\n",
        "X = dummies_df.drop(\"Total Charges\", axis = 1)\n",
        "# Split the preprocessed data into a training and testing dataset\n",
        "X_train, X_test, y_train, y_test = train_test_split(X,y, random_state=1)"
      ],
      "metadata": {
        "id": "VXjr4Rg4Z0HY"
      },
      "execution_count": 49,
      "outputs": []
    },
    {
      "cell_type": "code",
      "source": [
        "# Create a StandardScaler instances\n",
        "scaler = StandardScaler()\n",
        "\n",
        "# Fit the StandardScaler\n",
        "X_scaler = scaler.fit(X_train)\n",
        "\n",
        "# Scale the data\n",
        "X_train_scaled = X_scaler.transform(X_train)\n",
        "X_test_scaled = X_scaler.transform(X_test)"
      ],
      "metadata": {
        "id": "rjT3iU5pZ0AN"
      },
      "execution_count": 50,
      "outputs": []
    },
    {
      "cell_type": "code",
      "source": [],
      "metadata": {
        "id": "vUv6CKtGZz3T"
      },
      "execution_count": null,
      "outputs": []
    },
    {
      "cell_type": "markdown",
      "source": [],
      "metadata": {
        "id": "TtffKtvGgFUl"
      }
    },
    {
      "cell_type": "code",
      "source": [
        "# Define the model - deep neural net, i.e., the number of input features and hidden nodes for each layer.\n",
        "\n",
        "input_features = len(X_train_scaled[0])\n",
        "hidden_layer_1 = 80\n",
        "hidden_layer_2 = 30\n",
        "nn = tf.keras.models.Sequential()\n",
        "# First hidden layer\n",
        "nn.add(tf.keras.layers.Dense(units=hidden_layer_1, activation=\"linear\", input_dim=input_features))\n",
        "# Second hidden layer\n",
        "nn.add(tf.keras.layers.Dense(units=hidden_layer_2, activation=\"sigmoid\"))\n",
        "# Output layer\n",
        "nn.add(tf.keras.layers.Dense(units=1, activation=\"linear\"))\n",
        "# Check the structure of the model\n",
        "nn.summary()"
      ],
      "metadata": {
        "id": "INlmKm3pdd2p",
        "colab": {
          "base_uri": "https://localhost:8080/"
        },
        "outputId": "24a7d5de-39ea-4548-ac25-b701caca7028"
      },
      "execution_count": 51,
      "outputs": [
        {
          "output_type": "stream",
          "name": "stdout",
          "text": [
            "Model: \"sequential\"\n",
            "_________________________________________________________________\n",
            " Layer (type)                Output Shape              Param #   \n",
            "=================================================================\n",
            " dense (Dense)               (None, 80)                5200      \n",
            "                                                                 \n",
            " dense_1 (Dense)             (None, 30)                2430      \n",
            "                                                                 \n",
            " dense_2 (Dense)             (None, 1)                 31        \n",
            "                                                                 \n",
            "=================================================================\n",
            "Total params: 7661 (29.93 KB)\n",
            "Trainable params: 7661 (29.93 KB)\n",
            "Non-trainable params: 0 (0.00 Byte)\n",
            "_________________________________________________________________\n"
          ]
        }
      ]
    },
    {
      "cell_type": "code",
      "source": [
        "\n",
        "# Compile the model\n",
        "#nn.compile(loss=\"binary_crossentropy\", optimizer=\"adam\", metrics=[\"accuracy\"])\n",
        "\n",
        "#https://stackoverflow.com/questions/33846069/how-to-set-rmse-cost-function-in-tensorflow\n",
        "#mae=mean absolute error\n",
        "rmse = tf.keras.metrics.RootMeanSquaredError()\n",
        "nn.compile(optimizer=\"sgd\", loss='mean_squared_error',\n",
        "              metrics=[rmse,'mae'])\n",
        "\n"
      ],
      "metadata": {
        "id": "yvkvgvzZdgyJ"
      },
      "execution_count": 52,
      "outputs": []
    },
    {
      "cell_type": "code",
      "source": [
        "#https://www.tensorflow.org/api_docs/python/tf/keras/callbacks/ModelCheckpoint\n",
        "#Save weights every 5 epochs\n",
        "model_checkpoint_callback = tf.keras.callbacks.ModelCheckpoint(\n",
        "    filepath=\"\",\n",
        "    #period=5,\n",
        "    save_freq = 5\n",
        "  )"
      ],
      "metadata": {
        "id": "jAqcXqg9DTA0"
      },
      "execution_count": 53,
      "outputs": []
    },
    {
      "cell_type": "code",
      "source": [
        "# Train the model\n",
        "fit_model = nn.fit(X_train_scaled, y_train, epochs=50)"
      ],
      "metadata": {
        "colab": {
          "base_uri": "https://localhost:8080/"
        },
        "id": "Q94UMcAiDTMO",
        "outputId": "7e17cc9e-6a3d-4b88-d7c0-a2690d5947bc"
      },
      "execution_count": 62,
      "outputs": [
        {
          "output_type": "stream",
          "name": "stdout",
          "text": [
            "Epoch 1/50\n",
            "10404/10404 [==============================] - 18s 2ms/step - loss: 6382319616.0000 - root_mean_squared_error: 79889.4219 - mae: 35077.3008\n",
            "Epoch 2/50\n",
            "10404/10404 [==============================] - 19s 2ms/step - loss: 6382765056.0000 - root_mean_squared_error: 79892.2109 - mae: 35063.6719\n",
            "Epoch 3/50\n",
            "10404/10404 [==============================] - 18s 2ms/step - loss: 6384033792.0000 - root_mean_squared_error: 79900.1484 - mae: 35060.5117\n",
            "Epoch 4/50\n",
            "10404/10404 [==============================] - 19s 2ms/step - loss: 6384711680.0000 - root_mean_squared_error: 79904.3906 - mae: 35067.4414\n",
            "Epoch 5/50\n",
            "10404/10404 [==============================] - 19s 2ms/step - loss: 6382331904.0000 - root_mean_squared_error: 79889.5000 - mae: 35067.7930\n",
            "Epoch 6/50\n",
            "10404/10404 [==============================] - 20s 2ms/step - loss: 6382307840.0000 - root_mean_squared_error: 79889.3438 - mae: 35070.2734\n",
            "Epoch 7/50\n",
            "10404/10404 [==============================] - 18s 2ms/step - loss: 6384224768.0000 - root_mean_squared_error: 79901.3438 - mae: 35061.3867\n",
            "Epoch 8/50\n",
            "10404/10404 [==============================] - 19s 2ms/step - loss: 6383714304.0000 - root_mean_squared_error: 79898.1484 - mae: 35062.1406\n",
            "Epoch 9/50\n",
            "10404/10404 [==============================] - 18s 2ms/step - loss: 6384125440.0000 - root_mean_squared_error: 79900.7188 - mae: 35076.8477\n",
            "Epoch 10/50\n",
            "10404/10404 [==============================] - 19s 2ms/step - loss: 6382624256.0000 - root_mean_squared_error: 79891.3281 - mae: 35068.2656\n",
            "Epoch 11/50\n",
            "10404/10404 [==============================] - 19s 2ms/step - loss: 6383908864.0000 - root_mean_squared_error: 79899.3672 - mae: 35067.0820\n",
            "Epoch 12/50\n",
            "10404/10404 [==============================] - 21s 2ms/step - loss: 6385410560.0000 - root_mean_squared_error: 79908.7656 - mae: 35070.3047\n",
            "Epoch 13/50\n",
            "10404/10404 [==============================] - 19s 2ms/step - loss: 6382970368.0000 - root_mean_squared_error: 79893.4922 - mae: 35075.5859\n",
            "Epoch 14/50\n",
            "10404/10404 [==============================] - 19s 2ms/step - loss: 6384752128.0000 - root_mean_squared_error: 79904.6406 - mae: 35062.0664\n",
            "Epoch 15/50\n",
            "10404/10404 [==============================] - 18s 2ms/step - loss: 6381283840.0000 - root_mean_squared_error: 79882.9375 - mae: 35064.0625\n",
            "Epoch 16/50\n",
            "10404/10404 [==============================] - 19s 2ms/step - loss: 6384664576.0000 - root_mean_squared_error: 79904.0938 - mae: 35067.7461\n",
            "Epoch 17/50\n",
            "10404/10404 [==============================] - 18s 2ms/step - loss: 6384440832.0000 - root_mean_squared_error: 79902.6953 - mae: 35067.7734\n",
            "Epoch 18/50\n",
            "10404/10404 [==============================] - 18s 2ms/step - loss: 6385156096.0000 - root_mean_squared_error: 79907.1719 - mae: 35058.9961\n",
            "Epoch 19/50\n",
            "10404/10404 [==============================] - 19s 2ms/step - loss: 6385651200.0000 - root_mean_squared_error: 79910.2734 - mae: 35067.7656\n",
            "Epoch 20/50\n",
            "10404/10404 [==============================] - 18s 2ms/step - loss: 6383527936.0000 - root_mean_squared_error: 79896.9844 - mae: 35057.6719\n",
            "Epoch 21/50\n",
            "10404/10404 [==============================] - 19s 2ms/step - loss: 6383568896.0000 - root_mean_squared_error: 79897.2422 - mae: 35066.2031\n",
            "Epoch 22/50\n",
            "10404/10404 [==============================] - 18s 2ms/step - loss: 6385928704.0000 - root_mean_squared_error: 79912.0078 - mae: 35068.4180\n",
            "Epoch 23/50\n",
            "10404/10404 [==============================] - 19s 2ms/step - loss: 6383797248.0000 - root_mean_squared_error: 79898.6719 - mae: 35072.4023\n",
            "Epoch 24/50\n",
            "10404/10404 [==============================] - 18s 2ms/step - loss: 6384114688.0000 - root_mean_squared_error: 79900.6562 - mae: 35073.5156\n",
            "Epoch 25/50\n",
            "10404/10404 [==============================] - 19s 2ms/step - loss: 6384052736.0000 - root_mean_squared_error: 79900.2656 - mae: 35057.3516\n",
            "Epoch 26/50\n",
            "10404/10404 [==============================] - 18s 2ms/step - loss: 6385108480.0000 - root_mean_squared_error: 79906.8750 - mae: 35063.0469\n",
            "Epoch 27/50\n",
            "10404/10404 [==============================] - 18s 2ms/step - loss: 6381643776.0000 - root_mean_squared_error: 79885.1875 - mae: 35070.7109\n",
            "Epoch 28/50\n",
            "10404/10404 [==============================] - 19s 2ms/step - loss: 6382495744.0000 - root_mean_squared_error: 79890.5234 - mae: 35069.8633\n",
            "Epoch 29/50\n",
            "10404/10404 [==============================] - 18s 2ms/step - loss: 6382974976.0000 - root_mean_squared_error: 79893.5234 - mae: 35061.8242\n",
            "Epoch 30/50\n",
            "10404/10404 [==============================] - 19s 2ms/step - loss: 6383197184.0000 - root_mean_squared_error: 79894.9141 - mae: 35062.3906\n",
            "Epoch 31/50\n",
            "10404/10404 [==============================] - 18s 2ms/step - loss: 6384887296.0000 - root_mean_squared_error: 79905.4922 - mae: 35061.0625\n",
            "Epoch 32/50\n",
            "10404/10404 [==============================] - 18s 2ms/step - loss: 6383302144.0000 - root_mean_squared_error: 79895.5703 - mae: 35072.5781\n",
            "Epoch 33/50\n",
            "10404/10404 [==============================] - 18s 2ms/step - loss: 6384245760.0000 - root_mean_squared_error: 79901.4766 - mae: 35071.1211\n",
            "Epoch 34/50\n",
            "10404/10404 [==============================] - 18s 2ms/step - loss: 6383908352.0000 - root_mean_squared_error: 79899.3672 - mae: 35048.5078\n",
            "Epoch 35/50\n",
            "10404/10404 [==============================] - 19s 2ms/step - loss: 6383904768.0000 - root_mean_squared_error: 79899.3438 - mae: 35067.5000\n",
            "Epoch 36/50\n",
            "10404/10404 [==============================] - 18s 2ms/step - loss: 6384266240.0000 - root_mean_squared_error: 79901.6016 - mae: 35074.9922\n",
            "Epoch 37/50\n",
            "10404/10404 [==============================] - 19s 2ms/step - loss: 6382706176.0000 - root_mean_squared_error: 79891.8438 - mae: 35059.4336\n",
            "Epoch 38/50\n",
            "10404/10404 [==============================] - 18s 2ms/step - loss: 6383537664.0000 - root_mean_squared_error: 79897.0469 - mae: 35050.9648\n",
            "Epoch 39/50\n",
            "10404/10404 [==============================] - 19s 2ms/step - loss: 6384926208.0000 - root_mean_squared_error: 79905.7344 - mae: 35063.9180\n",
            "Epoch 40/50\n",
            "10404/10404 [==============================] - 18s 2ms/step - loss: 6384240128.0000 - root_mean_squared_error: 79901.4375 - mae: 35063.1602\n",
            "Epoch 41/50\n",
            "10404/10404 [==============================] - 19s 2ms/step - loss: 6384296448.0000 - root_mean_squared_error: 79901.7891 - mae: 35066.4883\n",
            "Epoch 42/50\n",
            "10404/10404 [==============================] - 18s 2ms/step - loss: 6383852544.0000 - root_mean_squared_error: 79899.0156 - mae: 35059.6172\n",
            "Epoch 43/50\n",
            "10404/10404 [==============================] - 18s 2ms/step - loss: 6385438720.0000 - root_mean_squared_error: 79908.9375 - mae: 35066.3867\n",
            "Epoch 44/50\n",
            "10404/10404 [==============================] - 19s 2ms/step - loss: 6382862848.0000 - root_mean_squared_error: 79892.8203 - mae: 35065.9766\n",
            "Epoch 45/50\n",
            "10404/10404 [==============================] - 18s 2ms/step - loss: 6385476608.0000 - root_mean_squared_error: 79909.1797 - mae: 35061.3008\n",
            "Epoch 46/50\n",
            "10404/10404 [==============================] - 19s 2ms/step - loss: 6384169984.0000 - root_mean_squared_error: 79901.0000 - mae: 35069.6094\n",
            "Epoch 47/50\n",
            "10404/10404 [==============================] - 18s 2ms/step - loss: 6384137728.0000 - root_mean_squared_error: 79900.7969 - mae: 35068.0820\n",
            "Epoch 48/50\n",
            "10404/10404 [==============================] - 19s 2ms/step - loss: 6383999488.0000 - root_mean_squared_error: 79899.9375 - mae: 35061.3945\n",
            "Epoch 49/50\n",
            "10404/10404 [==============================] - 18s 2ms/step - loss: 6382153216.0000 - root_mean_squared_error: 79888.3828 - mae: 35054.2617\n",
            "Epoch 50/50\n",
            "10404/10404 [==============================] - 19s 2ms/step - loss: 6383445504.0000 - root_mean_squared_error: 79896.4688 - mae: 35065.9336\n"
          ]
        }
      ]
    },
    {
      "cell_type": "code",
      "source": [
        "# Evaluate the model using the test data\n",
        "model_loss, model_rmse, model_mae = nn.evaluate(X_test_scaled,y_test,verbose=2)\n",
        "print(f\"Loss: {model_loss}, RMSE: {model_rmse}, mae: {model_mae}\")"
      ],
      "metadata": {
        "colab": {
          "base_uri": "https://localhost:8080/"
        },
        "id": "94tdG-iwJvEX",
        "outputId": "33f11638-2fa5-404f-a6a4-5e366dc8ad0c"
      },
      "execution_count": 63,
      "outputs": [
        {
          "output_type": "stream",
          "name": "stdout",
          "text": [
            "3468/3468 - 4s - loss: 8033117696.0000 - root_mean_squared_error: 89627.6641 - mae: 32419.5234 - 4s/epoch - 1ms/step\n",
            "Loss: 8033117696.0, RMSE: 89627.6640625, mae: 32419.5234375\n"
          ]
        }
      ]
    },
    {
      "cell_type": "code",
      "source": [
        "#https://www.tutorialspoint.com/keras/keras_regression_prediction_using_mpl.htm\n",
        "prediction = nn.predict(X_test_scaled)\n",
        "#prediction = prediction.flatten()\n",
        "prediction"
      ],
      "metadata": {
        "colab": {
          "base_uri": "https://localhost:8080/"
        },
        "id": "A7ra-fbuJuW9",
        "outputId": "d62a61db-430a-43c2-972d-1db1a937df5d"
      },
      "execution_count": 64,
      "outputs": [
        {
          "output_type": "stream",
          "name": "stdout",
          "text": [
            "3468/3468 [==============================] - 5s 1ms/step\n"
          ]
        },
        {
          "output_type": "execute_result",
          "data": {
            "text/plain": [
              "array([[30497.582],\n",
              "       [56360.188],\n",
              "       [16927.684],\n",
              "       ...,\n",
              "       [56360.188],\n",
              "       [43743.867],\n",
              "       [49376.438]], dtype=float32)"
            ]
          },
          "metadata": {},
          "execution_count": 64
        }
      ]
    },
    {
      "cell_type": "code",
      "source": [
        "prediction.flatten()"
      ],
      "metadata": {
        "colab": {
          "base_uri": "https://localhost:8080/"
        },
        "id": "0cFRwb9kMpYn",
        "outputId": "b3ebdc54-ff85-4277-c129-a6a68031341f"
      },
      "execution_count": 65,
      "outputs": [
        {
          "output_type": "execute_result",
          "data": {
            "text/plain": [
              "array([30497.582, 56360.188, 16927.684, ..., 56360.188, 43743.867,\n",
              "       49376.438], dtype=float32)"
            ]
          },
          "metadata": {},
          "execution_count": 65
        }
      ]
    },
    {
      "cell_type": "code",
      "source": [
        "y_test_reshape = y_test.reshape(-1, 1)\n",
        "y_test_reshape"
      ],
      "metadata": {
        "colab": {
          "base_uri": "https://localhost:8080/"
        },
        "id": "7isLthaULwWU",
        "outputId": "cfa5115e-1848-402c-cd5d-3d734156c316"
      },
      "execution_count": 66,
      "outputs": [
        {
          "output_type": "execute_result",
          "data": {
            "text/plain": [
              "array([[ 2884.7 ],\n",
              "       [21864.75],\n",
              "       [36315.99],\n",
              "       ...,\n",
              "       [ 4706.05],\n",
              "       [16616.55],\n",
              "       [24419.22]])"
            ]
          },
          "metadata": {},
          "execution_count": 66
        }
      ]
    },
    {
      "cell_type": "code",
      "source": [
        "#https://www.tensorflow.org/api_docs/python/tf/keras/metrics/R2Score\n",
        "metric = tf.keras.metrics.R2Score()\n",
        "metric.update_state(y_test_reshape, prediction)\n",
        "result = metric.result()\n",
        "print(result)\n",
        "result.numpy()"
      ],
      "metadata": {
        "colab": {
          "base_uri": "https://localhost:8080/"
        },
        "id": "q-lem3hPJt78",
        "outputId": "777a10ad-6d1e-46e2-b133-76b7a5b8a69a"
      },
      "execution_count": 67,
      "outputs": [
        {
          "output_type": "stream",
          "name": "stdout",
          "text": [
            "tf.Tensor(0.020110726, shape=(), dtype=float32)\n"
          ]
        },
        {
          "output_type": "execute_result",
          "data": {
            "text/plain": [
              "0.020110726"
            ]
          },
          "metadata": {},
          "execution_count": 67
        }
      ]
    },
    {
      "cell_type": "markdown",
      "source": [
        "Optimization attempt 1"
      ],
      "metadata": {
        "id": "G8bGCZVmJDcq"
      }
    },
    {
      "cell_type": "code",
      "source": [
        "from sklearn.tree import DecisionTreeRegressor\n",
        "dt = DecisionTreeRegressor(max_depth=12)\n",
        "dt.fit(X_train, y_train)\n",
        "predictions = dt.predict(X_test_scaled)\n",
        "dt.score(X_test_scaled, y_test)"
      ],
      "metadata": {
        "colab": {
          "base_uri": "https://localhost:8080/"
        },
        "id": "_m_ZlpljOhT2",
        "outputId": "072d7bd2-5150-40a5-962e-a89e005b7a88"
      },
      "execution_count": 60,
      "outputs": [
        {
          "output_type": "stream",
          "name": "stderr",
          "text": [
            "/usr/local/lib/python3.10/dist-packages/sklearn/base.py:439: UserWarning: X does not have valid feature names, but DecisionTreeRegressor was fitted with feature names\n",
            "  warnings.warn(\n",
            "/usr/local/lib/python3.10/dist-packages/sklearn/base.py:439: UserWarning: X does not have valid feature names, but DecisionTreeRegressor was fitted with feature names\n",
            "  warnings.warn(\n"
          ]
        },
        {
          "output_type": "execute_result",
          "data": {
            "text/plain": [
              "-0.09255875126363233"
            ]
          },
          "metadata": {},
          "execution_count": 60
        }
      ]
    },
    {
      "cell_type": "markdown",
      "source": [
        "Optimization attempt 2"
      ],
      "metadata": {
        "id": "-Iqgi6ZqYUks"
      }
    },
    {
      "cell_type": "code",
      "source": [
        "#Try linear regression machine learning\n",
        "#https://www.turing.com/kb/scikit-learn-cheatsheet-methods-for-classification-and-regression\n",
        "#https://scikit-learn.org/stable/modules/generated/sklearn.linear_model.LinearRegression.html\n",
        "from sklearn.linear_model import LinearRegression\n",
        "lr = LinearRegression()\n",
        "lr.fit(X_train_scaled, y_train)\n",
        "predictions = lr.predict(X_test_scaled)\n",
        "lr.score(X_test_scaled, y_test)"
      ],
      "metadata": {
        "colab": {
          "base_uri": "https://localhost:8080/"
        },
        "id": "kbSafsJ8NZRN",
        "outputId": "3ead82d8-786e-4a03-bea8-add51c571404"
      },
      "execution_count": 61,
      "outputs": [
        {
          "output_type": "execute_result",
          "data": {
            "text/plain": [
              "0.5280448979133505"
            ]
          },
          "metadata": {},
          "execution_count": 61
        }
      ]
    },
    {
      "cell_type": "code",
      "source": [
        "#Alternate optimizers\n",
        "#https://www.tensorflow.org/api_docs/python/tf/keras/optimizers"
      ],
      "metadata": {
        "id": "HAByNo99GoNn"
      },
      "execution_count": null,
      "outputs": []
    },
    {
      "cell_type": "code",
      "source": [],
      "metadata": {
        "id": "8_saSLi8Ie_1"
      },
      "execution_count": null,
      "outputs": []
    }
  ]
}