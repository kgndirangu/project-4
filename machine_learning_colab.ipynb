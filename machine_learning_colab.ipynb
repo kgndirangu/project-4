{
  "nbformat": 4,
  "nbformat_minor": 0,
  "metadata": {
    "colab": {
      "provenance": [],
      "include_colab_link": true
    },
    "kernelspec": {
      "name": "python3",
      "display_name": "Python 3"
    },
    "language_info": {
      "name": "python"
    }
  },
  "cells": [
    {
      "cell_type": "markdown",
      "metadata": {
        "id": "view-in-github",
        "colab_type": "text"
      },
      "source": [
        "<a href=\"https://colab.research.google.com/github/kgndirangu/project-4/blob/main/machine_learning_colab.ipynb\" target=\"_parent\"><img src=\"https://colab.research.google.com/assets/colab-badge.svg\" alt=\"Open In Colab\"/></a>"
      ]
    },
    {
      "cell_type": "code",
      "source": [
        "import os\n",
        "# Find the latest version of spark 3.x  from http://www.apache.org/dist/spark/ and enter as the spark version\n",
        "# For example:\n",
        "# spark_version = 'spark-3.4.0'\n",
        "spark_version = 'spark-3.5.1'\n",
        "os.environ['SPARK_VERSION']=spark_version\n",
        "\n",
        "# Install Spark and Java\n",
        "!apt-get update\n",
        "!apt-get install openjdk-11-jdk-headless -qq > /dev/null\n",
        "!wget -q http://www.apache.org/dist/spark/$SPARK_VERSION/$SPARK_VERSION-bin-hadoop3.tgz\n",
        "!tar xf $SPARK_VERSION-bin-hadoop3.tgz\n",
        "!pip install -q findspark\n",
        "\n",
        "# Set Environment Variables\n",
        "os.environ[\"JAVA_HOME\"] = \"/usr/lib/jvm/java-11-openjdk-amd64\"\n",
        "os.environ[\"SPARK_HOME\"] = f\"/content/{spark_version}-bin-hadoop3\"\n",
        "\n",
        "# Start a SparkSession\n",
        "import findspark\n",
        "findspark.init()"
      ],
      "metadata": {
        "colab": {
          "base_uri": "https://localhost:8080/"
        },
        "id": "EoiAj8nPG9qS",
        "outputId": "8d4f1ba4-c71e-4ff0-e6b4-fbc456034473"
      },
      "execution_count": null,
      "outputs": [
        {
          "output_type": "stream",
          "name": "stdout",
          "text": [
            "\r0% [Working]\r            \rGet:1 https://cloud.r-project.org/bin/linux/ubuntu jammy-cran40/ InRelease [3,626 B]\n",
            "\r0% [Connecting to archive.ubuntu.com (91.189.91.81)] [Waiting for headers] [1 InRelease 3,626 B/3,62\r0% [Connecting to archive.ubuntu.com (91.189.91.81)] [Waiting for headers] [Connecting to ppa.launch\r                                                                                                    \rGet:2 http://security.ubuntu.com/ubuntu jammy-security InRelease [110 kB]\n",
            "\r0% [Waiting for headers] [2 InRelease 14.2 kB/110 kB 13%] [Connecting to ppa.launchpadcontent.net (1\r                                                                                                    \rHit:3 https://developer.download.nvidia.com/compute/cuda/repos/ubuntu2204/x86_64  InRelease\n",
            "Hit:4 http://archive.ubuntu.com/ubuntu jammy InRelease\n",
            "Get:5 http://archive.ubuntu.com/ubuntu jammy-updates InRelease [119 kB]\n",
            "Hit:6 http://archive.ubuntu.com/ubuntu jammy-backports InRelease\n",
            "Hit:7 https://ppa.launchpadcontent.net/c2d4u.team/c2d4u4.0+/ubuntu jammy InRelease\n",
            "Get:8 http://security.ubuntu.com/ubuntu jammy-security/universe amd64 Packages [1,073 kB]\n",
            "Hit:9 https://ppa.launchpadcontent.net/deadsnakes/ppa/ubuntu jammy InRelease\n",
            "Get:10 http://archive.ubuntu.com/ubuntu jammy-updates/restricted amd64 Packages [1,927 kB]\n",
            "Get:11 http://security.ubuntu.com/ubuntu jammy-security/main amd64 Packages [1,514 kB]\n",
            "Get:12 https://ppa.launchpadcontent.net/graphics-drivers/ppa/ubuntu jammy InRelease [24.3 kB]\n",
            "Get:13 http://security.ubuntu.com/ubuntu jammy-security/multiverse amd64 Packages [44.6 kB]\n",
            "Get:14 http://security.ubuntu.com/ubuntu jammy-security/restricted amd64 Packages [1,889 kB]\n",
            "Hit:15 https://ppa.launchpadcontent.net/ubuntugis/ppa/ubuntu jammy InRelease\n",
            "Get:16 http://archive.ubuntu.com/ubuntu jammy-updates/main amd64 Packages [1,796 kB]\n",
            "Get:17 http://archive.ubuntu.com/ubuntu jammy-updates/universe amd64 Packages [1,345 kB]\n",
            "Get:18 https://ppa.launchpadcontent.net/graphics-drivers/ppa/ubuntu jammy/main amd64 Packages [44.7 kB]\n",
            "Fetched 9,891 kB in 2s (4,599 kB/s)\n",
            "Reading package lists... Done\n"
          ]
        }
      ]
    },
    {
      "cell_type": "code",
      "execution_count": null,
      "metadata": {
        "id": "ZupviursFZFn"
      },
      "outputs": [],
      "source": [
        "# Import Dependencies\n",
        "from sklearn.model_selection import train_test_split\n",
        "from sklearn.preprocessing import StandardScaler\n",
        "from sklearn.metrics import accuracy_score\n",
        "import pandas as pd\n",
        "import tensorflow as tf\n",
        "from pathlib import Path\n",
        "from sklearn.linear_model import LinearRegression\n",
        "import matplotlib.pyplot as plt\n",
        "import numpy as np\n",
        "from pyspark.sql import SparkSession\n",
        "from pyspark.sql import Row\n",
        "from pyspark.sql.types import StructType,StructField,StringType, DateType,IntegerType\n",
        "from pyspark import SparkFiles\n",
        "from pyspark.ml.feature import StringIndexer, OneHotEncoder\n",
        "from pyspark.ml import Pipeline\n",
        "from pyspark.sql.functions import col"
      ]
    },
    {
      "cell_type": "code",
      "source": [
        "# Create a SparkSession\n",
        "spark = SparkSession.builder.appName(\"SparkSQL\").getOrCreate()"
      ],
      "metadata": {
        "id": "UaKvRlXUG288"
      },
      "execution_count": null,
      "outputs": []
    },
    {
      "cell_type": "code",
      "source": [
        "# Read in data from S3 Buckets\n",
        "\n",
        "url = \"https://project4-ny-health-data-1.s3.amazonaws.com/inpatient_hospital_2.csv\"\n",
        "spark.sparkContext.addFile(url)\n",
        "df = spark.read.csv(SparkFiles.get(\"inpatient_hospital_2.csv\"), header=True, inferSchema=True, quote=\"\\\"\", escape=\"\\\"\")\n",
        "\n",
        "# Show Spark DataFrame\n",
        "df.show()"
      ],
      "metadata": {
        "id": "o9CkzX4XHk9O",
        "colab": {
          "base_uri": "https://localhost:8080/"
        },
        "outputId": "2d733424-2f93-4dc4-87cb-e672f0652b21"
      },
      "execution_count": null,
      "outputs": [
        {
          "output_type": "stream",
          "name": "stdout",
          "text": [
            "+-------------------+---------------+-----------+--------------------+---------+-------------------+------+-----+-----------------+--------------+-----------------+-------------------+------------------+-------------------------+------------------+-------------------------+------------+--------------------+------------+--------------------+----------------------------+-----------------------------------+---------------------+--------------------------------+-------------------+------------------------------+-------------+-----------+--------+-------------+--------+-------------+---------+-------------+-------+-------------+---------+-------------+--------+-------------+---------+--------------+---------+-------------+---------+-------------+\n",
            "|Health Service Area|Hospital County|Facility ID|       Facility Name|Age Group|Zip Code - 3 digits|Gender| Race|        Ethnicity|Length of Stay|Type of Admission|Patient Disposition|CCS Diagnosis Code|CCS Diagnosis Description|CCS Procedure Code|CCS Procedure Description|APR DRG Code| APR DRG Description|APR MDC Code| APR MDC Description|APR Severity of Illness Code|APR Severity of Illness Description|APR Risk of Mortality|APR Medical Surgical Description|Source of Payment 1|Emergency Department Indicator|Total Charges|Total Costs|AgeIndex|    catVecAge|SexIndex|    catVecSex|RaceIndex|   catVecRace|ERIndex|     catVecER|Pay1Index|   catVecPay1|AdmIndex|    catVecAdm|DispIndex|    catVecDisp|MortIndex|   catVecMort|SurgIndex|   catVecSurg|\n",
            "+-------------------+---------------+-----------+--------------------+---------+-------------------+------+-----+-----------------+--------------+-----------------+-------------------+------------------+-------------------------+------------------+-------------------------+------------+--------------------+------------+--------------------+----------------------------+-----------------------------------+---------------------+--------------------------------+-------------------+------------------------------+-------------+-----------+--------+-------------+--------+-------------+---------+-------------+-------+-------------+---------+-------------+--------+-------------+---------+--------------+---------+-------------+---------+-------------+\n",
            "|      New York City|      Manhattan|     1437.0|New York Downtown...|  0 to 17|                100|     M|White|Not Span/Hispanic|             2|          Newborn|  Home or Self Care|             218.0|                 LIVEBORN|             228.0|     PROPHYLACTIC VAC/...|         640|NEONATE BIRTHWT >...|          15|Newborns and Othe...|                           1|                              Minor|                Minor|                         Medical|         Blue Cross|                             N|      2468.95|    1423.82|     3.0|(4,[3],[1.0])|     1.0|(2,[1],[1.0])|      0.0|(3,[0],[1.0])|    0.0|(1,[0],[1.0])|      2.0|(9,[2],[1.0])|     2.0|(5,[2],[1.0])|      0.0|(17,[0],[1.0])|      0.0|(3,[0],[1.0])|      0.0|(1,[0],[1.0])|\n",
            "|      New York City|      Manhattan|     1437.0|New York Downtown...|  0 to 17|                100|     M|White|Not Span/Hispanic|             3|          Newborn|  Home or Self Care|             218.0|                 LIVEBORN|             228.0|     PROPHYLACTIC VAC/...|         640|NEONATE BIRTHWT >...|          15|Newborns and Othe...|                           1|                              Minor|                Minor|                         Medical|         Blue Cross|                             N|      6647.18|    3335.77|     3.0|(4,[3],[1.0])|     1.0|(2,[1],[1.0])|      0.0|(3,[0],[1.0])|    0.0|(1,[0],[1.0])|      2.0|(9,[2],[1.0])|     2.0|(5,[2],[1.0])|      0.0|(17,[0],[1.0])|      0.0|(3,[0],[1.0])|      0.0|(1,[0],[1.0])|\n",
            "|      New York City|      Manhattan|     1437.0|New York Downtown...|  0 to 17|                100|     M|White|Not Span/Hispanic|             2|          Newborn|  Home or Self Care|             218.0|                 LIVEBORN|             228.0|     PROPHYLACTIC VAC/...|         640|NEONATE BIRTHWT >...|          15|Newborns and Othe...|                           1|                              Minor|                Minor|                         Medical|  Insurance Company|                             N|      5702.18|     2712.7|     3.0|(4,[3],[1.0])|     1.0|(2,[1],[1.0])|      0.0|(3,[0],[1.0])|    0.0|(1,[0],[1.0])|      0.0|(9,[0],[1.0])|     2.0|(5,[2],[1.0])|      0.0|(17,[0],[1.0])|      0.0|(3,[0],[1.0])|      0.0|(1,[0],[1.0])|\n",
            "|      New York City|      Manhattan|     1437.0|New York Downtown...|  0 to 17|                100|     M|White|Not Span/Hispanic|             2|          Newborn|  Home or Self Care|             218.0|                 LIVEBORN|             228.0|     PROPHYLACTIC VAC/...|         640|NEONATE BIRTHWT >...|          15|Newborns and Othe...|                           1|                              Minor|                Minor|                         Medical|         Blue Cross|                             N|      2125.58|    1337.46|     3.0|(4,[3],[1.0])|     1.0|(2,[1],[1.0])|      0.0|(3,[0],[1.0])|    0.0|(1,[0],[1.0])|      2.0|(9,[2],[1.0])|     2.0|(5,[2],[1.0])|      0.0|(17,[0],[1.0])|      0.0|(3,[0],[1.0])|      0.0|(1,[0],[1.0])|\n",
            "|      New York City|      Manhattan|     1437.0|New York Downtown...|  0 to 17|                100|     M|White|Not Span/Hispanic|             3|          Newborn|  Home or Self Care|             218.0|                 LIVEBORN|             220.0|     OPHTHALM-/OT-OLOG...|         640|NEONATE BIRTHWT >...|          15|Newborns and Othe...|                           1|                              Minor|                Minor|                         Medical|         Blue Cross|                             N|      3050.58|    1952.85|     3.0|(4,[3],[1.0])|     1.0|(2,[1],[1.0])|      0.0|(3,[0],[1.0])|    0.0|(1,[0],[1.0])|      2.0|(9,[2],[1.0])|     2.0|(5,[2],[1.0])|      0.0|(17,[0],[1.0])|      0.0|(3,[0],[1.0])|      0.0|(1,[0],[1.0])|\n",
            "|      New York City|      Manhattan|     1437.0|New York Downtown...|  0 to 17|                100|     M|White|Not Span/Hispanic|             2|          Newborn|  Home or Self Care|             218.0|                 LIVEBORN|             220.0|     OPHTHALM-/OT-OLOG...|         640|NEONATE BIRTHWT >...|          15|Newborns and Othe...|                           1|                              Minor|                Minor|                         Medical|         Blue Cross|                             N|      2660.73|    1489.77|     3.0|(4,[3],[1.0])|     1.0|(2,[1],[1.0])|      0.0|(3,[0],[1.0])|    0.0|(1,[0],[1.0])|      2.0|(9,[2],[1.0])|     2.0|(5,[2],[1.0])|      0.0|(17,[0],[1.0])|      0.0|(3,[0],[1.0])|      0.0|(1,[0],[1.0])|\n",
            "|      New York City|      Manhattan|     1437.0|New York Downtown...|  0 to 17|                100|     M|White|Not Span/Hispanic|             3|          Newborn|  Home or Self Care|             218.0|                 LIVEBORN|             115.0|             CIRCUMCISION|         640|NEONATE BIRTHWT >...|          15|Newborns and Othe...|                           1|                              Minor|                Minor|                         Medical|         Blue Cross|                             N|      6973.59|    3409.57|     3.0|(4,[3],[1.0])|     1.0|(2,[1],[1.0])|      0.0|(3,[0],[1.0])|    0.0|(1,[0],[1.0])|      2.0|(9,[2],[1.0])|     2.0|(5,[2],[1.0])|      0.0|(17,[0],[1.0])|      0.0|(3,[0],[1.0])|      0.0|(1,[0],[1.0])|\n",
            "|      New York City|      Manhattan|     1437.0|New York Downtown...|  0 to 17|                100|     M|White|Not Span/Hispanic|             5|          Newborn|  Home or Self Care|             218.0|                 LIVEBORN|             231.0|     OTHER THERAPEUTIC...|         639|NEONATE BIRTHWT >...|          15|Newborns and Othe...|                           2|                           Moderate|                Minor|                         Medical|  Insurance Company|                             N|      7439.85|    3820.42|     3.0|(4,[3],[1.0])|     1.0|(2,[1],[1.0])|      0.0|(3,[0],[1.0])|    0.0|(1,[0],[1.0])|      0.0|(9,[0],[1.0])|     2.0|(5,[2],[1.0])|      0.0|(17,[0],[1.0])|      0.0|(3,[0],[1.0])|      0.0|(1,[0],[1.0])|\n",
            "|      New York City|      Manhattan|     1437.0|New York Downtown...|  0 to 17|                100|     M|White|Not Span/Hispanic|             2|          Newborn|  Home or Self Care|             218.0|                 LIVEBORN|             115.0|             CIRCUMCISION|         640|NEONATE BIRTHWT >...|          15|Newborns and Othe...|                           1|                              Minor|                Minor|                         Medical|  Insurance Company|                             N|      2436.07|    1405.81|     3.0|(4,[3],[1.0])|     1.0|(2,[1],[1.0])|      0.0|(3,[0],[1.0])|    0.0|(1,[0],[1.0])|      0.0|(9,[0],[1.0])|     2.0|(5,[2],[1.0])|      0.0|(17,[0],[1.0])|      0.0|(3,[0],[1.0])|      0.0|(1,[0],[1.0])|\n",
            "|      New York City|      Manhattan|     1437.0|New York Downtown...|  0 to 17|                100|     M|White|Not Span/Hispanic|             3|          Newborn|  Home or Self Care|             218.0|                 LIVEBORN|             231.0|     OTHER THERAPEUTIC...|         640|NEONATE BIRTHWT >...|          15|Newborns and Othe...|                           2|                           Moderate|                Minor|                         Medical|         Blue Cross|                             N|      5345.13|    3111.76|     3.0|(4,[3],[1.0])|     1.0|(2,[1],[1.0])|      0.0|(3,[0],[1.0])|    0.0|(1,[0],[1.0])|      2.0|(9,[2],[1.0])|     2.0|(5,[2],[1.0])|      0.0|(17,[0],[1.0])|      0.0|(3,[0],[1.0])|      0.0|(1,[0],[1.0])|\n",
            "|      New York City|      Manhattan|     1437.0|New York Downtown...|  0 to 17|                100|     M|White|Not Span/Hispanic|             2|          Newborn|  Home or Self Care|             218.0|                 LIVEBORN|             220.0|     OPHTHALM-/OT-OLOG...|         640|NEONATE BIRTHWT >...|          15|Newborns and Othe...|                           1|                              Minor|                Minor|                         Medical|  Insurance Company|                             N|      2330.24|    1413.74|     3.0|(4,[3],[1.0])|     1.0|(2,[1],[1.0])|      0.0|(3,[0],[1.0])|    0.0|(1,[0],[1.0])|      0.0|(9,[0],[1.0])|     2.0|(5,[2],[1.0])|      0.0|(17,[0],[1.0])|      0.0|(3,[0],[1.0])|      0.0|(1,[0],[1.0])|\n",
            "|      New York City|      Manhattan|     1437.0|New York Downtown...|  0 to 17|                100|     M|White|Not Span/Hispanic|             2|          Newborn|  Home or Self Care|             218.0|                 LIVEBORN|             228.0|     PROPHYLACTIC VAC/...|         640|NEONATE BIRTHWT >...|          15|Newborns and Othe...|                           1|                              Minor|                Minor|                         Medical|  Insurance Company|                             N|      2456.07|    1413.49|     3.0|(4,[3],[1.0])|     1.0|(2,[1],[1.0])|      0.0|(3,[0],[1.0])|    0.0|(1,[0],[1.0])|      0.0|(9,[0],[1.0])|     2.0|(5,[2],[1.0])|      0.0|(17,[0],[1.0])|      0.0|(3,[0],[1.0])|      0.0|(1,[0],[1.0])|\n",
            "|      New York City|      Manhattan|     1437.0|New York Downtown...|  0 to 17|                100|     M|White|Not Span/Hispanic|             2|          Newborn|  Home or Self Care|             218.0|                 LIVEBORN|             115.0|             CIRCUMCISION|         640|NEONATE BIRTHWT >...|          15|Newborns and Othe...|                           1|                              Minor|                Minor|                         Medical|  Insurance Company|                             N|       2157.2|    1353.39|     3.0|(4,[3],[1.0])|     1.0|(2,[1],[1.0])|      0.0|(3,[0],[1.0])|    0.0|(1,[0],[1.0])|      0.0|(9,[0],[1.0])|     2.0|(5,[2],[1.0])|      0.0|(17,[0],[1.0])|      0.0|(3,[0],[1.0])|      0.0|(1,[0],[1.0])|\n",
            "|      New York City|      Manhattan|     1437.0|New York Downtown...|  0 to 17|                100|     M|White|Not Span/Hispanic|             3|          Newborn|  Home or Self Care|             218.0|                 LIVEBORN|             228.0|     PROPHYLACTIC VAC/...|         640|NEONATE BIRTHWT >...|          15|Newborns and Othe...|                           1|                              Minor|                Minor|                         Medical|  Insurance Company|                             N|      3419.81|    2042.16|     3.0|(4,[3],[1.0])|     1.0|(2,[1],[1.0])|      0.0|(3,[0],[1.0])|    0.0|(1,[0],[1.0])|      0.0|(9,[0],[1.0])|     2.0|(5,[2],[1.0])|      0.0|(17,[0],[1.0])|      0.0|(3,[0],[1.0])|      0.0|(1,[0],[1.0])|\n",
            "|      New York City|      Manhattan|     1437.0|New York Downtown...|  0 to 17|                100|     M|White|Not Span/Hispanic|             3|          Newborn|  Home or Self Care|             218.0|                 LIVEBORN|             228.0|     PROPHYLACTIC VAC/...|         640|NEONATE BIRTHWT >...|          15|Newborns and Othe...|                           1|                              Minor|                Minor|                         Medical|  Insurance Company|                             N|      3490.58|    2057.15|     3.0|(4,[3],[1.0])|     1.0|(2,[1],[1.0])|      0.0|(3,[0],[1.0])|    0.0|(1,[0],[1.0])|      0.0|(9,[0],[1.0])|     2.0|(5,[2],[1.0])|      0.0|(17,[0],[1.0])|      0.0|(3,[0],[1.0])|      0.0|(1,[0],[1.0])|\n",
            "|      New York City|      Manhattan|     1437.0|New York Downtown...|  0 to 17|                100|     M|White|Not Span/Hispanic|             2|          Newborn|  Home or Self Care|             218.0|                 LIVEBORN|             115.0|             CIRCUMCISION|         640|NEONATE BIRTHWT >...|          15|Newborns and Othe...|                           1|                              Minor|                Minor|                         Medical|  Insurance Company|                             N|      5665.22|    2695.74|     3.0|(4,[3],[1.0])|     1.0|(2,[1],[1.0])|      0.0|(3,[0],[1.0])|    0.0|(1,[0],[1.0])|      0.0|(9,[0],[1.0])|     2.0|(5,[2],[1.0])|      0.0|(17,[0],[1.0])|      0.0|(3,[0],[1.0])|      0.0|(1,[0],[1.0])|\n",
            "|      New York City|      Manhattan|     1437.0|New York Downtown...|  0 to 17|                100|     M|White|Not Span/Hispanic|             2|          Newborn|  Home or Self Care|             218.0|                 LIVEBORN|             228.0|     PROPHYLACTIC VAC/...|         640|NEONATE BIRTHWT >...|          15|Newborns and Othe...|                           1|                              Minor|                Minor|                         Medical|  Insurance Company|                             N|      2350.24|    1424.69|     3.0|(4,[3],[1.0])|     1.0|(2,[1],[1.0])|      0.0|(3,[0],[1.0])|    0.0|(1,[0],[1.0])|      0.0|(9,[0],[1.0])|     2.0|(5,[2],[1.0])|      0.0|(17,[0],[1.0])|      0.0|(3,[0],[1.0])|      0.0|(1,[0],[1.0])|\n",
            "|      New York City|      Manhattan|     1437.0|New York Downtown...|  0 to 17|                100|     M|White|Not Span/Hispanic|             4|          Newborn|  Home or Self Care|             218.0|                 LIVEBORN|             231.0|     OTHER THERAPEUTIC...|         640|NEONATE BIRTHWT >...|          15|Newborns and Othe...|                           2|                           Moderate|                Minor|                         Medical|         Blue Cross|                             N|      4819.01|    2773.11|     3.0|(4,[3],[1.0])|     1.0|(2,[1],[1.0])|      0.0|(3,[0],[1.0])|    0.0|(1,[0],[1.0])|      2.0|(9,[2],[1.0])|     2.0|(5,[2],[1.0])|      0.0|(17,[0],[1.0])|      0.0|(3,[0],[1.0])|      0.0|(1,[0],[1.0])|\n",
            "|      New York City|      Manhattan|     1437.0|New York Downtown...|  0 to 17|                100|     M|White|Not Span/Hispanic|             2|          Newborn|  Home or Self Care|             218.0|                 LIVEBORN|             228.0|     PROPHYLACTIC VAC/...|         640|NEONATE BIRTHWT >...|          15|Newborns and Othe...|                           1|                              Minor|                Minor|                         Medical|  Insurance Company|                             N|      2105.58|    1329.78|     3.0|(4,[3],[1.0])|     1.0|(2,[1],[1.0])|      0.0|(3,[0],[1.0])|    0.0|(1,[0],[1.0])|      0.0|(9,[0],[1.0])|     2.0|(5,[2],[1.0])|      0.0|(17,[0],[1.0])|      0.0|(3,[0],[1.0])|      0.0|(1,[0],[1.0])|\n",
            "|      New York City|      Manhattan|     1437.0|New York Downtown...|  0 to 17|                100|     M|White|Not Span/Hispanic|            19|          Newborn|  Home or Self Care|             218.0|                 LIVEBORN|             216.0|     RESP INTUB/MECH V...|         622|NEONATE BWT 2000-...|          15|Newborns and Othe...|                           2|                           Moderate|                Minor|                         Medical|  Insurance Company|                             Y|     48657.02|   18988.02|     3.0|(4,[3],[1.0])|     1.0|(2,[1],[1.0])|      0.0|(3,[0],[1.0])|    1.0|    (1,[],[])|      0.0|(9,[0],[1.0])|     2.0|(5,[2],[1.0])|      0.0|(17,[0],[1.0])|      0.0|(3,[0],[1.0])|      0.0|(1,[0],[1.0])|\n",
            "+-------------------+---------------+-----------+--------------------+---------+-------------------+------+-----+-----------------+--------------+-----------------+-------------------+------------------+-------------------------+------------------+-------------------------+------------+--------------------+------------+--------------------+----------------------------+-----------------------------------+---------------------+--------------------------------+-------------------+------------------------------+-------------+-----------+--------+-------------+--------+-------------+---------+-------------+-------+-------------+---------+-------------+--------+-------------+---------+--------------+---------+-------------+---------+-------------+\n",
            "only showing top 20 rows\n",
            "\n"
          ]
        }
      ]
    },
    {
      "cell_type": "code",
      "source": [
        "df.dtypes"
      ],
      "metadata": {
        "id": "pV7OGrvWRHT1",
        "colab": {
          "base_uri": "https://localhost:8080/"
        },
        "outputId": "d8314da1-f2cd-435e-c405-5e4189f6a285"
      },
      "execution_count": null,
      "outputs": [
        {
          "output_type": "execute_result",
          "data": {
            "text/plain": [
              "[('Health Service Area', 'string'),\n",
              " ('Hospital County', 'string'),\n",
              " ('Facility ID', 'double'),\n",
              " ('Facility Name', 'string'),\n",
              " ('Age Group', 'string'),\n",
              " ('Zip Code - 3 digits', 'string'),\n",
              " ('Gender', 'string'),\n",
              " ('Race', 'string'),\n",
              " ('Ethnicity', 'string'),\n",
              " ('Length of Stay', 'string'),\n",
              " ('Type of Admission', 'string'),\n",
              " ('Patient Disposition', 'string'),\n",
              " ('CCS Diagnosis Code', 'double'),\n",
              " ('CCS Diagnosis Description', 'string'),\n",
              " ('CCS Procedure Code', 'double'),\n",
              " ('CCS Procedure Description', 'string'),\n",
              " ('APR DRG Code', 'int'),\n",
              " ('APR DRG Description', 'string'),\n",
              " ('APR MDC Code', 'int'),\n",
              " ('APR MDC Description', 'string'),\n",
              " ('APR Severity of Illness Code', 'int'),\n",
              " ('APR Severity of Illness Description', 'string'),\n",
              " ('APR Risk of Mortality', 'string'),\n",
              " ('APR Medical Surgical Description', 'string'),\n",
              " ('Source of Payment 1', 'string'),\n",
              " ('Emergency Department Indicator', 'string'),\n",
              " ('Total Charges', 'double'),\n",
              " ('Total Costs', 'double'),\n",
              " ('AgeIndex', 'double'),\n",
              " ('catVecAge', 'string'),\n",
              " ('SexIndex', 'double'),\n",
              " ('catVecSex', 'string'),\n",
              " ('RaceIndex', 'double'),\n",
              " ('catVecRace', 'string'),\n",
              " ('ERIndex', 'double'),\n",
              " ('catVecER', 'string'),\n",
              " ('Pay1Index', 'double'),\n",
              " ('catVecPay1', 'string'),\n",
              " ('AdmIndex', 'double'),\n",
              " ('catVecAdm', 'string'),\n",
              " ('DispIndex', 'double'),\n",
              " ('catVecDisp', 'string'),\n",
              " ('MortIndex', 'double'),\n",
              " ('catVecMort', 'string'),\n",
              " ('SurgIndex', 'double'),\n",
              " ('catVecSurg', 'string')]"
            ]
          },
          "metadata": {},
          "execution_count": 5
        }
      ]
    },
    {
      "cell_type": "code",
      "source": [
        "clean_df = df.drop(\"Health Service Area\",\t\"Hospital County\", \"Facility Name\",\t\"Age Group\", \"Gender\", \"Race\",\t\"Ethnicity\", \"Type of Admission\",\t\"Patient Disposition\", \"CCS Diagnosis Description\", \"CCS Procedure Description\",\"APR DRG Description\", \"APR MDC Description\", 'APR Severity of Illness Description', 'APR Risk of Mortality', 'APR Medical Surgical Description','Source of Payment 1',\"Zip Code - 3 digits\", 'Emergency Department Indicator')"
      ],
      "metadata": {
        "id": "zNQ0OvwzPmCW"
      },
      "execution_count": null,
      "outputs": []
    },
    {
      "cell_type": "code",
      "source": [
        "clean_df.head()"
      ],
      "metadata": {
        "id": "0iIBQriaExEn",
        "colab": {
          "base_uri": "https://localhost:8080/"
        },
        "outputId": "b81661ff-8570-4456-fd85-f1a80f739828"
      },
      "execution_count": null,
      "outputs": [
        {
          "output_type": "execute_result",
          "data": {
            "text/plain": [
              "Row(Facility ID=1437.0, Length of Stay='2', CCS Diagnosis Code=218.0, CCS Procedure Code=228.0, APR DRG Code=640, APR MDC Code=15, APR Severity of Illness Code=1, Total Charges=2468.95, Total Costs=1423.82, AgeIndex=3.0, catVecAge='(4,[3],[1.0])', SexIndex=1.0, catVecSex='(2,[1],[1.0])', RaceIndex=0.0, catVecRace='(3,[0],[1.0])', ERIndex=0.0, catVecER='(1,[0],[1.0])', Pay1Index=2.0, catVecPay1='(9,[2],[1.0])', AdmIndex=2.0, catVecAdm='(5,[2],[1.0])', DispIndex=0.0, catVecDisp='(17,[0],[1.0])', MortIndex=0.0, catVecMort='(3,[0],[1.0])', SurgIndex=0.0, catVecSurg='(1,[0],[1.0])')"
            ]
          },
          "metadata": {},
          "execution_count": 6
        }
      ]
    },
    {
      "cell_type": "code",
      "source": [
        "clean_df.withColumn(\"Length of Stay\",col(\"Length of Stay\").cast(\"int\"))"
      ],
      "metadata": {
        "id": "tuuob2TFTUp-",
        "colab": {
          "base_uri": "https://localhost:8080/"
        },
        "outputId": "c3a33ba7-5562-44e5-ea96-300f79fcd2ae"
      },
      "execution_count": null,
      "outputs": [
        {
          "output_type": "execute_result",
          "data": {
            "text/plain": [
              "DataFrame[Facility ID: double, Length of Stay: int, CCS Diagnosis Code: double, CCS Procedure Code: double, APR DRG Code: int, APR MDC Code: int, APR Severity of Illness Code: int, Total Charges: double, Total Costs: double, AgeIndex: double, catVecAge: string, SexIndex: double, catVecSex: string, RaceIndex: double, catVecRace: string, ERIndex: double, catVecER: string, Pay1Index: double, catVecPay1: string, AdmIndex: double, catVecAdm: string, DispIndex: double, catVecDisp: string, MortIndex: double, catVecMort: string, SurgIndex: double, catVecSurg: string]"
            ]
          },
          "metadata": {},
          "execution_count": 7
        }
      ]
    },
    {
      "cell_type": "code",
      "source": [
        "clean_df2 = clean_df.drop(\"catVecAge\", \"catVecSex\", \"catVecRace\", \"catVecER\", \"catVecPay1\", \"catVecAdm\",\"catVecDisp\",\"catVecMort\", \"catVecSurg\")"
      ],
      "metadata": {
        "id": "X7q7Yhk9T0t6"
      },
      "execution_count": null,
      "outputs": []
    },
    {
      "cell_type": "code",
      "source": [
        "pandas_df = clean_df2.toPandas()"
      ],
      "metadata": {
        "id": "0FN0VAU4LvD3"
      },
      "execution_count": null,
      "outputs": []
    },
    {
      "cell_type": "code",
      "source": [
        "pandas_df"
      ],
      "metadata": {
        "id": "L4KwDXnfMF4v",
        "colab": {
          "base_uri": "https://localhost:8080/",
          "height": 513
        },
        "outputId": "df199556-52c4-48f5-9854-92f696dc2c94"
      },
      "execution_count": null,
      "outputs": [
        {
          "output_type": "execute_result",
          "data": {
            "text/plain": [
              "        Facility ID Length of Stay  CCS Diagnosis Code  CCS Procedure Code  \\\n",
              "0            1437.0              2               218.0               228.0   \n",
              "1            1437.0              3               218.0               228.0   \n",
              "2            1437.0              2               218.0               228.0   \n",
              "3            1437.0              2               218.0               228.0   \n",
              "4            1437.0              3               218.0               220.0   \n",
              "...             ...            ...                 ...                 ...   \n",
              "443897       3975.0              5               245.0               203.0   \n",
              "443898       3975.0             25                99.0               177.0   \n",
              "443899       3975.0              6                14.0                78.0   \n",
              "443900       3975.0              3                96.0               193.0   \n",
              "443901       3975.0             22               157.0               103.0   \n",
              "\n",
              "        APR DRG Code  APR MDC Code  APR Severity of Illness Code  \\\n",
              "0                640            15                             1   \n",
              "1                640            15                             1   \n",
              "2                640            15                             1   \n",
              "3                640            15                             1   \n",
              "4                640            15                             1   \n",
              "...              ...           ...                           ...   \n",
              "443897           204             5                             2   \n",
              "443898           468            11                             2   \n",
              "443899           221             6                             2   \n",
              "443900           200             5                             3   \n",
              "443901           443            11                             4   \n",
              "\n",
              "        Total Charges  Total Costs  AgeIndex  SexIndex  RaceIndex  ERIndex  \\\n",
              "0             2468.95      1423.82       3.0       1.0        0.0      0.0   \n",
              "1             6647.18      3335.77       3.0       1.0        0.0      0.0   \n",
              "2             5702.18      2712.70       3.0       1.0        0.0      0.0   \n",
              "3             2125.58      1337.46       3.0       1.0        0.0      0.0   \n",
              "4             3050.58      1952.85       3.0       1.0        0.0      0.0   \n",
              "...               ...          ...       ...       ...        ...      ...   \n",
              "443897       36663.34     12249.99       2.0       0.0        2.0      0.0   \n",
              "443898      156389.24     59015.68       2.0       0.0        2.0      0.0   \n",
              "443899       53022.38     19448.05       2.0       0.0        1.0      0.0   \n",
              "443900       18968.74      6874.04       2.0       0.0        1.0      0.0   \n",
              "443901      168386.93     60102.27       2.0       0.0        1.0      1.0   \n",
              "\n",
              "        Pay1Index  AdmIndex  DispIndex  MortIndex  SurgIndex  \n",
              "0             2.0       2.0        0.0        0.0        0.0  \n",
              "1             2.0       2.0        0.0        0.0        0.0  \n",
              "2             0.0       2.0        0.0        0.0        0.0  \n",
              "3             2.0       2.0        0.0        0.0        0.0  \n",
              "4             2.0       2.0        0.0        0.0        0.0  \n",
              "...           ...       ...        ...        ...        ...  \n",
              "443897        1.0       0.0        2.0        1.0        0.0  \n",
              "443898        1.0       0.0        2.0        1.0        0.0  \n",
              "443899        1.0       1.0        1.0        0.0        1.0  \n",
              "443900        4.0       0.0        0.0        2.0        0.0  \n",
              "443901        1.0       0.0        2.0        2.0        1.0  \n",
              "\n",
              "[443902 rows x 18 columns]"
            ],
            "text/html": [
              "\n",
              "  <div id=\"df-81786f6a-3178-4401-9b4b-90c4bf80cb23\" class=\"colab-df-container\">\n",
              "    <div>\n",
              "<style scoped>\n",
              "    .dataframe tbody tr th:only-of-type {\n",
              "        vertical-align: middle;\n",
              "    }\n",
              "\n",
              "    .dataframe tbody tr th {\n",
              "        vertical-align: top;\n",
              "    }\n",
              "\n",
              "    .dataframe thead th {\n",
              "        text-align: right;\n",
              "    }\n",
              "</style>\n",
              "<table border=\"1\" class=\"dataframe\">\n",
              "  <thead>\n",
              "    <tr style=\"text-align: right;\">\n",
              "      <th></th>\n",
              "      <th>Facility ID</th>\n",
              "      <th>Length of Stay</th>\n",
              "      <th>CCS Diagnosis Code</th>\n",
              "      <th>CCS Procedure Code</th>\n",
              "      <th>APR DRG Code</th>\n",
              "      <th>APR MDC Code</th>\n",
              "      <th>APR Severity of Illness Code</th>\n",
              "      <th>Total Charges</th>\n",
              "      <th>Total Costs</th>\n",
              "      <th>AgeIndex</th>\n",
              "      <th>SexIndex</th>\n",
              "      <th>RaceIndex</th>\n",
              "      <th>ERIndex</th>\n",
              "      <th>Pay1Index</th>\n",
              "      <th>AdmIndex</th>\n",
              "      <th>DispIndex</th>\n",
              "      <th>MortIndex</th>\n",
              "      <th>SurgIndex</th>\n",
              "    </tr>\n",
              "  </thead>\n",
              "  <tbody>\n",
              "    <tr>\n",
              "      <th>0</th>\n",
              "      <td>1437.0</td>\n",
              "      <td>2</td>\n",
              "      <td>218.0</td>\n",
              "      <td>228.0</td>\n",
              "      <td>640</td>\n",
              "      <td>15</td>\n",
              "      <td>1</td>\n",
              "      <td>2468.95</td>\n",
              "      <td>1423.82</td>\n",
              "      <td>3.0</td>\n",
              "      <td>1.0</td>\n",
              "      <td>0.0</td>\n",
              "      <td>0.0</td>\n",
              "      <td>2.0</td>\n",
              "      <td>2.0</td>\n",
              "      <td>0.0</td>\n",
              "      <td>0.0</td>\n",
              "      <td>0.0</td>\n",
              "    </tr>\n",
              "    <tr>\n",
              "      <th>1</th>\n",
              "      <td>1437.0</td>\n",
              "      <td>3</td>\n",
              "      <td>218.0</td>\n",
              "      <td>228.0</td>\n",
              "      <td>640</td>\n",
              "      <td>15</td>\n",
              "      <td>1</td>\n",
              "      <td>6647.18</td>\n",
              "      <td>3335.77</td>\n",
              "      <td>3.0</td>\n",
              "      <td>1.0</td>\n",
              "      <td>0.0</td>\n",
              "      <td>0.0</td>\n",
              "      <td>2.0</td>\n",
              "      <td>2.0</td>\n",
              "      <td>0.0</td>\n",
              "      <td>0.0</td>\n",
              "      <td>0.0</td>\n",
              "    </tr>\n",
              "    <tr>\n",
              "      <th>2</th>\n",
              "      <td>1437.0</td>\n",
              "      <td>2</td>\n",
              "      <td>218.0</td>\n",
              "      <td>228.0</td>\n",
              "      <td>640</td>\n",
              "      <td>15</td>\n",
              "      <td>1</td>\n",
              "      <td>5702.18</td>\n",
              "      <td>2712.70</td>\n",
              "      <td>3.0</td>\n",
              "      <td>1.0</td>\n",
              "      <td>0.0</td>\n",
              "      <td>0.0</td>\n",
              "      <td>0.0</td>\n",
              "      <td>2.0</td>\n",
              "      <td>0.0</td>\n",
              "      <td>0.0</td>\n",
              "      <td>0.0</td>\n",
              "    </tr>\n",
              "    <tr>\n",
              "      <th>3</th>\n",
              "      <td>1437.0</td>\n",
              "      <td>2</td>\n",
              "      <td>218.0</td>\n",
              "      <td>228.0</td>\n",
              "      <td>640</td>\n",
              "      <td>15</td>\n",
              "      <td>1</td>\n",
              "      <td>2125.58</td>\n",
              "      <td>1337.46</td>\n",
              "      <td>3.0</td>\n",
              "      <td>1.0</td>\n",
              "      <td>0.0</td>\n",
              "      <td>0.0</td>\n",
              "      <td>2.0</td>\n",
              "      <td>2.0</td>\n",
              "      <td>0.0</td>\n",
              "      <td>0.0</td>\n",
              "      <td>0.0</td>\n",
              "    </tr>\n",
              "    <tr>\n",
              "      <th>4</th>\n",
              "      <td>1437.0</td>\n",
              "      <td>3</td>\n",
              "      <td>218.0</td>\n",
              "      <td>220.0</td>\n",
              "      <td>640</td>\n",
              "      <td>15</td>\n",
              "      <td>1</td>\n",
              "      <td>3050.58</td>\n",
              "      <td>1952.85</td>\n",
              "      <td>3.0</td>\n",
              "      <td>1.0</td>\n",
              "      <td>0.0</td>\n",
              "      <td>0.0</td>\n",
              "      <td>2.0</td>\n",
              "      <td>2.0</td>\n",
              "      <td>0.0</td>\n",
              "      <td>0.0</td>\n",
              "      <td>0.0</td>\n",
              "    </tr>\n",
              "    <tr>\n",
              "      <th>...</th>\n",
              "      <td>...</td>\n",
              "      <td>...</td>\n",
              "      <td>...</td>\n",
              "      <td>...</td>\n",
              "      <td>...</td>\n",
              "      <td>...</td>\n",
              "      <td>...</td>\n",
              "      <td>...</td>\n",
              "      <td>...</td>\n",
              "      <td>...</td>\n",
              "      <td>...</td>\n",
              "      <td>...</td>\n",
              "      <td>...</td>\n",
              "      <td>...</td>\n",
              "      <td>...</td>\n",
              "      <td>...</td>\n",
              "      <td>...</td>\n",
              "      <td>...</td>\n",
              "    </tr>\n",
              "    <tr>\n",
              "      <th>443897</th>\n",
              "      <td>3975.0</td>\n",
              "      <td>5</td>\n",
              "      <td>245.0</td>\n",
              "      <td>203.0</td>\n",
              "      <td>204</td>\n",
              "      <td>5</td>\n",
              "      <td>2</td>\n",
              "      <td>36663.34</td>\n",
              "      <td>12249.99</td>\n",
              "      <td>2.0</td>\n",
              "      <td>0.0</td>\n",
              "      <td>2.0</td>\n",
              "      <td>0.0</td>\n",
              "      <td>1.0</td>\n",
              "      <td>0.0</td>\n",
              "      <td>2.0</td>\n",
              "      <td>1.0</td>\n",
              "      <td>0.0</td>\n",
              "    </tr>\n",
              "    <tr>\n",
              "      <th>443898</th>\n",
              "      <td>3975.0</td>\n",
              "      <td>25</td>\n",
              "      <td>99.0</td>\n",
              "      <td>177.0</td>\n",
              "      <td>468</td>\n",
              "      <td>11</td>\n",
              "      <td>2</td>\n",
              "      <td>156389.24</td>\n",
              "      <td>59015.68</td>\n",
              "      <td>2.0</td>\n",
              "      <td>0.0</td>\n",
              "      <td>2.0</td>\n",
              "      <td>0.0</td>\n",
              "      <td>1.0</td>\n",
              "      <td>0.0</td>\n",
              "      <td>2.0</td>\n",
              "      <td>1.0</td>\n",
              "      <td>0.0</td>\n",
              "    </tr>\n",
              "    <tr>\n",
              "      <th>443899</th>\n",
              "      <td>3975.0</td>\n",
              "      <td>6</td>\n",
              "      <td>14.0</td>\n",
              "      <td>78.0</td>\n",
              "      <td>221</td>\n",
              "      <td>6</td>\n",
              "      <td>2</td>\n",
              "      <td>53022.38</td>\n",
              "      <td>19448.05</td>\n",
              "      <td>2.0</td>\n",
              "      <td>0.0</td>\n",
              "      <td>1.0</td>\n",
              "      <td>0.0</td>\n",
              "      <td>1.0</td>\n",
              "      <td>1.0</td>\n",
              "      <td>1.0</td>\n",
              "      <td>0.0</td>\n",
              "      <td>1.0</td>\n",
              "    </tr>\n",
              "    <tr>\n",
              "      <th>443900</th>\n",
              "      <td>3975.0</td>\n",
              "      <td>3</td>\n",
              "      <td>96.0</td>\n",
              "      <td>193.0</td>\n",
              "      <td>200</td>\n",
              "      <td>5</td>\n",
              "      <td>3</td>\n",
              "      <td>18968.74</td>\n",
              "      <td>6874.04</td>\n",
              "      <td>2.0</td>\n",
              "      <td>0.0</td>\n",
              "      <td>1.0</td>\n",
              "      <td>0.0</td>\n",
              "      <td>4.0</td>\n",
              "      <td>0.0</td>\n",
              "      <td>0.0</td>\n",
              "      <td>2.0</td>\n",
              "      <td>0.0</td>\n",
              "    </tr>\n",
              "    <tr>\n",
              "      <th>443901</th>\n",
              "      <td>3975.0</td>\n",
              "      <td>22</td>\n",
              "      <td>157.0</td>\n",
              "      <td>103.0</td>\n",
              "      <td>443</td>\n",
              "      <td>11</td>\n",
              "      <td>4</td>\n",
              "      <td>168386.93</td>\n",
              "      <td>60102.27</td>\n",
              "      <td>2.0</td>\n",
              "      <td>0.0</td>\n",
              "      <td>1.0</td>\n",
              "      <td>1.0</td>\n",
              "      <td>1.0</td>\n",
              "      <td>0.0</td>\n",
              "      <td>2.0</td>\n",
              "      <td>2.0</td>\n",
              "      <td>1.0</td>\n",
              "    </tr>\n",
              "  </tbody>\n",
              "</table>\n",
              "<p>443902 rows × 18 columns</p>\n",
              "</div>\n",
              "    <div class=\"colab-df-buttons\">\n",
              "\n",
              "  <div class=\"colab-df-container\">\n",
              "    <button class=\"colab-df-convert\" onclick=\"convertToInteractive('df-81786f6a-3178-4401-9b4b-90c4bf80cb23')\"\n",
              "            title=\"Convert this dataframe to an interactive table.\"\n",
              "            style=\"display:none;\">\n",
              "\n",
              "  <svg xmlns=\"http://www.w3.org/2000/svg\" height=\"24px\" viewBox=\"0 -960 960 960\">\n",
              "    <path d=\"M120-120v-720h720v720H120Zm60-500h600v-160H180v160Zm220 220h160v-160H400v160Zm0 220h160v-160H400v160ZM180-400h160v-160H180v160Zm440 0h160v-160H620v160ZM180-180h160v-160H180v160Zm440 0h160v-160H620v160Z\"/>\n",
              "  </svg>\n",
              "    </button>\n",
              "\n",
              "  <style>\n",
              "    .colab-df-container {\n",
              "      display:flex;\n",
              "      gap: 12px;\n",
              "    }\n",
              "\n",
              "    .colab-df-convert {\n",
              "      background-color: #E8F0FE;\n",
              "      border: none;\n",
              "      border-radius: 50%;\n",
              "      cursor: pointer;\n",
              "      display: none;\n",
              "      fill: #1967D2;\n",
              "      height: 32px;\n",
              "      padding: 0 0 0 0;\n",
              "      width: 32px;\n",
              "    }\n",
              "\n",
              "    .colab-df-convert:hover {\n",
              "      background-color: #E2EBFA;\n",
              "      box-shadow: 0px 1px 2px rgba(60, 64, 67, 0.3), 0px 1px 3px 1px rgba(60, 64, 67, 0.15);\n",
              "      fill: #174EA6;\n",
              "    }\n",
              "\n",
              "    .colab-df-buttons div {\n",
              "      margin-bottom: 4px;\n",
              "    }\n",
              "\n",
              "    [theme=dark] .colab-df-convert {\n",
              "      background-color: #3B4455;\n",
              "      fill: #D2E3FC;\n",
              "    }\n",
              "\n",
              "    [theme=dark] .colab-df-convert:hover {\n",
              "      background-color: #434B5C;\n",
              "      box-shadow: 0px 1px 3px 1px rgba(0, 0, 0, 0.15);\n",
              "      filter: drop-shadow(0px 1px 2px rgba(0, 0, 0, 0.3));\n",
              "      fill: #FFFFFF;\n",
              "    }\n",
              "  </style>\n",
              "\n",
              "    <script>\n",
              "      const buttonEl =\n",
              "        document.querySelector('#df-81786f6a-3178-4401-9b4b-90c4bf80cb23 button.colab-df-convert');\n",
              "      buttonEl.style.display =\n",
              "        google.colab.kernel.accessAllowed ? 'block' : 'none';\n",
              "\n",
              "      async function convertToInteractive(key) {\n",
              "        const element = document.querySelector('#df-81786f6a-3178-4401-9b4b-90c4bf80cb23');\n",
              "        const dataTable =\n",
              "          await google.colab.kernel.invokeFunction('convertToInteractive',\n",
              "                                                    [key], {});\n",
              "        if (!dataTable) return;\n",
              "\n",
              "        const docLinkHtml = 'Like what you see? Visit the ' +\n",
              "          '<a target=\"_blank\" href=https://colab.research.google.com/notebooks/data_table.ipynb>data table notebook</a>'\n",
              "          + ' to learn more about interactive tables.';\n",
              "        element.innerHTML = '';\n",
              "        dataTable['output_type'] = 'display_data';\n",
              "        await google.colab.output.renderOutput(dataTable, element);\n",
              "        const docLink = document.createElement('div');\n",
              "        docLink.innerHTML = docLinkHtml;\n",
              "        element.appendChild(docLink);\n",
              "      }\n",
              "    </script>\n",
              "  </div>\n",
              "\n",
              "\n",
              "<div id=\"df-63386c0c-3fe5-4afe-bb13-95635d4f07c7\">\n",
              "  <button class=\"colab-df-quickchart\" onclick=\"quickchart('df-63386c0c-3fe5-4afe-bb13-95635d4f07c7')\"\n",
              "            title=\"Suggest charts\"\n",
              "            style=\"display:none;\">\n",
              "\n",
              "<svg xmlns=\"http://www.w3.org/2000/svg\" height=\"24px\"viewBox=\"0 0 24 24\"\n",
              "     width=\"24px\">\n",
              "    <g>\n",
              "        <path d=\"M19 3H5c-1.1 0-2 .9-2 2v14c0 1.1.9 2 2 2h14c1.1 0 2-.9 2-2V5c0-1.1-.9-2-2-2zM9 17H7v-7h2v7zm4 0h-2V7h2v10zm4 0h-2v-4h2v4z\"/>\n",
              "    </g>\n",
              "</svg>\n",
              "  </button>\n",
              "\n",
              "<style>\n",
              "  .colab-df-quickchart {\n",
              "      --bg-color: #E8F0FE;\n",
              "      --fill-color: #1967D2;\n",
              "      --hover-bg-color: #E2EBFA;\n",
              "      --hover-fill-color: #174EA6;\n",
              "      --disabled-fill-color: #AAA;\n",
              "      --disabled-bg-color: #DDD;\n",
              "  }\n",
              "\n",
              "  [theme=dark] .colab-df-quickchart {\n",
              "      --bg-color: #3B4455;\n",
              "      --fill-color: #D2E3FC;\n",
              "      --hover-bg-color: #434B5C;\n",
              "      --hover-fill-color: #FFFFFF;\n",
              "      --disabled-bg-color: #3B4455;\n",
              "      --disabled-fill-color: #666;\n",
              "  }\n",
              "\n",
              "  .colab-df-quickchart {\n",
              "    background-color: var(--bg-color);\n",
              "    border: none;\n",
              "    border-radius: 50%;\n",
              "    cursor: pointer;\n",
              "    display: none;\n",
              "    fill: var(--fill-color);\n",
              "    height: 32px;\n",
              "    padding: 0;\n",
              "    width: 32px;\n",
              "  }\n",
              "\n",
              "  .colab-df-quickchart:hover {\n",
              "    background-color: var(--hover-bg-color);\n",
              "    box-shadow: 0 1px 2px rgba(60, 64, 67, 0.3), 0 1px 3px 1px rgba(60, 64, 67, 0.15);\n",
              "    fill: var(--button-hover-fill-color);\n",
              "  }\n",
              "\n",
              "  .colab-df-quickchart-complete:disabled,\n",
              "  .colab-df-quickchart-complete:disabled:hover {\n",
              "    background-color: var(--disabled-bg-color);\n",
              "    fill: var(--disabled-fill-color);\n",
              "    box-shadow: none;\n",
              "  }\n",
              "\n",
              "  .colab-df-spinner {\n",
              "    border: 2px solid var(--fill-color);\n",
              "    border-color: transparent;\n",
              "    border-bottom-color: var(--fill-color);\n",
              "    animation:\n",
              "      spin 1s steps(1) infinite;\n",
              "  }\n",
              "\n",
              "  @keyframes spin {\n",
              "    0% {\n",
              "      border-color: transparent;\n",
              "      border-bottom-color: var(--fill-color);\n",
              "      border-left-color: var(--fill-color);\n",
              "    }\n",
              "    20% {\n",
              "      border-color: transparent;\n",
              "      border-left-color: var(--fill-color);\n",
              "      border-top-color: var(--fill-color);\n",
              "    }\n",
              "    30% {\n",
              "      border-color: transparent;\n",
              "      border-left-color: var(--fill-color);\n",
              "      border-top-color: var(--fill-color);\n",
              "      border-right-color: var(--fill-color);\n",
              "    }\n",
              "    40% {\n",
              "      border-color: transparent;\n",
              "      border-right-color: var(--fill-color);\n",
              "      border-top-color: var(--fill-color);\n",
              "    }\n",
              "    60% {\n",
              "      border-color: transparent;\n",
              "      border-right-color: var(--fill-color);\n",
              "    }\n",
              "    80% {\n",
              "      border-color: transparent;\n",
              "      border-right-color: var(--fill-color);\n",
              "      border-bottom-color: var(--fill-color);\n",
              "    }\n",
              "    90% {\n",
              "      border-color: transparent;\n",
              "      border-bottom-color: var(--fill-color);\n",
              "    }\n",
              "  }\n",
              "</style>\n",
              "\n",
              "  <script>\n",
              "    async function quickchart(key) {\n",
              "      const quickchartButtonEl =\n",
              "        document.querySelector('#' + key + ' button');\n",
              "      quickchartButtonEl.disabled = true;  // To prevent multiple clicks.\n",
              "      quickchartButtonEl.classList.add('colab-df-spinner');\n",
              "      try {\n",
              "        const charts = await google.colab.kernel.invokeFunction(\n",
              "            'suggestCharts', [key], {});\n",
              "      } catch (error) {\n",
              "        console.error('Error during call to suggestCharts:', error);\n",
              "      }\n",
              "      quickchartButtonEl.classList.remove('colab-df-spinner');\n",
              "      quickchartButtonEl.classList.add('colab-df-quickchart-complete');\n",
              "    }\n",
              "    (() => {\n",
              "      let quickchartButtonEl =\n",
              "        document.querySelector('#df-63386c0c-3fe5-4afe-bb13-95635d4f07c7 button');\n",
              "      quickchartButtonEl.style.display =\n",
              "        google.colab.kernel.accessAllowed ? 'block' : 'none';\n",
              "    })();\n",
              "  </script>\n",
              "</div>\n",
              "\n",
              "  <div id=\"id_99981742-05c8-4900-a42e-a1dfb9db14fa\">\n",
              "    <style>\n",
              "      .colab-df-generate {\n",
              "        background-color: #E8F0FE;\n",
              "        border: none;\n",
              "        border-radius: 50%;\n",
              "        cursor: pointer;\n",
              "        display: none;\n",
              "        fill: #1967D2;\n",
              "        height: 32px;\n",
              "        padding: 0 0 0 0;\n",
              "        width: 32px;\n",
              "      }\n",
              "\n",
              "      .colab-df-generate:hover {\n",
              "        background-color: #E2EBFA;\n",
              "        box-shadow: 0px 1px 2px rgba(60, 64, 67, 0.3), 0px 1px 3px 1px rgba(60, 64, 67, 0.15);\n",
              "        fill: #174EA6;\n",
              "      }\n",
              "\n",
              "      [theme=dark] .colab-df-generate {\n",
              "        background-color: #3B4455;\n",
              "        fill: #D2E3FC;\n",
              "      }\n",
              "\n",
              "      [theme=dark] .colab-df-generate:hover {\n",
              "        background-color: #434B5C;\n",
              "        box-shadow: 0px 1px 3px 1px rgba(0, 0, 0, 0.15);\n",
              "        filter: drop-shadow(0px 1px 2px rgba(0, 0, 0, 0.3));\n",
              "        fill: #FFFFFF;\n",
              "      }\n",
              "    </style>\n",
              "    <button class=\"colab-df-generate\" onclick=\"generateWithVariable('pandas_df')\"\n",
              "            title=\"Generate code using this dataframe.\"\n",
              "            style=\"display:none;\">\n",
              "\n",
              "  <svg xmlns=\"http://www.w3.org/2000/svg\" height=\"24px\"viewBox=\"0 0 24 24\"\n",
              "       width=\"24px\">\n",
              "    <path d=\"M7,19H8.4L18.45,9,17,7.55,7,17.6ZM5,21V16.75L18.45,3.32a2,2,0,0,1,2.83,0l1.4,1.43a1.91,1.91,0,0,1,.58,1.4,1.91,1.91,0,0,1-.58,1.4L9.25,21ZM18.45,9,17,7.55Zm-12,3A5.31,5.31,0,0,0,4.9,8.1,5.31,5.31,0,0,0,1,6.5,5.31,5.31,0,0,0,4.9,4.9,5.31,5.31,0,0,0,6.5,1,5.31,5.31,0,0,0,8.1,4.9,5.31,5.31,0,0,0,12,6.5,5.46,5.46,0,0,0,6.5,12Z\"/>\n",
              "  </svg>\n",
              "    </button>\n",
              "    <script>\n",
              "      (() => {\n",
              "      const buttonEl =\n",
              "        document.querySelector('#id_99981742-05c8-4900-a42e-a1dfb9db14fa button.colab-df-generate');\n",
              "      buttonEl.style.display =\n",
              "        google.colab.kernel.accessAllowed ? 'block' : 'none';\n",
              "\n",
              "      buttonEl.onclick = () => {\n",
              "        google.colab.notebook.generateWithVariable('pandas_df');\n",
              "      }\n",
              "      })();\n",
              "    </script>\n",
              "  </div>\n",
              "\n",
              "    </div>\n",
              "  </div>\n"
            ],
            "application/vnd.google.colaboratory.intrinsic+json": {
              "type": "dataframe",
              "variable_name": "pandas_df"
            }
          },
          "metadata": {},
          "execution_count": 11
        }
      ]
    },
    {
      "cell_type": "code",
      "source": [
        "pandas_df[\"Length of Stay\"] = pandas_df[\"Length of Stay\"].replace(\"120 +\", 121)"
      ],
      "metadata": {
        "id": "WEtyZ1mrakD9"
      },
      "execution_count": null,
      "outputs": []
    },
    {
      "cell_type": "code",
      "source": [
        "pandas_df[\"Length of Stay\"].unique()"
      ],
      "metadata": {
        "id": "WYCpHAwgcmIT",
        "colab": {
          "base_uri": "https://localhost:8080/"
        },
        "outputId": "653677ed-bfb6-4006-d383-d54f307b6b6e"
      },
      "execution_count": null,
      "outputs": [
        {
          "output_type": "execute_result",
          "data": {
            "text/plain": [
              "array(['2', '3', '5', '4', '19', '1', '10', '13', '37', '27', '34', '26',\n",
              "       '6', '32', '12', '14', '18', '7', '20', '51', '8', '80', '11', '9',\n",
              "       '57', 121, '25', '29', '24', '33', '17', '23', '21', '15', '30',\n",
              "       '28', '84', '36', '40', '16', '52', '102', '41', '64', '22', '65',\n",
              "       '31', '55', '38', '46', '45', '58', '35', '69', '59', '49', '95',\n",
              "       '43', '47', '61', '50', '42', '48', '94', '71', '53', '97', '75',\n",
              "       '91', '86', '67', '60', '68', '78', '106', '63', '44', '39', '62',\n",
              "       '83', '117', '90', '101', '99', '96', '112', '70', '79', '109',\n",
              "       '77', '56', '103', '98', '54', '85', '89', '72', '73', '74', '92',\n",
              "       '113', '81', '88', '87', '93', '76', '104', '115', '107', '118',\n",
              "       '66', '114', '100', '105', '108', '116', '110', '82', '111', '119'],\n",
              "      dtype=object)"
            ]
          },
          "metadata": {},
          "execution_count": 11
        }
      ]
    },
    {
      "cell_type": "markdown",
      "source": [],
      "metadata": {
        "id": "TtffKtvGgFUl"
      }
    },
    {
      "cell_type": "code",
      "source": [
        "pandas_df[\"Length of Stay\"] = pandas_df[\"Length of Stay\"].astype(int)"
      ],
      "metadata": {
        "id": "WjZcpHYTdI4z"
      },
      "execution_count": null,
      "outputs": []
    },
    {
      "cell_type": "code",
      "source": [
        "pandas_df.dtypes"
      ],
      "metadata": {
        "colab": {
          "base_uri": "https://localhost:8080/"
        },
        "id": "Kv94HFRsFeVI",
        "outputId": "63fd35b3-7141-48ab-fccb-8c9f391a8497"
      },
      "execution_count": null,
      "outputs": [
        {
          "output_type": "execute_result",
          "data": {
            "text/plain": [
              "Facility ID                     float64\n",
              "Length of Stay                    int64\n",
              "CCS Diagnosis Code              float64\n",
              "CCS Procedure Code              float64\n",
              "APR DRG Code                      int32\n",
              "APR MDC Code                      int32\n",
              "APR Severity of Illness Code      int32\n",
              "Total Charges                   float64\n",
              "Total Costs                     float64\n",
              "AgeIndex                        float64\n",
              "SexIndex                        float64\n",
              "RaceIndex                       float64\n",
              "ERIndex                         float64\n",
              "Pay1Index                       float64\n",
              "AdmIndex                        float64\n",
              "DispIndex                       float64\n",
              "MortIndex                       float64\n",
              "SurgIndex                       float64\n",
              "dtype: object"
            ]
          },
          "metadata": {},
          "execution_count": 15
        }
      ]
    },
    {
      "cell_type": "code",
      "source": [
        "# Set X and y\n",
        "X=pandas_df.drop(\"Total Charges\", axis =1).values\n",
        "y= pandas_df[\"Total Charges\"].values"
      ],
      "metadata": {
        "id": "gXRkyUrnIGOW"
      },
      "execution_count": null,
      "outputs": []
    },
    {
      "cell_type": "code",
      "source": [
        "X[:5]"
      ],
      "metadata": {
        "colab": {
          "base_uri": "https://localhost:8080/"
        },
        "id": "_4OJSnsCIocz",
        "outputId": "0b1c8b3b-a269-415e-d395-7318a9ffe77a"
      },
      "execution_count": null,
      "outputs": [
        {
          "output_type": "execute_result",
          "data": {
            "text/plain": [
              "array([[1.43700e+03, 2.00000e+00, 2.18000e+02, 2.28000e+02, 6.40000e+02,\n",
              "        1.50000e+01, 1.00000e+00, 1.42382e+03, 3.00000e+00, 1.00000e+00,\n",
              "        0.00000e+00, 0.00000e+00, 2.00000e+00, 2.00000e+00, 0.00000e+00,\n",
              "        0.00000e+00, 0.00000e+00],\n",
              "       [1.43700e+03, 3.00000e+00, 2.18000e+02, 2.28000e+02, 6.40000e+02,\n",
              "        1.50000e+01, 1.00000e+00, 3.33577e+03, 3.00000e+00, 1.00000e+00,\n",
              "        0.00000e+00, 0.00000e+00, 2.00000e+00, 2.00000e+00, 0.00000e+00,\n",
              "        0.00000e+00, 0.00000e+00],\n",
              "       [1.43700e+03, 2.00000e+00, 2.18000e+02, 2.28000e+02, 6.40000e+02,\n",
              "        1.50000e+01, 1.00000e+00, 2.71270e+03, 3.00000e+00, 1.00000e+00,\n",
              "        0.00000e+00, 0.00000e+00, 0.00000e+00, 2.00000e+00, 0.00000e+00,\n",
              "        0.00000e+00, 0.00000e+00],\n",
              "       [1.43700e+03, 2.00000e+00, 2.18000e+02, 2.28000e+02, 6.40000e+02,\n",
              "        1.50000e+01, 1.00000e+00, 1.33746e+03, 3.00000e+00, 1.00000e+00,\n",
              "        0.00000e+00, 0.00000e+00, 2.00000e+00, 2.00000e+00, 0.00000e+00,\n",
              "        0.00000e+00, 0.00000e+00],\n",
              "       [1.43700e+03, 3.00000e+00, 2.18000e+02, 2.20000e+02, 6.40000e+02,\n",
              "        1.50000e+01, 1.00000e+00, 1.95285e+03, 3.00000e+00, 1.00000e+00,\n",
              "        0.00000e+00, 0.00000e+00, 2.00000e+00, 2.00000e+00, 0.00000e+00,\n",
              "        0.00000e+00, 0.00000e+00]])"
            ]
          },
          "metadata": {},
          "execution_count": 17
        }
      ]
    },
    {
      "cell_type": "code",
      "source": [
        "y[:5]"
      ],
      "metadata": {
        "colab": {
          "base_uri": "https://localhost:8080/"
        },
        "id": "m-MZtMKUIoIe",
        "outputId": "5a9faa14-a1e6-452f-f392-f0e86e3404d7"
      },
      "execution_count": null,
      "outputs": [
        {
          "output_type": "execute_result",
          "data": {
            "text/plain": [
              "array([2468.95, 6647.18, 5702.18, 2125.58, 3050.58])"
            ]
          },
          "metadata": {},
          "execution_count": 18
        }
      ]
    },
    {
      "cell_type": "code",
      "source": [
        "X_train, X_test, y_train, y_test = train_test_split(X,\n",
        "                                                    y,\n",
        "                                                    random_state=42)"
      ],
      "metadata": {
        "id": "Aeh7VpQPKlmr"
      },
      "execution_count": null,
      "outputs": []
    },
    {
      "cell_type": "code",
      "source": [
        "# Preprocess numerical data for neural network\n",
        "\n",
        "# Create a StandardScaler instances\n",
        "scaler = StandardScaler()\n",
        "\n",
        "# Fit the StandardScaler\n",
        "X_scaler = scaler.fit(X_train)\n",
        "\n",
        "# Scale the data\n",
        "X_train_scaled = X_scaler.transform(X_train)\n",
        "X_test_scaled = X_scaler.transform(X_test)"
      ],
      "metadata": {
        "id": "GaF40xfaNZGL"
      },
      "execution_count": null,
      "outputs": []
    },
    {
      "cell_type": "code",
      "source": [
        "# Define the model - deep neural net, i.e., the number of input features and hidden nodes for each layer.\n",
        "#  Day 2 Act 1 to set up model before training it\n",
        "input_features = len(X_train_scaled[0])\n",
        "hidden_layer_1 = 80\n",
        "hidden_layer_2 = 30\n",
        "nn = tf.keras.models.Sequential()\n",
        "# First hidden layer\n",
        "nn.add(tf.keras.layers.Dense(units=hidden_layer_1, activation=\"linear\", input_dim=input_features))\n",
        "# Second hidden layer\n",
        "nn.add(tf.keras.layers.Dense(units=hidden_layer_2, activation=\"sigmoid\"))\n",
        "# Output layer\n",
        "nn.add(tf.keras.layers.Dense(units=1, activation=\"linear\"))\n",
        "# Check the structure of the model\n",
        "nn.summary()"
      ],
      "metadata": {
        "id": "INlmKm3pdd2p",
        "colab": {
          "base_uri": "https://localhost:8080/"
        },
        "outputId": "0831418e-6040-45ce-a20b-1d5b8207d947"
      },
      "execution_count": null,
      "outputs": [
        {
          "output_type": "stream",
          "name": "stdout",
          "text": [
            "Model: \"sequential_1\"\n",
            "_________________________________________________________________\n",
            " Layer (type)                Output Shape              Param #   \n",
            "=================================================================\n",
            " dense_3 (Dense)             (None, 80)                1440      \n",
            "                                                                 \n",
            " dense_4 (Dense)             (None, 30)                2430      \n",
            "                                                                 \n",
            " dense_5 (Dense)             (None, 1)                 31        \n",
            "                                                                 \n",
            "=================================================================\n",
            "Total params: 3901 (15.24 KB)\n",
            "Trainable params: 3901 (15.24 KB)\n",
            "Non-trainable params: 0 (0.00 Byte)\n",
            "_________________________________________________________________\n"
          ]
        }
      ]
    },
    {
      "cell_type": "code",
      "source": [
        "\n",
        "# Compile the model\n",
        "#nn.compile(loss=\"binary_crossentropy\", optimizer=\"adam\", metrics=[\"accuracy\"])\n",
        "\n",
        "#https://stackoverflow.com/questions/33846069/how-to-set-rmse-cost-function-in-tensorflow\n",
        "#mae=mean absolute error\n",
        "rmse = tf.keras.metrics.RootMeanSquaredError()\n",
        "nn.compile(optimizer=\"sgd\", loss='mean_squared_error',\n",
        "              metrics=[rmse,'mae'])\n",
        "\n"
      ],
      "metadata": {
        "id": "yvkvgvzZdgyJ"
      },
      "execution_count": null,
      "outputs": []
    },
    {
      "cell_type": "code",
      "source": [
        "#https://www.tensorflow.org/api_docs/python/tf/keras/callbacks/ModelCheckpoint\n",
        "#Save weights every 5 epochs\n",
        "model_checkpoint_callback = tf.keras.callbacks.ModelCheckpoint(\n",
        "    filepath=\"\",\n",
        "    #period=5,\n",
        "    save_freq = 5\n",
        "  )"
      ],
      "metadata": {
        "id": "jAqcXqg9DTA0"
      },
      "execution_count": null,
      "outputs": []
    },
    {
      "cell_type": "code",
      "source": [
        "# Train the model\n",
        "fit_model = nn.fit(X_train_scaled, y_train, epochs=10)"
      ],
      "metadata": {
        "colab": {
          "base_uri": "https://localhost:8080/"
        },
        "id": "Q94UMcAiDTMO",
        "outputId": "bbd4273d-2c2f-4148-bccd-ab801dfbe80a"
      },
      "execution_count": null,
      "outputs": [
        {
          "output_type": "stream",
          "name": "stdout",
          "text": [
            "Epoch 1/10\n",
            "10404/10404 [==============================] - 23s 2ms/step - loss: 6382170624.0000 - root_mean_squared_error: 79888.4922 - mae: 33767.8477\n",
            "Epoch 2/10\n",
            "10404/10404 [==============================] - 22s 2ms/step - loss: 6251313664.0000 - root_mean_squared_error: 79065.2500 - mae: 34219.5117\n",
            "Epoch 3/10\n",
            "10404/10404 [==============================] - 23s 2ms/step - loss: 6370265600.0000 - root_mean_squared_error: 79813.9453 - mae: 34727.0664\n",
            "Epoch 4/10\n",
            "10404/10404 [==============================] - 23s 2ms/step - loss: 6674386944.0000 - root_mean_squared_error: 81696.9219 - mae: 35910.7695\n",
            "Epoch 5/10\n",
            "10404/10404 [==============================] - 23s 2ms/step - loss: 6670695424.0000 - root_mean_squared_error: 81674.3281 - mae: 35915.1953\n",
            "Epoch 6/10\n",
            "10404/10404 [==============================] - 22s 2ms/step - loss: 6671324672.0000 - root_mean_squared_error: 81678.1797 - mae: 35912.8203\n",
            "Epoch 7/10\n",
            "10404/10404 [==============================] - 23s 2ms/step - loss: 6672988160.0000 - root_mean_squared_error: 81688.3594 - mae: 35901.1641\n",
            "Epoch 8/10\n",
            "10404/10404 [==============================] - 23s 2ms/step - loss: 6671268864.0000 - root_mean_squared_error: 81677.8359 - mae: 35918.3281\n",
            "Epoch 9/10\n",
            "10404/10404 [==============================] - 24s 2ms/step - loss: 6672139776.0000 - root_mean_squared_error: 81683.1641 - mae: 35911.5156\n",
            "Epoch 10/10\n",
            "10404/10404 [==============================] - 24s 2ms/step - loss: 6673168384.0000 - root_mean_squared_error: 81689.4609 - mae: 35901.9961\n"
          ]
        }
      ]
    },
    {
      "cell_type": "code",
      "source": [
        "# Evaluate the model using the test data\n",
        "model_loss, model_rmse, model_mae = nn.evaluate(X_test_scaled,y_test,verbose=2)\n",
        "print(f\"Loss: {model_loss}, RMSE: {model_rmse}, mae: {model_mae}\")"
      ],
      "metadata": {
        "colab": {
          "base_uri": "https://localhost:8080/"
        },
        "id": "94tdG-iwJvEX",
        "outputId": "1db81a90-470a-47a9-f8af-00b69d911718"
      },
      "execution_count": null,
      "outputs": [
        {
          "output_type": "stream",
          "name": "stdout",
          "text": [
            "3468/3468 - 5s - loss: 6505751552.0000 - root_mean_squared_error: 80658.2422 - mae: 34677.3320 - 5s/epoch - 2ms/step\n",
            "Loss: 6505751552.0, RMSE: 80658.2421875, mae: 34677.33203125\n"
          ]
        }
      ]
    },
    {
      "cell_type": "code",
      "source": [
        "#https://www.tutorialspoint.com/keras/keras_regression_prediction_using_mpl.htm\n",
        "prediction = nn.predict(X_test_scaled)\n",
        "#prediction = prediction.flatten()\n",
        "prediction"
      ],
      "metadata": {
        "colab": {
          "base_uri": "https://localhost:8080/"
        },
        "id": "A7ra-fbuJuW9",
        "outputId": "3e7a2f52-ad6f-466c-b712-cb9d699d8087"
      },
      "execution_count": null,
      "outputs": [
        {
          "output_type": "stream",
          "name": "stdout",
          "text": [
            "3468/3468 [==============================] - 7s 2ms/step\n"
          ]
        },
        {
          "output_type": "execute_result",
          "data": {
            "text/plain": [
              "array([[56993.25 ],\n",
              "       [56993.25 ],\n",
              "       [14500.098],\n",
              "       ...,\n",
              "       [29286.426],\n",
              "       [69900.61 ],\n",
              "       [69900.61 ]], dtype=float32)"
            ]
          },
          "metadata": {},
          "execution_count": 37
        }
      ]
    },
    {
      "cell_type": "code",
      "source": [
        "prediction.flatten()"
      ],
      "metadata": {
        "colab": {
          "base_uri": "https://localhost:8080/"
        },
        "id": "0cFRwb9kMpYn",
        "outputId": "e933aee2-f353-48fb-ca5c-7acaaa23a4e2"
      },
      "execution_count": null,
      "outputs": [
        {
          "output_type": "execute_result",
          "data": {
            "text/plain": [
              "array([56993.25 , 56993.25 , 14500.098, ..., 29286.426, 69900.61 ,\n",
              "       69900.61 ], dtype=float32)"
            ]
          },
          "metadata": {},
          "execution_count": 38
        }
      ]
    },
    {
      "cell_type": "code",
      "source": [
        "y_test_reshape = y_test.reshape(-1, 1)\n",
        "y_test_reshape"
      ],
      "metadata": {
        "colab": {
          "base_uri": "https://localhost:8080/"
        },
        "id": "7isLthaULwWU",
        "outputId": "7a6a98ad-7003-4d4f-c944-9a2585f54873"
      },
      "execution_count": null,
      "outputs": [
        {
          "output_type": "execute_result",
          "data": {
            "text/plain": [
              "array([[10929.13],\n",
              "       [79180.63],\n",
              "       [48595.04],\n",
              "       ...,\n",
              "       [15125.36],\n",
              "       [35820.35],\n",
              "       [71667.38]])"
            ]
          },
          "metadata": {},
          "execution_count": 39
        }
      ]
    },
    {
      "cell_type": "code",
      "source": [
        "#https://www.tensorflow.org/api_docs/python/tf/keras/metrics/R2Score\n",
        "metric = tf.keras.metrics.R2Score()\n",
        "metric.update_state(y_test_reshape, prediction)\n",
        "result = metric.result()\n",
        "print(result)\n",
        "result.numpy()"
      ],
      "metadata": {
        "colab": {
          "base_uri": "https://localhost:8080/"
        },
        "id": "q-lem3hPJt78",
        "outputId": "f24d650d-ab42-4bca-c1f8-ed204c2aa40f"
      },
      "execution_count": null,
      "outputs": [
        {
          "output_type": "stream",
          "name": "stdout",
          "text": [
            "tf.Tensor(0.05245191, shape=(), dtype=float32)\n"
          ]
        },
        {
          "output_type": "execute_result",
          "data": {
            "text/plain": [
              "0.05245191"
            ]
          },
          "metadata": {},
          "execution_count": 40
        }
      ]
    },
    {
      "cell_type": "markdown",
      "source": [
        "Optimization attempt 1"
      ],
      "metadata": {
        "id": "G8bGCZVmJDcq"
      }
    },
    {
      "cell_type": "code",
      "source": [
        "from sklearn.tree import DecisionTreeRegressor\n",
        "dt = DecisionTreeRegressor(max_depth=12)\n",
        "dt.fit(X_train, y_train)\n",
        "predictions = dt.predict(X_test_scaled)\n",
        "dt.score(X_test_scaled, y_test)"
      ],
      "metadata": {
        "colab": {
          "base_uri": "https://localhost:8080/"
        },
        "id": "_m_ZlpljOhT2",
        "outputId": "6a70eef7-8cea-4526-b2d8-76221b828a71"
      },
      "execution_count": null,
      "outputs": [
        {
          "output_type": "execute_result",
          "data": {
            "text/plain": [
              "-0.2569800678770544"
            ]
          },
          "metadata": {},
          "execution_count": 41
        }
      ]
    },
    {
      "cell_type": "markdown",
      "source": [
        "Optimization attempt 2"
      ],
      "metadata": {
        "id": "-Iqgi6ZqYUks"
      }
    },
    {
      "cell_type": "code",
      "source": [
        "#Try linear regression machine learning\n",
        "#https://www.turing.com/kb/scikit-learn-cheatsheet-methods-for-classification-and-regression\n",
        "#https://scikit-learn.org/stable/modules/generated/sklearn.linear_model.LinearRegression.html\n",
        "from sklearn.linear_model import LinearRegression\n",
        "lr = LinearRegression()\n",
        "lr.fit(X_train_scaled, y_train)\n",
        "predictions = lr.predict(X_test_scaled)\n",
        "lr.score(X_test_scaled, y_test)"
      ],
      "metadata": {
        "colab": {
          "base_uri": "https://localhost:8080/"
        },
        "id": "kbSafsJ8NZRN",
        "outputId": "b390ba2e-30a2-4048-b17a-6e389358202f"
      },
      "execution_count": null,
      "outputs": [
        {
          "output_type": "execute_result",
          "data": {
            "text/plain": [
              "0.3436209143524821"
            ]
          },
          "metadata": {},
          "execution_count": 42
        }
      ]
    },
    {
      "cell_type": "code",
      "source": [
        "#Alternate optimizers\n",
        "#https://www.tensorflow.org/api_docs/python/tf/keras/optimizers"
      ],
      "metadata": {
        "id": "HAByNo99GoNn"
      },
      "execution_count": null,
      "outputs": []
    },
    {
      "cell_type": "code",
      "source": [],
      "metadata": {
        "id": "8_saSLi8Ie_1"
      },
      "execution_count": null,
      "outputs": []
    }
  ]
}